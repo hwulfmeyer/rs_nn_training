{
 "cells": [
  {
   "cell_type": "code",
   "execution_count": null,
   "metadata": {},
   "outputs": [],
   "source": [
    "import os, csv\n",
    "import tensorflow as tf\n",
    "from tqdm import tqdm\n",
    "from lxml import etree\n",
    "from PIL import Image, ImageDraw\n",
    "\n",
    "from object_detection.utils import dataset_util\n",
    "from object_detection.utils import label_map_util\n",
    "\n",
    "import warnings\n",
    "warnings.simplefilter(action='ignore', category=FutureWarning)"
   ]
  },
  {
   "cell_type": "code",
   "execution_count": null,
   "metadata": {},
   "outputs": [],
   "source": [
    "path = '/media/data/LocalizationData/Validation'\n",
    "label_map_path = '/media/data/LocalizationData/TFObjectDetection/data/copter_label_map.pbtxt'\n",
    "label_map_dict = label_map_util.get_label_map_dict(label_map_path)\n",
    "exclude_classes = [2,3,5,6]"
   ]
  },
  {
   "cell_type": "code",
   "execution_count": null,
   "metadata": {},
   "outputs": [],
   "source": [
    "def parseXML(file):\n",
    "    with tf.gfile.GFile(file, 'r') as fid:\n",
    "        xml_str = fid.read()\n",
    "    xml = etree.fromstring(xml_str)\n",
    "    return dataset_util.recursive_parse_xml_to_dict(xml)\n",
    "\n",
    "def areClassesSupported(data):\n",
    "    for obj in data['object']:\n",
    "        if obj['name'] not in label_map_dict.keys() or \\\n",
    "           label_map_dict[obj['name']] in exclude_classes:\n",
    "            return False\n",
    "    return True"
   ]
  },
  {
   "cell_type": "code",
   "execution_count": null,
   "metadata": {},
   "outputs": [],
   "source": [
    "img_out_path = \"/media/data/LocalizationData/Output/ValidationSecondStage/c1478p/\"\n",
    "os.makedirs(img_out_path, exist_ok=True)\n",
    "\n",
    "jpgs = []\n",
    "for root, dirs, files in os.walk(path):\n",
    "    for f in files:\n",
    "        if f.endswith(\".jpg\"):\n",
    "            jpgs.append(root+'/'+f)\n",
    "jpgs.sort()\n",
    "i = 0\n",
    "csv_rows = []\n",
    "for jpg in tqdm(jpgs):\n",
    "    xml = jpg.replace(\".jpg\",\".xml\")\n",
    "    data = parseXML(xml)['annotation']\n",
    "    if not areClassesSupported(data):\n",
    "        continue\n",
    "        \n",
    "    image = Image.open(jpg)\n",
    "    j = 0\n",
    "    for obj in data['object']:\n",
    "        xmin = int(obj['bndbox']['xmin'])\n",
    "        ymin = int(obj['bndbox']['ymin'])\n",
    "        xmax = int(obj['bndbox']['xmax'])\n",
    "        ymax = int(obj['bndbox']['ymax'])\n",
    "        subclass_text = obj['name'].encode('utf8')\n",
    "        subclass = label_map_dict[obj['name']]\n",
    "        rot = float(obj['pose'])\n",
    "        \n",
    "        roi = image.crop((xmin, ymin, xmax, ymax))\n",
    "        roiname = \"img\"+str(i)+\"-obj\"+str(j)+\".png\"\n",
    "        roi.save(img_out_path+roiname)\n",
    "               \n",
    "        csv_rows.append([roiname,subclass_text,subclass,rot])\n",
    "        j+=1\n",
    "    i+=1\n",
    "        \n",
    "with open(img_out_path+\"0groundtruth.csv\", 'w') as csvfile:\n",
    "    spamwriter = csv.writer(csvfile, delimiter=',',\n",
    "                            quotechar='\"', quoting=csv.QUOTE_MINIMAL)\n",
    "    for row in csv_rows:\n",
    "        spamwriter.writerow(row)\n",
    "print(\"Number of objects: \" + str(len(csv_rows)))"
   ]
  },
  {
   "cell_type": "code",
   "execution_count": null,
   "metadata": {},
   "outputs": [],
   "source": []
  }
 ],
 "metadata": {
  "kernelspec": {
   "display_name": "Python 3",
   "language": "python",
   "name": "python3"
  },
  "language_info": {
   "codemirror_mode": {
    "name": "ipython",
    "version": 3
   },
   "file_extension": ".py",
   "mimetype": "text/x-python",
   "name": "python",
   "nbconvert_exporter": "python",
   "pygments_lexer": "ipython3",
   "version": "3.5.2"
  }
 },
 "nbformat": 4,
 "nbformat_minor": 2
}
