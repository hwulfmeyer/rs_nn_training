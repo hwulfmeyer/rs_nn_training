{
 "cells": [
  {
   "cell_type": "code",
   "execution_count": null,
   "metadata": {
    "collapsed": true
   },
   "outputs": [],
   "source": [
    "import sys\n",
    "#Fix problem with ros python path\n",
    "sys.path.remove('/opt/ros/kinetic/lib/python2.7/dist-packages')"
   ]
  },
  {
   "cell_type": "code",
   "execution_count": null,
   "metadata": {
    "collapsed": true
   },
   "outputs": [],
   "source": [
    "import numpy as np\n",
    "import cv2\n",
    "# Install opencv-contrib-python for bgsegm\n",
    "from matplotlib import pyplot as plt\n",
    "\n",
    "%matplotlib inline"
   ]
  },
  {
   "cell_type": "code",
   "execution_count": null,
   "metadata": {
    "collapsed": true
   },
   "outputs": [],
   "source": [
    "path = \"/media/data/LocalizationData/\""
   ]
  },
  {
   "cell_type": "code",
   "execution_count": null,
   "metadata": {
    "collapsed": true
   },
   "outputs": [],
   "source": [
    "def saveObjects(frame, contours, frameNum, size, debug=False):\n",
    "    objCnt = 0\n",
    "    for cnt in contours:\n",
    "        x,y,w,h = cv2.boundingRect(cnt)\n",
    "        if cv2.contourArea(cnt) > size:\n",
    "            #cv2.rectangle(comb,(x,y),(x+w,y+h),(0,0,255),2)\n",
    "            roi = frame[y:y+h, x:x+w]\n",
    "            cv2.imwrite(path+\"Output/frame\"+str(frameNum)+\"-object\"+str(objCnt)+\".png\", roi)\n",
    "            if debug:\n",
    "                plt.imshow(cv2.cvtColor(roi, cv2.COLOR_BGR2RGB))\n",
    "                plt.show()\n",
    "            objCnt = objCnt+1\n",
    "            \n",
    "def applyAlphaMask(frame, mask):\n",
    "    comb = cv2.bitwise_and(frame,frame,mask = mask)\n",
    "    tmp = cv2.cvtColor(comb, cv2.COLOR_BGR2GRAY)\n",
    "    _,alpha = cv2.threshold(tmp,0,255,cv2.THRESH_BINARY)\n",
    "    b, g, r = cv2.split(comb)\n",
    "    rgba = [b,g,r, alpha]\n",
    "    comb = cv2.merge(rgba,4)\n",
    "    cv2.imwrite(\"output/test.png\", comb)\n",
    "    return comb\n",
    "\n",
    "def debugVision(frame, background, difference, mask_gray, mask, mask_filtered, mask_contours):\n",
    "    cv2.imwrite(path+\"Debug/1frame.png\", frame)\n",
    "    cv2.imwrite(path+\"Debug/2background.png\", background)\n",
    "    cv2.imwrite(path+\"Debug/3difference.png\", difference)\n",
    "    cv2.imwrite(path+\"Debug/4mask_gray.png\", mask_gray)\n",
    "    cv2.imwrite(path+\"Debug/5mask.png\", mask)\n",
    "    cv2.imwrite(path+\"Debug/6mask_filtered.png\", mask_filtered)\n",
    "    cv2.imwrite(path+\"Debug/7mask_contours.png\", mask_contours)"
   ]
  },
  {
   "cell_type": "code",
   "execution_count": null,
   "metadata": {
    "collapsed": false
   },
   "outputs": [],
   "source": [
    "cap = cv2.VideoCapture(path+'Videos/CopterWithLED/background6.avi')\n",
    "cap2 = cv2.VideoCapture(path+'Videos/CopterWithLED/copters7.avi')\n",
    "kernel = cv2.getStructuringElement(cv2.MORPH_ELLIPSE,(3,3))\n",
    "#fgbg = cv2.bgsegm.createBackgroundSubtractorCNT(30,False,50,True)\n",
    "#fgbg = cv2.bgsegm.createBackgroundSubtractorGMG(20,0.9)\n",
    "fgbg = cv2.bgsegm.createBackgroundSubtractorMOG()\n",
    "\n",
    "# Init background\n",
    "for i in range(20):\n",
    "    ret, frame = cap.read()\n",
    "    fgbg.apply(frame)\n",
    "\n",
    "# Object segmentation\n",
    "#while(1):\n",
    "for i in range(10):\n",
    "    ret, frame = cap2.read()\n",
    "    if ret == False:\n",
    "        break\n",
    "    fgmask = fgbg.apply(frame,learningRate=0)\n",
    "    fgmask = cv2.morphologyEx(fgmask, cv2.MORPH_OPEN, kernel)\n",
    "    mask = cv2.threshold(fgmask, 127, 255, cv2.THRESH_BINARY)[1]    \n",
    "    comb = applyAlphaMask(frame,mask)    \n",
    "    im2, contours, hierarchy = cv2.findContours(mask,cv2.RETR_EXTERNAL,cv2.CHAIN_APPROX_SIMPLE)\n",
    "    cv2.drawContours(frame,contours,-1,(0,255,0),3)\n",
    "\n",
    "    #saveObjects(comb, contours, i, 2400)\n",
    "    \n",
    "#cv2.imshow('orig',frame)\n",
    "#cv2.imshow('mask',fgmask)\n",
    "#cv2.imshow('comb',comb)\n",
    "#background = fgbg.getBackgroundImage()\n",
    "#plt.imshow(background)\n",
    "plt.imshow(cv2.cvtColor(comb, cv2.COLOR_BGR2RGB))\n",
    "plt.imshow(mask, cmap='gray')\n",
    "plt.show()\n",
    "\n",
    "cap.release()\n",
    "cap2.release()\n",
    "#cv2.destroyAllWindows()"
   ]
  },
  {
   "cell_type": "code",
   "execution_count": null,
   "metadata": {
    "collapsed": false,
    "scrolled": true
   },
   "outputs": [],
   "source": [
    "kernel = cv2.getStructuringElement(cv2.MORPH_ELLIPSE,(5,5))\n",
    "\n",
    "def denoise(frame):\n",
    "    #frame = cv2.medianBlur(frame,3)\n",
    "    #frame = cv2.GaussianBlur(frame,(3,3),0)    \n",
    "    return frame\n",
    "\n",
    "cap = cv2.VideoCapture(path+'Videos/CopterWithLED/background6.avi')\n",
    "cap2 = cv2.VideoCapture(path+'Videos/CopterWithLED/copters7.avi')\n",
    "\n",
    "for i in range(15):\n",
    "    ret,frame = cap.read()\n",
    "    background = denoise(frame)\n",
    "    \n",
    "for i in range(1):\n",
    "    ret, frame = cap2.read()\n",
    "\n",
    "#cv2.imwrite(\"output/frame\"+str(i)+\".png\", frame)\n",
    "\n",
    "frame = denoise(frame)\n",
    "fgmask = cv2.absdiff(background,frame)\n",
    "fgmask_gray = cv2.cvtColor(fgmask, cv2.COLOR_RGB2GRAY)\n",
    "ret, mask = cv2.threshold(fgmask_gray, 18, 255, cv2.THRESH_BINARY)\n",
    "#fgmask_gray = cv2.GaussianBlur(fgmask_gray,(5,5),0)\n",
    "#ret,mask = cv2.threshold(blur,0,255,cv2.THRESH_BINARY+cv2.THRESH_OTSU)\n",
    "#mask = cv2.adaptiveThreshold(fgmask_gray,255,cv2.ADAPTIVE_THRESH_MEAN_C,\\\n",
    "#        cv2.THRESH_BINARY,17,-3)\n",
    "mask_filtered = cv2.morphologyEx(mask, cv2.MORPH_OPEN, kernel)\n",
    "mask_filtered = cv2.morphologyEx(mask_filtered, cv2.MORPH_CLOSE, kernel)\n",
    "comb = applyAlphaMask(frame,mask)\n",
    "im2, contours, hierarchy = cv2.findContours(mask_filtered,cv2.RETR_CCOMP,cv2.CHAIN_APPROX_SIMPLE)\n",
    "cv2.drawContours(frame,contours,-1,(0,255,0),3)\n",
    "\n",
    "plt.imshow(cv2.cvtColor(background, cv2.COLOR_BGR2RGB))\n",
    "plt.show()\n",
    "plt.imshow(cv2.cvtColor(frame, cv2.COLOR_BGR2RGB))\n",
    "plt.show()\n",
    "plt.imshow(cv2.cvtColor(fgmask, cv2.COLOR_BGR2RGB))\n",
    "plt.show()\n",
    "cv2.imwrite(\"output/diff.png\", fgmask)\n",
    "r,g,b = cv2.split(fgmask)\n",
    "cv2.imwrite(\"output/diff_r.png\", r)\n",
    "cv2.imwrite(\"output/diff_g.png\", g)\n",
    "cv2.imwrite(\"output/diff_b.png\", b)\n",
    "plt.imshow(fgmask_gray, cmap='gray')\n",
    "plt.show()\n",
    "cv2.imwrite(\"output/diff_gray.png\", fgmask_gray)\n",
    "plt.imshow(mask, cmap='gray')\n",
    "plt.show()\n",
    "plt.imshow(mask_filtered, cmap='gray')\n",
    "plt.show()\n",
    "\n",
    "\n",
    "cap.release()\n",
    "cap2.release()"
   ]
  },
  {
   "cell_type": "code",
   "execution_count": null,
   "metadata": {
    "collapsed": false
   },
   "outputs": [],
   "source": [
    "## Spheros\n",
    "\n",
    "kernel = cv2.getStructuringElement(cv2.MORPH_ELLIPSE,(5,5))\n",
    "\n",
    "cap = cv2.VideoCapture(path+'Videos/Sphero/backgroundspheros.avi')\n",
    "cap2 = cv2.VideoCapture(path+'Videos/Sphero/Raw/sphero2.avi')\n",
    "\n",
    "for i in range(1):\n",
    "    ret,background = cap.read()\n",
    " \n",
    "for i in range(0,100000):\n",
    "    ret, frame = cap2.read()\n",
    "    if ret == False:\n",
    "        break\n",
    "\n",
    "    #cv2.imwrite(path+\"Output/frame\"+str(i)+\".png\", frame)\n",
    "\n",
    "    fgmask = cv2.absdiff(background,frame)\n",
    "    fgmask_gray = cv2.cvtColor(fgmask, cv2.COLOR_RGB2GRAY)\n",
    "    ret, mask = cv2.threshold(fgmask_gray, 20, 255, cv2.THRESH_BINARY)\n",
    "    mask_filtered = mask\n",
    "    #mask_filtered = cv2.dilate(mask_filtered,kernel,iterations = 1)\n",
    "    mask_filtered = cv2.morphologyEx(mask_filtered, cv2.MORPH_OPEN, kernel)\n",
    "    mask_filtered = cv2.morphologyEx(mask_filtered, cv2.MORPH_CLOSE, kernel)\n",
    "    comb = applyAlphaMask(frame,mask_filtered)\n",
    "\n",
    "    im2, contours, hierarchy = cv2.findContours(mask_filtered,cv2.RETR_EXTERNAL,cv2.CHAIN_APPROX_SIMPLE)\n",
    "    saveObjects(comb, contours, i, 300, False)\n",
    "    \n",
    "    cv2.imshow('frame',mask_filtered)\n",
    "    if cv2.waitKey(1) & 0xFF == ord('q'):\n",
    "        break\n",
    "\n",
    "cap.release()\n",
    "cap2.release()\n",
    "cv2.destroyAllWindows()"
   ]
  },
  {
   "cell_type": "code",
   "execution_count": null,
   "metadata": {
    "collapsed": true
   },
   "outputs": [],
   "source": [
    "## Copter\n",
    "\n",
    "kernel = cv2.getStructuringElement(cv2.MORPH_ELLIPSE,(7,7))\n",
    "\n",
    "cap = cv2.VideoCapture(path+'Videos/CopterWithLED/background6.avi')\n",
    "cap2 = cv2.VideoCapture(path+'Videos/CopterWithLED/copters7.avi')\n",
    "\n",
    "for i in range(30):\n",
    "    ret,background = cap.read()\n",
    "#background = cv2.imread(path+'Videos/CopterWithLED/Background.png',cv2.IMREAD_COLOR)\n",
    " \n",
    "for i in range(10):\n",
    "    ret, frame = cap2.read()\n",
    "    if ret == False:\n",
    "        break\n",
    "\n",
    "    #cv2.imwrite(path+\"Output/frame\"+str(i)+\".png\", frame)\n",
    "\n",
    "    fgmask = cv2.absdiff(background,frame)\n",
    "    fgmask_gray = cv2.cvtColor(fgmask, cv2.COLOR_RGB2GRAY)\n",
    "    ret, mask = cv2.threshold(fgmask_gray, 19, 255, cv2.THRESH_BINARY)\n",
    "    mask_filtered = mask\n",
    "    #mask_filtered = cv2.morphologyEx(mask_filtered, cv2.MORPH_OPEN, kernel)\n",
    "    mask_filtered = cv2.morphologyEx(mask_filtered, cv2.MORPH_CLOSE, kernel)\n",
    "\n",
    "    im2, contours, hierarchy = cv2.findContours(mask_filtered,cv2.RETR_EXTERNAL,cv2.CHAIN_APPROX_SIMPLE)\n",
    "    mask_contours = np.zeros(mask_filtered.shape, np.uint8)\n",
    "    cv2.drawContours(mask_contours, contours, -1, (255,255,255),cv2.FILLED)\n",
    "    \n",
    "    comb = applyAlphaMask(frame,mask_contours)\n",
    "    \n",
    "    saveObjects(comb, contours, i, 3000, False)\n",
    "    debugVision(frame,background,fgmask,fgmask_gray,mask,mask_filtered,mask_contours)\n",
    "\n",
    "cap.release()\n",
    "cap2.release()"
   ]
  },
  {
   "cell_type": "code",
   "execution_count": null,
   "metadata": {
    "collapsed": true
   },
   "outputs": [],
   "source": []
  }
 ],
 "metadata": {
  "kernelspec": {
   "display_name": "Python 3",
   "language": "python",
   "name": "python3"
  },
  "language_info": {
   "codemirror_mode": {
    "name": "ipython",
    "version": 3
   },
   "file_extension": ".py",
   "mimetype": "text/x-python",
   "name": "python",
   "nbconvert_exporter": "python",
   "pygments_lexer": "ipython3",
   "version": "3.5.2"
  }
 },
 "nbformat": 4,
 "nbformat_minor": 2
}
