{
 "cells": [
  {
   "cell_type": "code",
   "execution_count": 1,
   "metadata": {},
   "outputs": [
    {
     "name": "stderr",
     "output_type": "stream",
     "text": [
      "/usr/lib/python3.6/site-packages/h5py/__init__.py:36: FutureWarning: Conversion of the second argument of issubdtype from `float` to `np.floating` is deprecated. In future, it will be treated as `np.float64 == np.dtype(float).type`.\n",
      "  from ._conv import register_converters as _register_converters\n"
     ]
    }
   ],
   "source": [
    "%load_ext autoreload\n",
    "import os\n",
    "import tensorflow as tf\n",
    "from PIL import Image\n",
    "from CNNRobotLocalisation.Utils.file_utils import *\n",
    "from CNNRobotLocalisation.Utils.tf_record_utils import *"
   ]
  },
  {
   "cell_type": "code",
   "execution_count": 4,
   "metadata": {},
   "outputs": [],
   "source": [
    "#PATH = '/media/data/LocalizationDataNew/Validation/180420/200PerType2'\n",
    "PATH = '/media/data/LocalizationDataNew/Remote/data/exp3'\n",
    "OUT_PATH = '/media/data/LocalizationDataNew/Output/CompositorCrops'\n",
    "TMP_PATH = '/tmp/CompositorCropExtraction'\n",
    "os.makedirs(OUT_PATH, exist_ok=True)\n",
    "os.makedirs(TMP_PATH, exist_ok=True)"
   ]
  },
  {
   "cell_type": "code",
   "execution_count": 19,
   "metadata": {},
   "outputs": [
    {
     "name": "stdout",
     "output_type": "stream",
     "text": [
      "/media/data/LocalizationDataNew/Remote/data/exp3/train/compositor_amount_1000.record\n",
      "42 36.0\n",
      "42 36.0\n",
      "42 36.0\n",
      "42 36.0\n",
      "42 58.0\n",
      "42 58.0\n",
      "42 58.0\n",
      "42 58.0\n",
      "27 66.0\n",
      "27 66.0\n",
      "27 66.0\n",
      "27 66.0\n",
      "24 18.0\n",
      "24 18.0\n",
      "24 18.0\n",
      "24 18.0\n",
      "37 288.0\n",
      "37 288.0\n",
      "37 288.0\n",
      "37 288.0\n",
      "20 25.0\n",
      "20 25.0\n",
      "20 25.0\n",
      "20 25.0\n",
      "39 331.0\n",
      "39 331.0\n",
      "39 331.0\n",
      "39 331.0\n",
      "36 351.0\n",
      "36 351.0\n",
      "36 351.0\n",
      "36 351.0\n",
      "42 335.0\n",
      "42 335.0\n",
      "42 335.0\n",
      "42 335.0\n",
      "42 255.0\n",
      "42 255.0\n",
      "42 255.0\n",
      "42 255.0\n",
      "37 256.0\n",
      "37 256.0\n",
      "37 256.0\n",
      "37 256.0\n",
      "43 174.0\n",
      "43 174.0\n",
      "43 174.0\n",
      "43 174.0\n",
      "20 35.0\n",
      "20 35.0\n",
      "20 35.0\n",
      "20 35.0\n",
      "43 297.0\n",
      "43 297.0\n",
      "43 297.0\n",
      "43 297.0\n",
      "44 336.0\n",
      "44 336.0\n",
      "44 336.0\n",
      "44 336.0\n",
      "35 158.0\n",
      "35 158.0\n",
      "35 158.0\n",
      "35 158.0\n",
      "43 120.0\n",
      "43 120.0\n",
      "43 120.0\n",
      "43 120.0\n",
      "43 136.0\n",
      "43 136.0\n",
      "43 136.0\n",
      "43 136.0\n",
      "42 152.0\n",
      "42 152.0\n",
      "42 152.0\n",
      "42 152.0\n",
      "CPU times: user 564 ms, sys: 23.3 ms, total: 587 ms\n",
      "Wall time: 596 ms\n"
     ]
    }
   ],
   "source": [
    "%%time\n",
    "%autoreload\n",
    "\n",
    "files = get_recursive_file_list(PATH)\n",
    "imgs, cats, rots, debs = tf_record_extract_crops(files, 4, 0.15, 0.10)\n",
    "for img, cat, rot, deb in zip(imgs, cats, rots, debs):\n",
    "    print(cat, rot)\n",
    "    out_dir = deb['src_record'].replace(PATH,OUT_PATH).replace('.record','/')\n",
    "    crop_file = out_dir + deb['filename'].replace('.jpg','-{}.png'.format(deb['crop_num']))\n",
    "    os.makedirs(out_dir,exist_ok=True)\n",
    "    img.save(crop_file)\n"
   ]
  },
  {
   "cell_type": "code",
   "execution_count": null,
   "metadata": {},
   "outputs": [],
   "source": []
  }
 ],
 "metadata": {
  "kernelspec": {
   "display_name": "Python 3",
   "language": "python",
   "name": "python3"
  },
  "language_info": {
   "codemirror_mode": {
    "name": "ipython",
    "version": 3
   },
   "file_extension": ".py",
   "mimetype": "text/x-python",
   "name": "python",
   "nbconvert_exporter": "python",
   "pygments_lexer": "ipython3",
   "version": "3.6.5"
  }
 },
 "nbformat": 4,
 "nbformat_minor": 2
}
