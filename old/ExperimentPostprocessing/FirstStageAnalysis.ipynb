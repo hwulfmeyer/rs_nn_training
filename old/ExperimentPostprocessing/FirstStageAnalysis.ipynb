{
 "cells": [
  {
   "cell_type": "code",
   "execution_count": null,
   "metadata": {},
   "outputs": [],
   "source": [
    "import os, csv\n",
    "from tqdm import tqdm\n",
    "from tensorboard_utils import *\n",
    "from matplotlib import pyplot as plt"
   ]
  },
  {
   "cell_type": "code",
   "execution_count": null,
   "metadata": {},
   "outputs": [],
   "source": [
    "LOG_DIR = '/home/lhoyer/cnn_robot_localization/training/first_stage_2/exp0'\n",
    "OUT_DIR = '/home/lhoyer/cnn_robot_localization/training_processed'\n",
    "\n",
    "recfiles = []\n",
    "for root, subdirs, files in os.walk(LOG_DIR):\n",
    "    for file in files:\n",
    "        recfiles.append(root+'/'+file)\n",
    "recfiles.sort()\n",
    "\n",
    "tensorboards = []\n",
    "for file in recfiles:\n",
    "    if 'tfevents' not in file:\n",
    "        continue\n",
    "    tensorboards.append(readTfEvents(file))"
   ]
  },
  {
   "cell_type": "code",
   "execution_count": null,
   "metadata": {},
   "outputs": [],
   "source": [
    "for r in ['copter','sphero','youbot']:\n",
    "    for i,t in enumerate(tensorboards):\n",
    "        x = t['Epoch']\n",
    "        y = t['PascalBoxes_PerformanceByCategory/AP@0.5IOU/{}'.format(r)]\n",
    "        plt.plot(x,y, label= 'Rep {}'.format(i))\n",
    "    plt.ylabel('Validation accuracy')\n",
    "    plt.xlabel('Epoch')\n",
    "    plt.legend(loc='lower right')\n",
    "    plt.title(r)\n",
    "    plt.show()"
   ]
  },
  {
   "cell_type": "code",
   "execution_count": null,
   "metadata": {},
   "outputs": [],
   "source": [
    "for r in ['copter','sphero','youbot']:\n",
    "    for i,t in enumerate(tensorboards):\n",
    "        t = filterRange(t)\n",
    "        x = t['Epoch']\n",
    "        y = t['PascalBoxes_PerformanceByCategory/AP@0.5IOU/{}'.format(r)]\n",
    "        plt.plot(x,y, label= 'Rep {}'.format(i))\n",
    "    plt.ylabel('Validation accuracy')\n",
    "    plt.xlabel('Epoch')\n",
    "    plt.legend(loc='lower right')\n",
    "    plt.title(r)\n",
    "    plt.show()"
   ]
  },
  {
   "cell_type": "code",
   "execution_count": null,
   "metadata": {},
   "outputs": [],
   "source": [
    "for r in ['copter','sphero','youbot']:\n",
    "    ys = []\n",
    "    for i,t in enumerate(tensorboards):\n",
    "        t = filterRange(t)\n",
    "        y = t['PascalBoxes_PerformanceByCategory/AP@0.5IOU/{}'.format(r)]\n",
    "        ys.append(y)\n",
    "    plt.boxplot(ys)\n",
    "    plt.ylabel('Validation accuracy')\n",
    "    plt.xlabel('Epoch')\n",
    "    plt.legend(loc='lower right')\n",
    "    plt.title(r)\n",
    "    plt.show()"
   ]
  },
  {
   "cell_type": "code",
   "execution_count": null,
   "metadata": {},
   "outputs": [],
   "source": [
    "ys = []\n",
    "labels = ['copter','sphero','youbot']\n",
    "for r in labels:\n",
    "    ys.append([])\n",
    "    for i,t in enumerate(tensorboards):\n",
    "        t = filterRange(t)\n",
    "        y = t['PascalBoxes_PerformanceByCategory/AP@0.5IOU/{}'.format(r)]\n",
    "        ys[-1].extend(y)\n",
    "plt.boxplot(ys, labels=labels)\n",
    "plt.ylabel('Validation accuracy')\n",
    "plt.xlabel('Epoch')\n",
    "plt.legend(loc='lower right')\n",
    "plt.title('Title')\n",
    "plt.show()"
   ]
  },
  {
   "cell_type": "code",
   "execution_count": null,
   "metadata": {},
   "outputs": [],
   "source": []
  }
 ],
 "metadata": {
  "kernelspec": {
   "display_name": "Python 3",
   "language": "python",
   "name": "python3"
  },
  "language_info": {
   "codemirror_mode": {
    "name": "ipython",
    "version": 3
   },
   "file_extension": ".py",
   "mimetype": "text/x-python",
   "name": "python",
   "nbconvert_exporter": "python",
   "pygments_lexer": "ipython3",
   "version": "3.5.2"
  }
 },
 "nbformat": 4,
 "nbformat_minor": 2
}
