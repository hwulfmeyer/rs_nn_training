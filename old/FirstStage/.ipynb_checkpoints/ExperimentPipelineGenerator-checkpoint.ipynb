{
 "cells": [
  {
   "cell_type": "code",
   "execution_count": null,
   "metadata": {},
   "outputs": [],
   "source": [
    "import os\n",
    "\n",
    "from CNNRobotLocalisation.DataPreprocessing.experiment_definitions import *"
   ]
  },
  {
   "cell_type": "code",
   "execution_count": null,
   "metadata": {},
   "outputs": [],
   "source": [
    "MODEL = \"ssd_mobilenet2\"\n",
    "CONFIG_PATH = MODEL+\"/\"\n",
    "TF_RECORD_PATH = \"/home/lhoyer/cnn_robot_localization/data/\"\n",
    "TRAINING_PATH = \"/home/lhoyer/cnn_robot_localization/training/first_stage/\"+MODEL+'/'\n",
    "BASE_PIPELINE_FILE = MODEL+'_base_pipeline.config'\n",
    "LABEL_MAP_FILE = '/home/lhoyer/cnn_robot_localization/CNNRobotLocalisation/LabelMaps/robot_label_map.pbtxt'\n",
    "WIDTH = 400\n",
    "HEIGHT = 300\n",
    "NUM_EVAL = 500\n",
    "NUM_VIZ = 50"
   ]
  },
  {
   "cell_type": "code",
   "execution_count": null,
   "metadata": {},
   "outputs": [],
   "source": [
    "with open(BASE_PIPELINE_FILE) as f:\n",
    "    base_config = ''.join(f.readlines())\n",
    "with open('pattern_train.txt') as f:\n",
    "    pattern_train = ''.join(f.readlines())\n",
    "\n",
    "exps = []\n",
    "exps.append(create_background_diversity_experiment()[1])\n",
    "\n",
    "for exp_i, exp in enumerate(exps):\n",
    "    for e in exp:\n",
    "        exp_str = 'exp'+str(exp_i+1)\n",
    "        size_str = '_'+str(WIDTH)+'x'+str(HEIGHT)\n",
    "        format_dict = {\n",
    "            'WIDTH': WIDTH,\n",
    "            'HEIGHT': HEIGHT,\n",
    "            'CHECKPOINT': '\"'+TRAINING_PATH + 'base_model/model.ckpt\"',\n",
    "            'TRAIN_RECORD': '\"'+TF_RECORD_PATH + exp_str + '/train/' + e['name'] + size_str + '.record\"',\n",
    "            'EVAL_RECORD': '\"'+TF_RECORD_PATH + exp_str + '/eval/' + e['name'] + size_str + '.record\"',\n",
    "            'CHECKPOINT': '\"'+TRAINING_PATH + 'base_model/model.ckpt\"',\n",
    "            'LABEL_MAP': LABEL_MAP_FILE,\n",
    "            'TRAIN_DIR': '\"'+TRAINING_PATH+e['name']+'/train/\"',\n",
    "            'PIPELINE': os.getcwd()+'/'+CONFIG_PATH+exp_str+'_'+e['name']+'.config'\n",
    "        }\n",
    "        \n",
    "        with open(format_dict['PIPELINE'], 'w') as f:\n",
    "            f.write(base_config.format(**format_dict))\n",
    "        train_name = 'train_'+exp_str+'_'+e['name']\n",
    "        with open(CONFIG_PATH+train_name, 'w') as f:\n",
    "            f.write(pattern_train.format(**format_dict))  "
   ]
  },
  {
   "cell_type": "code",
   "execution_count": null,
   "metadata": {},
   "outputs": [],
   "source": []
  }
 ],
 "metadata": {
  "kernelspec": {
   "display_name": "Python 3",
   "language": "python",
   "name": "python3"
  },
  "language_info": {
   "codemirror_mode": {
    "name": "ipython",
    "version": 3
   },
   "file_extension": ".py",
   "mimetype": "text/x-python",
   "name": "python",
   "nbconvert_exporter": "python",
   "pygments_lexer": "ipython3",
   "version": "3.6.5"
  }
 },
 "nbformat": 4,
 "nbformat_minor": 2
}
