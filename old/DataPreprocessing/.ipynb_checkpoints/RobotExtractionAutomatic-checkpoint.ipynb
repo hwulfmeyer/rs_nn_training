{
 "cells": [
  {
   "cell_type": "code",
   "execution_count": null,
   "metadata": {},
   "outputs": [],
   "source": [
    "import sys\n",
    "#Fix problem with ros python path\n",
    "sys.path.remove('/opt/ros/kinetic/lib/python2.7/site-packages')"
   ]
  },
  {
   "cell_type": "code",
   "execution_count": null,
   "metadata": {},
   "outputs": [],
   "source": [
    "import numpy as np\n",
    "import re\n",
    "import shutil\n",
    "import tarfile\n",
    "from matplotlib import pyplot as plt\n",
    "\n",
    "%load_ext autoreload\n",
    "from CNNRobotLocalisation.Utils.utils import *\n",
    "%autoreload"
   ]
  },
  {
   "cell_type": "code",
   "execution_count": null,
   "metadata": {},
   "outputs": [],
   "source": [
    "PATH = \"/media/data/LocalizationDataNew/DataSwarmlab/TrainData1\"\n",
    "SUB_DIR = \"/\"\n",
    "AUT_MASK_OUT = \"/media/data/LocalizationDataNew/Output/TmpAutomaticSelection\"\n",
    "COPTER_SEQ = [\"black_black\",\"black_orange\",\"black_green\",\"black_blue\",\"black_white\",\"orange_orange\",\"orange_green\",\"orange_blue\",\"orange_white\",\"green_green\",\"green_blue\",\"green_white\",\"blue_blue\",\"blue_white\",\"white_white\"]\n",
    "SPHERO_SEQ = [\"black\",\"dark_red\",\"dark_green\",\"dark_blue\",\"bright_red\",\"bright_green\",\"bright_blue\",\"bright_white\"]\n",
    "\n",
    "video_files = get_recursive_file_list(PATH+SUB_DIR, file_excludes=[\"back\"],file_extensions=[\".avi\"])"
   ]
  },
  {
   "cell_type": "markdown",
   "metadata": {},
   "source": [
    "# Automatic Robot Crops"
   ]
  },
  {
   "cell_type": "markdown",
   "metadata": {},
   "source": [
    "### Export backgrounds for inspection\n",
    "\n",
    "Choose matching background frame for each video and create a copy \"video_background.jpg\""
   ]
  },
  {
   "cell_type": "code",
   "execution_count": null,
   "metadata": {},
   "outputs": [],
   "source": [
    "assert False\n",
    "background_videos = get_recursive_file_list('/media/data/LocalizationDataNew/Videos', file_matchers=[\"back\"],file_extensions=\".avi\")\n",
    "for f in background_videos:\n",
    "    out = '/media/data/LocalizationDataNew/Output/Background/'+f.rsplit('/',1)[1].replace('.avi','/')\n",
    "    save_video_frames(f, out, mod_frames=10)\n",
    "    \n",
    "#TODO: automatically choose matching background"
   ]
  },
  {
   "cell_type": "code",
   "execution_count": null,
   "metadata": {},
   "outputs": [],
   "source": [
    "assert False\n",
    "background_file = \"/media/data/LocalizationDataNew/Output/Background/180417_by_al_copter_A_back/frame000000.jpg\"\n",
    "for f in video_files:\n",
    "    #if '180417' not in f: continue\n",
    "    shutil.copyfile(background_file, f.replace('.avi','_background.jpg'))\n",
    "# TODO: automatic selection"
   ]
  },
  {
   "cell_type": "markdown",
   "metadata": {},
   "source": [
    "### Automatic background subtraction"
   ]
  },
  {
   "cell_type": "code",
   "execution_count": null,
   "metadata": {},
   "outputs": [],
   "source": [
    "%autoreload\n",
    "\n",
    "assert False\n",
    "DEBUG = False\n",
    "\n",
    "for f in video_files:\n",
    "    #if '180417' not in f: continue\n",
    "    print(f)\n",
    "    background = cv2.imread(f.replace('.avi','_background.jpg'))\n",
    "    cap = cv2.VideoCapture(f)\n",
    "    num_frames = int(cap.get(cv2.CAP_PROP_FRAME_COUNT))\n",
    "    for i in range(num_frames):\n",
    "        ret, frame = cap.read()\n",
    "        # TODO: read threshold from video specific file\n",
    "        mask_filtered = subtractBackground(frame, background, 20)\n",
    "        if \"youbot\" in f:\n",
    "            kernel1 = cv2.getStructuringElement(cv2.MORPH_ELLIPSE,(3,3))\n",
    "            kernel2 = cv2.getStructuringElement(cv2.MORPH_ELLIPSE,(30,30))\n",
    "        else:\n",
    "            kernel1 = cv2.getStructuringElement(cv2.MORPH_ELLIPSE,(3,3))\n",
    "            kernel2 = cv2.getStructuringElement(cv2.MORPH_ELLIPSE,(8,8))\n",
    "        mask_filtered = cv2.morphologyEx(mask_filtered, cv2.MORPH_OPEN, kernel1)\n",
    "        mask_filtered = cv2.morphologyEx(mask_filtered, cv2.MORPH_CLOSE, kernel2)\n",
    "        comb = applyAlphaMask(frame,mask_filtered)\n",
    "        im2, contours, hierarchy = cv2.findContours(mask_filtered,cv2.RETR_EXTERNAL,cv2.CHAIN_APPROX_SIMPLE)\n",
    "        path = f.replace(PATH,AUT_MASK_OUT).replace('.avi','/')\n",
    "        if DEBUG:\n",
    "            os.makedirs(path,exist_ok=True)\n",
    "            cv2.imwrite(path+\"frame{0:06d}.jpg\".format(i), mask_filtered)\n",
    "        if \"sphero\" in f:\n",
    "            objs = extractObjects(comb, contours, min_len=15, max_len=30)\n",
    "        elif \"copter\" in f:\n",
    "            objs = extractObjects(comb, contours, min_len=80, max_len=150)\n",
    "        elif \"youbot\" in f:\n",
    "            objs = extractObjects(comb, contours, min_len=90, max_len=460)\n",
    "        else:\n",
    "            print('unsupported')\n",
    "            break\n",
    "        if len(objs) != 1:\n",
    "            print('Frame {0} has {1} objects'.format(i,len(objs)))\n",
    "        #else:\n",
    "        writeObjects(objs, path, i, [0]*len(objs))\n",
    "        if DEBUG and i > 10: break\n",
    "    cap.release()\n",
    "    background = None"
   ]
  },
  {
   "cell_type": "markdown",
   "metadata": {},
   "source": [
    "## Rotate robot crops"
   ]
  },
  {
   "cell_type": "code",
   "execution_count": null,
   "metadata": {},
   "outputs": [],
   "source": [
    "#assert False # DON'T APPLY MULTIPLE TIMES\n",
    "\n",
    "for f in tqdm(video_files):\n",
    "    video_name = f.rsplit('/',1)[1]\n",
    "    meta = get_meta_info(PATH+'/meta.csv',video_name)[0]\n",
    "    crop_files = get_recursive_file_list(AUT_MASK_OUT, file_matchers=[video_name.replace('.avi','_obj0/')],file_extensions=[\".png\"])\n",
    "    for crop_f in crop_files:\n",
    "        img = cv2.imread(crop_f,cv2.IMREAD_UNCHANGED)\n",
    "        #r,g,b,mask = cv2.split(img)\n",
    "        #ret, mask = cv2.threshold(mask, 127, 255, cv2.THRESH_BINARY)\n",
    "        #im2, contours, hierarchy = cv2.findContours(mask,cv2.RETR_EXTERNAL,cv2.CHAIN_APPROX_SIMPLE) \n",
    "        rotation = (90 - float(meta['gimp_rotation'])) * float(meta['rotation_dir'])\n",
    "        #current_crops = extractObjects(img, contours, rotation, min_len = 8,\n",
    "        #                              arena_pmin = (0,0), arena_pmax = (1000,1000))\n",
    "        rows,cols,_ = img.shape\n",
    "        M = cv2.getRotationMatrix2D((cols/2,rows/2),rotation,1)\n",
    "        img = cv2.warpAffine(img,M,(cols,rows))\n",
    "        assert 'TmpAutomaticSelection' in crop_f\n",
    "        new_file = crop_f.replace('TmpAutomaticSelection','TmpAutomaticSelection2')\n",
    "        os.makedirs(new_file.rsplit('/',1)[0], exist_ok=True)\n",
    "        #if len(current_crops) != 1:\n",
    "        #    print('Num crops fault: '+ new_file)\n",
    "        #    cv2.imwrite(new_file, mask)\n",
    "        #else:\n",
    "        #    cv2.imwrite(new_file, current_crops[0])\n",
    "        cv2.imwrite(new_file, img)\n",
    "        \n",
    "cv2.destroyAllWindows()"
   ]
  },
  {
   "cell_type": "markdown",
   "metadata": {},
   "source": [
    "### Move files to class according to CSV sequence files"
   ]
  },
  {
   "cell_type": "code",
   "execution_count": null,
   "metadata": {},
   "outputs": [],
   "source": [
    "assert False\n",
    "csv_files = get_recursive_file_list(PATH+SUB_DIR, file_excludes=[\"auto\",\"meta\"],file_extensions=[\".csv\"])\n",
    "for f in csv_files:\n",
    "    rows = readCSV(f)\n",
    "    first_frame_color = []\n",
    "    for r in rows: \n",
    "        first_frame_color.append([int(r[1]),r[2]])\n",
    "    video_sub_dir = f.replace(PATH,'').replace('_id.csv','_obj0/')\n",
    "    path = AUT_MASK_OUT + video_sub_dir\n",
    "    crop_files = get_recursive_file_list(path, file_extensions=[\".png\"])   \n",
    "    for cf in tqdm(crop_files):\n",
    "        frameNumber = extractFrameNumber(cf.split('-object',1)[0]+'.')\n",
    "        cat = color_for_frame(first_frame_color, frameNumber)\n",
    "        cf_name = cf.rsplit('/',1)[1]\n",
    "        new_file = path+'/'+cat+'/'+cf_name\n",
    "        os.makedirs(path+'/'+cat, exist_ok=True)\n",
    "        os.rename(cf,new_file)\n",
    "    for d in os.listdir(path):\n",
    "        if 'undefined' in d:\n",
    "            shutil.rmtree(path+'/'+d)"
   ]
  },
  {
   "cell_type": "markdown",
   "metadata": {},
   "source": [
    "### Save meta information and create archive"
   ]
  },
  {
   "cell_type": "code",
   "execution_count": null,
   "metadata": {},
   "outputs": [],
   "source": [
    "# Save meta information to each crop directory\n",
    "meta_rows = readCSV(PATH+\"/meta.csv\")\n",
    "keys = meta_rows[0]\n",
    "for r in meta_rows[1:]:\n",
    "    meta_dict = {}\n",
    "    for i in range(len(keys)):\n",
    "        meta_dict[keys[i]] = r[i]\n",
    "    meta_dict['crop_method'] = 'automatic'\n",
    "    path = AUT_MASK_OUT + '/' + meta_dict['filename'].replace('.avi','_obj0/')\n",
    "    if not os.path.isdir(path): continue\n",
    "    for d in os.listdir(path):\n",
    "        meta_dict['identification'] = d\n",
    "        save_json(path+d+'/'+'meta.json', meta_dict) "
   ]
  },
  {
   "cell_type": "code",
   "execution_count": null,
   "metadata": {},
   "outputs": [],
   "source": [
    "# Create archive\n",
    "meta_rows = readCSV(PATH+\"/meta.csv\")\n",
    "keys = meta_rows[0]\n",
    "for r in meta_rows[1:]:\n",
    "    path = AUT_MASK_OUT + '/' + r[0].replace('.avi','')\n",
    "    try:\n",
    "        shutil.move(path+'_obj0',path)\n",
    "    except FileNotFoundError as e:\n",
    "        print(e)\n",
    "    if not os.path.isdir(path): continue\n",
    "    with tarfile.open(path + '.tar', \"w\") as tar:\n",
    "        tar.add(path, arcname=os.path.basename(path))\n",
    "    shutil.rmtree(path)"
   ]
  },
  {
   "cell_type": "code",
   "execution_count": null,
   "metadata": {},
   "outputs": [],
   "source": []
  }
 ],
 "metadata": {
  "kernelspec": {
   "display_name": "Python 3",
   "language": "python",
   "name": "python3"
  },
  "language_info": {
   "codemirror_mode": {
    "name": "ipython",
    "version": 3
   },
   "file_extension": ".py",
   "mimetype": "text/x-python",
   "name": "python",
   "nbconvert_exporter": "python",
   "pygments_lexer": "ipython3",
   "version": "3.6.5"
  }
 },
 "nbformat": 4,
 "nbformat_minor": 2
}
