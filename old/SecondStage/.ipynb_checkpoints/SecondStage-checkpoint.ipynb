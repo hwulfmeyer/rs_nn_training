{
 "cells": [
  {
   "cell_type": "code",
   "execution_count": null,
   "metadata": {},
   "outputs": [],
   "source": [
    "import os\n",
    "#os.environ['CUDA_VISIBLE_DEVICES'] = '-1'\n",
    "\n",
    "from keras import applications\n",
    "from keras.preprocessing.image import ImageDataGenerator\n",
    "from keras import optimizers\n",
    "from keras.models import Sequential, Model \n",
    "from keras.layers import Dropout, Flatten, Dense, GlobalAveragePooling2D, Reshape, Conv2D, Activation\n",
    "from keras import backend as K\n",
    "from keras.callbacks import ModelCheckpoint, LearningRateScheduler, TensorBoard, EarlyStopping\n",
    "from keras.metrics import mean_absolute_error\n",
    "\n",
    "import csv\n",
    "from PIL import Image\n",
    "from tqdm import tqdm\n",
    "from matplotlib import pyplot as plt\n",
    "import numpy as np\n",
    "from keras.utils import np_utils\n",
    "\n",
    "from keras_tqdm import TQDMNotebookCallback\n",
    "\n",
    "from object_detection.utils import label_map_util\n",
    "\n",
    "%load_ext autoreload\n",
    "from CNNRobotLocalisation.Utils.file_utils import *\n",
    "from second_stage_utils import *\n",
    "%autoreload"
   ]
  },
  {
   "cell_type": "code",
   "execution_count": null,
   "metadata": {},
   "outputs": [],
   "source": [
    "img_width, img_height = 128, 128\n",
    "classes = 48\n",
    "LOG_PATH = \"/home/lhoyer/cnn_robot_localization/training/second_stage/test/\"\n",
    "LABEL_MAP_PATH = '/media/data/Dokumente/Nextcloud/Studium/Bachelorarbeit/CNNRobotLocalisation/LabelMaps/robot_label_map.pbtxt'"
   ]
  },
  {
   "cell_type": "code",
   "execution_count": null,
   "metadata": {},
   "outputs": [],
   "source": [
    "alpha = 0.25\n",
    "mobilenet_base = applications.mobilenet.MobileNet(alpha = alpha, weights = \"imagenet\", include_top=False, input_shape = (img_width, img_height, 3))"
   ]
  },
  {
   "cell_type": "code",
   "execution_count": null,
   "metadata": {
    "scrolled": true
   },
   "outputs": [],
   "source": [
    "%%time\n",
    "%autoreload\n",
    "\n",
    "TRAIN_DIR = \"/media/data/LocalizationDataNew/Remote/data/exp3\"\n",
    "EVAL_DIR = \"/media/data/LocalizationDataNew/Validation/180420/200PerType2\"\n",
    "\n",
    "X_train, Y_train, Z_train = load_data(TRAIN_DIR, 4, 0.15, 0.10)\n",
    "X_val, Y_val, Z_val = load_data(EVAL_DIR, 1, 0.05, 0.0)"
   ]
  },
  {
   "cell_type": "markdown",
   "metadata": {},
   "source": [
    "## Combined network"
   ]
  },
  {
   "cell_type": "code",
   "execution_count": null,
   "metadata": {},
   "outputs": [],
   "source": [
    "#dropout=1e-3\n",
    "dropout=0\n",
    "\n",
    "shape = (1, 1, int(1024 * alpha))\n",
    "x = GlobalAveragePooling2D()(mobilenet_base.output)\n",
    "x = Reshape(shape, name='reshape_1')(x)\n",
    "x = Dropout(dropout, name='dropout')(x)\n",
    "# Branch regression\n",
    "reg = Conv2D(1, (1, 1),\n",
    "           padding='same', name='conv_reg')(x)\n",
    "reg = Activation('linear', name='act_linear')(reg)\n",
    "reg = Reshape((1,), name='reg_out')(reg)\n",
    "# Branch classification\n",
    "cat = Conv2D(classes, (1, 1),\n",
    "           padding='same', name='conv_cat')(x)\n",
    "cat = Activation('softmax', name='act_softmax')(cat)\n",
    "cat = Reshape((classes,), name='cat_out')(cat)\n",
    "\n",
    "# creating the final model \n",
    "model_final = None\n",
    "model_final = Model(inputs = mobilenet_base.input, outputs = [cat,reg])\n",
    "\n",
    "model_final.compile(optimizer = optimizers.RMSprop(lr=2e-4),\n",
    "                    loss={'cat_out': 'categorical_crossentropy', 'reg_out': custom_mse},\n",
    "                    loss_weights={'cat_out': 1.0, 'reg_out': 0.00},\n",
    "                    metrics ={'cat_out': 'accuracy', 'reg_out': custom_mae})"
   ]
  },
  {
   "cell_type": "code",
   "execution_count": null,
   "metadata": {
    "scrolled": true
   },
   "outputs": [],
   "source": [
    "%autoreload\n",
    "limit = 10000\n",
    "label_map = label_map_util.create_category_index_from_labelmap(LABEL_MAP_PATH)\n",
    "summary = TensorBoardCustom(log_dir=LOG_PATH,label_map=label_map)\n",
    "\n",
    "model_final.fit(\n",
    "    X_train[:limit], \n",
    "    {'cat_out': Y_train[:limit], 'reg_out': Z_train[:limit]}, \n",
    "    validation_data=(X_val,[Y_val,Z_val]),\n",
    "    batch_size=16, epochs=50, verbose=2,\n",
    "    callbacks=[summary]\n",
    "    #callbacks=[TQDMNotebookCallback(leave_inner=True)]\n",
    ")"
   ]
  },
  {
   "cell_type": "code",
   "execution_count": null,
   "metadata": {},
   "outputs": [],
   "source": [
    "from sklearn.metrics import classification_report\n",
    "import numpy as np\n",
    "\n",
    "y_onehot = np.argmax(Y_val, axis=1) # Convert one-hot to index\n",
    "y_pred,z_pred = model_final.predict(X_val)\n",
    "y_pred_onehot = np.argmax(y_pred, axis=1)\n",
    "print(classification_report(y_onehot, y_pred_onehot))"
   ]
  },
  {
   "cell_type": "code",
   "execution_count": null,
   "metadata": {},
   "outputs": [],
   "source": [
    "from keras.models import load_model\n",
    "model_final.save('/media/data/LocalizationData/TFObjectDetection/inference/SecondStage/Mobilenet.h5')  # creates a HDF5 file 'my_model.h5'"
   ]
  },
  {
   "cell_type": "code",
   "execution_count": null,
   "metadata": {},
   "outputs": [],
   "source": []
  }
 ],
 "metadata": {
  "kernelspec": {
   "display_name": "Python 3",
   "language": "python",
   "name": "python3"
  },
  "language_info": {
   "codemirror_mode": {
    "name": "ipython",
    "version": 3
   },
   "file_extension": ".py",
   "mimetype": "text/x-python",
   "name": "python",
   "nbconvert_exporter": "python",
   "pygments_lexer": "ipython3",
   "version": "3.6.5"
  },
  "widgets": {
   "state": {
    "015cb677ac124d8e9b7f9205f4ce17f8": {
     "views": [
      {
       "cell_index": 6
      }
     ]
    },
    "01f8cd10bf314661bf420ba04bf89745": {
     "views": [
      {
       "cell_index": 6
      }
     ]
    },
    "0321cb8d419f439c946d862908f6bdab": {
     "views": [
      {
       "cell_index": 6
      }
     ]
    },
    "047916210e524e2d9f3590cb0fbc398d": {
     "views": [
      {
       "cell_index": 6
      }
     ]
    },
    "07a2da044a0943d7882341cb3b38987a": {
     "views": [
      {
       "cell_index": 6
      }
     ]
    },
    "07d07e8698144dee9285749291c62428": {
     "views": [
      {
       "cell_index": 6
      }
     ]
    },
    "085549dd5fc240b6b3b273df358358f0": {
     "views": [
      {
       "cell_index": 6
      }
     ]
    },
    "0ad9f2583d0249c6a6129cd6d3aa9e19": {
     "views": [
      {
       "cell_index": 6
      }
     ]
    },
    "0bc37e8364bf4998b4f6f28f7b2a313f": {
     "views": [
      {
       "cell_index": 6
      }
     ]
    },
    "0ce9999543e44360be24ebc1a3d9ddae": {
     "views": [
      {
       "cell_index": 6
      }
     ]
    },
    "12f8429f89114356af570fc67430d7cc": {
     "views": [
      {
       "cell_index": 6
      }
     ]
    },
    "1373f8ac8bea4b2b89a360b75ce600f4": {
     "views": [
      {
       "cell_index": 6
      }
     ]
    },
    "14df5bd675954ab6851cabbd646e5fad": {
     "views": [
      {
       "cell_index": 6
      }
     ]
    },
    "165e4a004278405e9d828cab3b1d73c5": {
     "views": [
      {
       "cell_index": 6
      }
     ]
    },
    "18acb1a2817e440bb375908ca00f5bc1": {
     "views": [
      {
       "cell_index": 6
      }
     ]
    },
    "19bffb65794e46f8b630e6ff7f08e15e": {
     "views": [
      {
       "cell_index": 6
      }
     ]
    },
    "19fd05658e694c188d60691b939c9a4a": {
     "views": [
      {
       "cell_index": 6
      }
     ]
    },
    "1a78ad295d664513a5c7c905cd840b2d": {
     "views": [
      {
       "cell_index": 6
      }
     ]
    },
    "1ae0753a45fa44db88c9c90448c25bfd": {
     "views": [
      {
       "cell_index": 6
      }
     ]
    },
    "2029b3bcf6d64515aa3d41fbd3526687": {
     "views": [
      {
       "cell_index": 6
      }
     ]
    },
    "23d6301546f543cd976136ec1ab41b63": {
     "views": [
      {
       "cell_index": 6
      }
     ]
    },
    "241406c049ff4392a5fab8276e2e93f6": {
     "views": [
      {
       "cell_index": 6
      }
     ]
    },
    "28655da2ea014bfc9366aedb1b716535": {
     "views": [
      {
       "cell_index": 6
      }
     ]
    },
    "29fd474769ae46cb801c982a66915e27": {
     "views": [
      {
       "cell_index": 6
      }
     ]
    },
    "2b6343bbe44b400a9eb14738733ae760": {
     "views": [
      {
       "cell_index": 6
      }
     ]
    },
    "2b9e22178f6047d3b047d76a507f3031": {
     "views": [
      {
       "cell_index": 6
      }
     ]
    },
    "2de5279ce79c417085299d7e37aa738e": {
     "views": [
      {
       "cell_index": 6
      }
     ]
    },
    "2e655d9f21764625bf084cab1b44bfad": {
     "views": [
      {
       "cell_index": 6
      }
     ]
    },
    "2ef0e4c07716466ca3c74dd728850fe6": {
     "views": [
      {
       "cell_index": 6
      }
     ]
    },
    "2f68ba65cc1a43db85214bb62698aa4e": {
     "views": [
      {
       "cell_index": 6
      }
     ]
    },
    "305195ff8142414fb2a859a106c6e3ba": {
     "views": [
      {
       "cell_index": 6
      }
     ]
    },
    "30719b308829467db1a5b2f7d4c657e2": {
     "views": [
      {
       "cell_index": 6
      }
     ]
    },
    "310688cd81884984a552e667565cf7c1": {
     "views": [
      {
       "cell_index": 6
      }
     ]
    },
    "319c7d1b7db84bcf847d3eb0c5a109c3": {
     "views": [
      {
       "cell_index": 6
      }
     ]
    },
    "329d91ac331c452caf23fb37ee14c7fa": {
     "views": [
      {
       "cell_index": 6
      }
     ]
    },
    "3509029cb0dc46a199f24138faf05c42": {
     "views": [
      {
       "cell_index": 6
      }
     ]
    },
    "36b9ff95af8744bd9cd3b22460d93fc2": {
     "views": [
      {
       "cell_index": 6
      }
     ]
    },
    "38c0639d6c7b4075974cb81943ad68c4": {
     "views": [
      {
       "cell_index": 6
      }
     ]
    },
    "391b8debf9e742cb9e7f5a12abf9ea4d": {
     "views": [
      {
       "cell_index": 6
      }
     ]
    },
    "3c2ce98c18844d10873abe0a19f67ec9": {
     "views": [
      {
       "cell_index": 6
      }
     ]
    },
    "3c77f169408849178b12466627783603": {
     "views": [
      {
       "cell_index": 6
      }
     ]
    },
    "3e3189ea10dd4da2b7c21fff2febf508": {
     "views": [
      {
       "cell_index": 6
      }
     ]
    },
    "4243c71adde341f9ae94afda656107b0": {
     "views": [
      {
       "cell_index": 6
      }
     ]
    },
    "42bcf2ce28234ab59eb7c3e05f62766b": {
     "views": [
      {
       "cell_index": 6
      }
     ]
    },
    "445b271d89874196a9f86dc20d47ae40": {
     "views": [
      {
       "cell_index": 6
      }
     ]
    },
    "452cb7f2ce68424a9fc9bc4ea098a115": {
     "views": [
      {
       "cell_index": 6
      }
     ]
    },
    "481c6ccf8ed94f3f82ea79821dabc1fd": {
     "views": [
      {
       "cell_index": 6
      }
     ]
    },
    "4b674456a6a24015ac13bcd1d362979b": {
     "views": [
      {
       "cell_index": 6
      }
     ]
    },
    "4b772180d7a9494ba5f63fb1b906c54f": {
     "views": [
      {
       "cell_index": 6
      }
     ]
    },
    "4f4a7494ac964ef188cb579e6671555c": {
     "views": [
      {
       "cell_index": 6
      }
     ]
    },
    "50cc7fdff5f949f2a94f3a5933c3569f": {
     "views": [
      {
       "cell_index": 6
      }
     ]
    },
    "51c5f717ceb54f21b96363dfcfe96503": {
     "views": [
      {
       "cell_index": 6
      }
     ]
    },
    "53277d141dfc40b59ebe25f282db0608": {
     "views": [
      {
       "cell_index": 6
      }
     ]
    },
    "5346c80435734815b17b79507a6cb00b": {
     "views": [
      {
       "cell_index": 6
      }
     ]
    },
    "53487f949c44478e98eef181a073b411": {
     "views": [
      {
       "cell_index": 6
      }
     ]
    },
    "54618be72a624a66afd1a1f376d913eb": {
     "views": [
      {
       "cell_index": 6
      }
     ]
    },
    "55d65305c21c484d8bad2bb023bc2470": {
     "views": [
      {
       "cell_index": 6
      }
     ]
    },
    "5718a45eb9f64ad6a86475de42d63609": {
     "views": [
      {
       "cell_index": 6
      }
     ]
    },
    "5765d28ff46041fcb29a214be450cf43": {
     "views": [
      {
       "cell_index": 6
      }
     ]
    },
    "58b6a53d0b7f49709f4b1f8872606f94": {
     "views": [
      {
       "cell_index": 6
      }
     ]
    },
    "5aecdc9d1a8e4e2bad85d86538901aea": {
     "views": [
      {
       "cell_index": 6
      }
     ]
    },
    "5c01764b53904969ad4951cc7cc4697d": {
     "views": [
      {
       "cell_index": 6
      }
     ]
    },
    "5c26ebde32c04b4f8cfcb95ba912e8be": {
     "views": [
      {
       "cell_index": 6
      }
     ]
    },
    "61c43f49a8a14a0fa1be680cae33690b": {
     "views": [
      {
       "cell_index": 6
      }
     ]
    },
    "643edb8dd4f34763957dd299632c761f": {
     "views": [
      {
       "cell_index": 6
      }
     ]
    },
    "65a9b9abcf4442d9a6c230ce46485797": {
     "views": [
      {
       "cell_index": 6
      }
     ]
    },
    "65ac41e2eb0b4fba9ac0f4e29adc1cd7": {
     "views": [
      {
       "cell_index": 6
      }
     ]
    },
    "66ef949f74ad438d97be93d763a89569": {
     "views": [
      {
       "cell_index": 6
      }
     ]
    },
    "68781a760c89443aace98b0d6041f3cf": {
     "views": [
      {
       "cell_index": 6
      }
     ]
    },
    "689e30fc6e8343eba3e3227f8338903c": {
     "views": [
      {
       "cell_index": 6
      }
     ]
    },
    "69f85034544b490cbd9a7898ecfb9d61": {
     "views": [
      {
       "cell_index": 6
      }
     ]
    },
    "6a6129eee1c546b5838210d7864efa99": {
     "views": [
      {
       "cell_index": 6
      }
     ]
    },
    "6b1b926b1efc4e8491eb1801b1003c5f": {
     "views": [
      {
       "cell_index": 6
      }
     ]
    },
    "6c391d4fa9ec4d0e9732572867a21049": {
     "views": [
      {
       "cell_index": 6
      }
     ]
    },
    "6c585e49b6504fa5a89b5f7e169349fa": {
     "views": [
      {
       "cell_index": 6
      }
     ]
    },
    "6caeb598cbb541e3bc8ec2584abf554b": {
     "views": [
      {
       "cell_index": 6
      }
     ]
    },
    "6e94292ded9a458cac446572666c3602": {
     "views": [
      {
       "cell_index": 6
      }
     ]
    },
    "6f116dc817844351831a74c6bb22feae": {
     "views": [
      {
       "cell_index": 6
      }
     ]
    },
    "704c07b8d29542a18ae1e9d9fc5ad4dc": {
     "views": [
      {
       "cell_index": 6
      }
     ]
    },
    "712cf43569ac4ab58f54da9d3f6187db": {
     "views": [
      {
       "cell_index": 6
      }
     ]
    },
    "72a4c28f07ea4949b084619080f4838c": {
     "views": [
      {
       "cell_index": 6
      }
     ]
    },
    "74771d04601c4336a0c00939a55144ee": {
     "views": [
      {
       "cell_index": 6
      }
     ]
    },
    "76c91d83d2f2466cb9ddb8b6c9b8632b": {
     "views": [
      {
       "cell_index": 6
      }
     ]
    },
    "8038f07d0eb447569da3fbbaf46b9815": {
     "views": [
      {
       "cell_index": 6
      }
     ]
    },
    "84f3042ad9c64cbeae2fbfd7250972f0": {
     "views": [
      {
       "cell_index": 6
      }
     ]
    },
    "85d65552561f447aa47149f98c9f9bac": {
     "views": [
      {
       "cell_index": 6
      }
     ]
    },
    "866b49c68d734221b2d67f7bd01ca052": {
     "views": [
      {
       "cell_index": 6
      }
     ]
    },
    "89ed191a295543cebcb962f6fb0965dd": {
     "views": [
      {
       "cell_index": 6
      }
     ]
    },
    "8a07cdf5394f47f0931b54495fdff520": {
     "views": [
      {
       "cell_index": 6
      }
     ]
    },
    "8a981e78769e44ea96630f7158d185d6": {
     "views": [
      {
       "cell_index": 6
      }
     ]
    },
    "8e4e1f5840514d288ec5390fa4234819": {
     "views": [
      {
       "cell_index": 6
      }
     ]
    },
    "8ec9ec2fa0494345b250d8cbe30ea53d": {
     "views": [
      {
       "cell_index": 6
      }
     ]
    },
    "91703d5854ca4b138e4f16f9851ccc57": {
     "views": [
      {
       "cell_index": 6
      }
     ]
    },
    "956cd7ccf9234fb184aa4bd6095afcaf": {
     "views": [
      {
       "cell_index": 6
      }
     ]
    },
    "97b4573da3c040c989fcb89aa78fdb24": {
     "views": [
      {
       "cell_index": 6
      }
     ]
    },
    "98f3460fb34746d182e474256185bff2": {
     "views": [
      {
       "cell_index": 6
      }
     ]
    },
    "999a3d9496014dbba983dcef6e112aa6": {
     "views": [
      {
       "cell_index": 6
      }
     ]
    },
    "9b569dc2067f46308be10d624a38ee0f": {
     "views": [
      {
       "cell_index": 6
      }
     ]
    },
    "9b8eebf1e28d467da495d6e964f06b29": {
     "views": [
      {
       "cell_index": 6
      }
     ]
    },
    "9bc147c1d4f64c85852f11267cc85a74": {
     "views": [
      {
       "cell_index": 6
      }
     ]
    },
    "9c56e9c79051432bac137458c567f6bd": {
     "views": [
      {
       "cell_index": 6
      }
     ]
    },
    "9d4e8c91e16044d688d96edbadceb43b": {
     "views": [
      {
       "cell_index": 6
      }
     ]
    },
    "9eabe9734a734a658164aeb14838e0e3": {
     "views": [
      {
       "cell_index": 6
      }
     ]
    },
    "a1ab46fd1d2b41f4b097de6f6186db9a": {
     "views": [
      {
       "cell_index": 6
      }
     ]
    },
    "a1ae63159a2448d190fb05aab232c1f0": {
     "views": [
      {
       "cell_index": 6
      }
     ]
    },
    "a21ccf43514c4a84a93e49656dd66b35": {
     "views": [
      {
       "cell_index": 6
      }
     ]
    },
    "a42a387a84904c8580ac8857d5916715": {
     "views": [
      {
       "cell_index": 6
      }
     ]
    },
    "a49277c905a1434f930e3bd229909ee4": {
     "views": [
      {
       "cell_index": 6
      }
     ]
    },
    "a58f55e40fac4630bf023abe8740f314": {
     "views": [
      {
       "cell_index": 6
      }
     ]
    },
    "a7860a5f903b4ccbad7fb208c529d911": {
     "views": [
      {
       "cell_index": 6
      }
     ]
    },
    "abcb6b07849b4a8bb8f8798e9bbe67c7": {
     "views": [
      {
       "cell_index": 6
      }
     ]
    },
    "ac2ece2ab92e4521b1efac527709bc50": {
     "views": [
      {
       "cell_index": 6
      }
     ]
    },
    "ae6177bc9cfd412aac91922992c74444": {
     "views": [
      {
       "cell_index": 6
      }
     ]
    },
    "b179a297e5d4459ab82dee505de6b284": {
     "views": [
      {
       "cell_index": 6
      }
     ]
    },
    "b1a693014a854c74a175a51d90a238ee": {
     "views": [
      {
       "cell_index": 6
      }
     ]
    },
    "b24c3206a1764b6181d6040b24e7bde9": {
     "views": [
      {
       "cell_index": 6
      }
     ]
    },
    "ba29aa77b61c43d89bd8e82bb975502b": {
     "views": [
      {
       "cell_index": 6
      }
     ]
    },
    "bbdb65ace9de412fb91a32c21327eeed": {
     "views": [
      {
       "cell_index": 6
      }
     ]
    },
    "bd487e4e5fe14d1e88d2cfdd5e814e19": {
     "views": [
      {
       "cell_index": 6
      }
     ]
    },
    "bd4f28cc171348f9be22fce977fc8634": {
     "views": [
      {
       "cell_index": 6
      }
     ]
    },
    "be0c6d0210354c7797246a489f295e98": {
     "views": [
      {
       "cell_index": 6
      }
     ]
    },
    "be83d63f8dd849ff8e4c3ff07bdda1ae": {
     "views": [
      {
       "cell_index": 6
      }
     ]
    },
    "bf10f2eb7cfd414889e0a22fe835ad41": {
     "views": [
      {
       "cell_index": 6
      }
     ]
    },
    "bf3407cf41a04297aa4f4f0d374c69c4": {
     "views": [
      {
       "cell_index": 6
      }
     ]
    },
    "bf8e7c494b014860b589bb6fe42bb56c": {
     "views": [
      {
       "cell_index": 6
      }
     ]
    },
    "bfb22c717e144941ad736f1b8f02f52a": {
     "views": [
      {
       "cell_index": 6
      }
     ]
    },
    "c136ffbe9ffc47f1b5be5ac42e0b4ae3": {
     "views": [
      {
       "cell_index": 6
      }
     ]
    },
    "c23dad4ef7d4484ab46ed48e61b46a27": {
     "views": [
      {
       "cell_index": 6
      }
     ]
    },
    "c327fad6725347cca12e455fc326c9b3": {
     "views": [
      {
       "cell_index": 6
      }
     ]
    },
    "c4848211be3d40419be3a8a9b1bf8f53": {
     "views": [
      {
       "cell_index": 6
      }
     ]
    },
    "c49b78ee4fe24cb3975e8cdeabd3b211": {
     "views": [
      {
       "cell_index": 6
      }
     ]
    },
    "c792e9f244074b25ad22fea8ae914052": {
     "views": [
      {
       "cell_index": 6
      }
     ]
    },
    "c7967851e8784a65af178fa59e165f0f": {
     "views": [
      {
       "cell_index": 6
      }
     ]
    },
    "cc1199d33d334d4abdaeea1cf2fc32d2": {
     "views": [
      {
       "cell_index": 6
      }
     ]
    },
    "cf378f939ab1479192341744cac6a5ae": {
     "views": [
      {
       "cell_index": 6
      }
     ]
    },
    "cfcdb5d1745541748cabc9622a04bb32": {
     "views": [
      {
       "cell_index": 6
      }
     ]
    },
    "d053dadd244f4c3199f99fb7501825ff": {
     "views": [
      {
       "cell_index": 6
      }
     ]
    },
    "d19715ad79254c97a795ab188df37ed1": {
     "views": [
      {
       "cell_index": 6
      }
     ]
    },
    "d1aaea3a0858460795b0c6a875414a6a": {
     "views": [
      {
       "cell_index": 6
      }
     ]
    },
    "d1cdc0cdddf646aa84a939cc70888eda": {
     "views": [
      {
       "cell_index": 6
      }
     ]
    },
    "d28dab3cc0b849fca066fe2634dbef4f": {
     "views": [
      {
       "cell_index": 6
      }
     ]
    },
    "d3a59ce455b041e2a1a59fad819ea533": {
     "views": [
      {
       "cell_index": 6
      }
     ]
    },
    "d443a2423dee40aebd16ee2ec1ab96ac": {
     "views": [
      {
       "cell_index": 6
      }
     ]
    },
    "d4c32d1b3b4c476a93d10fbb1f58fa6e": {
     "views": [
      {
       "cell_index": 6
      }
     ]
    },
    "d578f66a904d4c33bcee12a1c68790bd": {
     "views": [
      {
       "cell_index": 6
      }
     ]
    },
    "daeff5f5667e4c1fafa06557f9809cfe": {
     "views": [
      {
       "cell_index": 6
      }
     ]
    },
    "db8bcfaa04ca48d3befdd2fab5a4f467": {
     "views": [
      {
       "cell_index": 6
      }
     ]
    },
    "dbafe74000b744e581550dfa6f0624fd": {
     "views": [
      {
       "cell_index": 6
      }
     ]
    },
    "e338b8a31b8e42d6b0a6b83b882646d6": {
     "views": [
      {
       "cell_index": 6
      }
     ]
    },
    "e47dc59868374b95b826a76a2a9f29ac": {
     "views": [
      {
       "cell_index": 6
      }
     ]
    },
    "e6d44f2f19664c8fb9cf3462260dfbcf": {
     "views": [
      {
       "cell_index": 6
      }
     ]
    },
    "e7999b2a80324557bacf82e01c75002e": {
     "views": [
      {
       "cell_index": 6
      }
     ]
    },
    "eb866533747c4460afeb180cd127923b": {
     "views": [
      {
       "cell_index": 6
      }
     ]
    },
    "ee1d04592760475db093d4bdc8488a4e": {
     "views": [
      {
       "cell_index": 6
      }
     ]
    },
    "ef1b5947430e4200a26bba05c797d12e": {
     "views": [
      {
       "cell_index": 6
      }
     ]
    },
    "f00438ece5a3476fa2252e6e6c10aa7d": {
     "views": [
      {
       "cell_index": 6
      }
     ]
    },
    "f3db0f38454b41059309ef2f320227fb": {
     "views": [
      {
       "cell_index": 6
      }
     ]
    },
    "f4ad6dc9d94c4715afbfc1a0bb060aca": {
     "views": [
      {
       "cell_index": 6
      }
     ]
    },
    "f4df7873ee324a809bf5da1fe64622f0": {
     "views": [
      {
       "cell_index": 6
      }
     ]
    },
    "f64847f9f43d473ea08fb7017bee1ef5": {
     "views": [
      {
       "cell_index": 6
      }
     ]
    },
    "f700abbf87ae4af1b7357fa23fb0d0a2": {
     "views": [
      {
       "cell_index": 6
      }
     ]
    },
    "f79cb2143db342048700651c7b11eb2c": {
     "views": [
      {
       "cell_index": 6
      }
     ]
    },
    "f86db50647594d92a5770ce5d27213dd": {
     "views": [
      {
       "cell_index": 6
      }
     ]
    },
    "f9e45c1d2ff441f686fe2f18448b461d": {
     "views": [
      {
       "cell_index": 6
      }
     ]
    },
    "fb3ca99354c640e89a9beda331898263": {
     "views": [
      {
       "cell_index": 6
      }
     ]
    },
    "fc1471ecf4f947f09f5a8e9b8927b40b": {
     "views": [
      {
       "cell_index": 6
      }
     ]
    },
    "fc31ec0f30834b24980509a8846fd77e": {
     "views": [
      {
       "cell_index": 6
      }
     ]
    },
    "feba283b5dac44a3b3bca1ad896d4ba3": {
     "views": [
      {
       "cell_index": 6
      }
     ]
    }
   },
   "version": "1.2.0"
  }
 },
 "nbformat": 4,
 "nbformat_minor": 2
}
