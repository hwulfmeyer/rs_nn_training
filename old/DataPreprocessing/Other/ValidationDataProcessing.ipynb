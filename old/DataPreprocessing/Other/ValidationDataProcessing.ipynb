{
 "cells": [
  {
   "cell_type": "code",
   "execution_count": null,
   "metadata": {},
   "outputs": [],
   "source": [
    "import sys\n",
    "#Fix problem with ros python path\n",
    "sys.path.remove('/opt/ros/kinetic/lib/python2.7/dist-packages')"
   ]
  },
  {
   "cell_type": "code",
   "execution_count": null,
   "metadata": {},
   "outputs": [],
   "source": [
    "import numpy as np\n",
    "import cv2\n",
    "import os\n",
    "import pascal_voc_writer\n",
    "from tqdm import tqdm"
   ]
  },
  {
   "cell_type": "code",
   "execution_count": null,
   "metadata": {},
   "outputs": [],
   "source": [
    "path = \"/media/data/LocalizationData/\"\n",
    "out_path = path+\"Output/Validation/CoptersFlying5/\""
   ]
  },
  {
   "cell_type": "code",
   "execution_count": null,
   "metadata": {},
   "outputs": [],
   "source": [
    "os.makedirs(out_path+\"Automatic\", exist_ok=True)\n",
    "os.makedirs(out_path+\"Automatic_Debug\", exist_ok=True)\n",
    "os.makedirs(out_path+\"Manual\", exist_ok=True)\n",
    "\n",
    "def saveGroundtruth(frame, contours, frameNum, size_min, size_max, length_tol, padding=0):\n",
    "    objCnt = 0\n",
    "    frameStr = \"frame\"+str(frameNum).zfill(6)\n",
    "    writer = pascal_voc_writer.Writer(out_path+frameStr+\".png\", 1600, 1200)\n",
    "    for cnt in contours:\n",
    "        x,y,w,h = cv2.boundingRect(cnt)\n",
    "        x = x+padding; y = y+padding; w = w-2*padding; h = h-2*padding\n",
    "        if w > size_min and w < size_max and h > size_min and h < size_max and abs(h-w)/(w+h) < length_tol and y < 1000 and x < 1300:\n",
    "            if PREPARATION_MODE: cv2.rectangle(frame,(x,y),(x+w,y+h),(0,0,255),2)\n",
    "            writer.addObject('copter', x, y, x+w, y+h)\n",
    "            roi = frame[y:y+h, x:x+w]\n",
    "            objCnt = objCnt+1\n",
    "    if PREPARATION_MODE:\n",
    "        cv2.drawContours(frame,contours,-1,(0,255,0),3)\n",
    "        cv2.imshow('orig',frame)\n",
    "    else:\n",
    "        if objCnt == 1:\n",
    "            cv2.imwrite(out_path+\"Automatic/\"+frameStr+\".jpg\", frame)\n",
    "            cv2.imwrite(out_path+\"Automatic_Debug/\"+frameStr+\".jpg\", roi)\n",
    "            writer.save(out_path+\"Automatic/\"+frameStr+\".xml\")\n",
    "        else:\n",
    "            cv2.imwrite(out_path+\"Manual/\"+frameStr+\".jpg\", frame)\n",
    "            writer.save(out_path+\"Manual/\"+frameStr+\".xml\")"
   ]
  },
  {
   "cell_type": "code",
   "execution_count": null,
   "metadata": {},
   "outputs": [],
   "source": [
    "fgbg = cv2.bgsegm.createBackgroundSubtractorMOG()\n",
    "\n",
    "def generateMaskMOG(frame):\n",
    "    kernel1 = cv2.getStructuringElement(cv2.MORPH_ELLIPSE,(40,40))\n",
    "    kernel2 = cv2.getStructuringElement(cv2.MORPH_ELLIPSE,(20,20))\n",
    "    mask = fgbg.apply(frame)\n",
    "    mask = cv2.dilate(mask,kernel1,iterations = 1)\n",
    "    mask = cv2.erode(mask,kernel2,iterations = 1)\n",
    "    ret, mask = cv2.threshold(mask, 50, 255, cv2.THRESH_BINARY)\n",
    "    return mask\n",
    "\n",
    "def generateMaskAbsDiff(background,frame):\n",
    "    kernel = cv2.getStructuringElement(cv2.MORPH_ELLIPSE,(23,23))\n",
    "    fgmask = cv2.absdiff(background,frame)\n",
    "    fgmask_gray = cv2.cvtColor(fgmask, cv2.COLOR_RGB2GRAY)\n",
    "    ret, mask = cv2.threshold(fgmask_gray, 30, 255, cv2.THRESH_BINARY)\n",
    "    mask_filtered = mask\n",
    "    mask_filtered = cv2.dilate(mask_filtered,kernel,iterations = 1)\n",
    "    #mask_filtered = cv2.morphologyEx(mask_filtered, cv2.MORPH_OPEN, kernel)\n",
    "    mask_filtered = cv2.morphologyEx(mask_filtered, cv2.MORPH_CLOSE, kernel)\n",
    "\n",
    "    im2, contours, hierarchy = cv2.findContours(mask_filtered,cv2.RETR_EXTERNAL,cv2.CHAIN_APPROX_SIMPLE)\n",
    "    mask_contours = np.zeros(mask_filtered.shape, np.uint8)\n",
    "    cv2.drawContours(mask_contours, contours, -1, (255,255,255),cv2.FILLED)\n",
    "    \n",
    "    #cv2.imshow('mask',mask_filtered)\n",
    "    return mask_contours"
   ]
  },
  {
   "cell_type": "markdown",
   "metadata": {},
   "source": [
    "**rember to init subtractor with video first**"
   ]
  },
  {
   "cell_type": "code",
   "execution_count": null,
   "metadata": {
    "scrolled": true
   },
   "outputs": [],
   "source": [
    "PREPARATION_MODE = True\n",
    "\n",
    "## Init every run\n",
    "#fgbg = cv2.bgsegm.createBackgroundSubtractorMOG()\n",
    "\n",
    "#cap = cv2.VideoCapture(path+'Videos/CopterWithLEDFlight/background6.avi')\n",
    "#for i in range(30):\n",
    "#    ret,background = cap.read()\n",
    "#cap.release()\n",
    "\n",
    "cap2 = cv2.VideoCapture(path+'Videos/CopterWithLEDFlight/copters_flying5.avi')\n",
    "\n",
    "for i in tqdm(range(int(cap2.get(cv2.CAP_PROP_FRAME_COUNT)))):\n",
    "    ret, frame = cap2.read()\n",
    "    if ret == False:\n",
    "        break\n",
    "    if i%4==0:\n",
    "        mask = generateMaskMOG(frame)\n",
    "        #mask = generateMaskAbsDiff(background,frame)\n",
    "        im2, contours, hierarchy = cv2.findContours(mask,cv2.RETR_EXTERNAL,cv2.CHAIN_APPROX_SIMPLE)    \n",
    "        saveGroundtruth(frame, contours, i, 50, 300, 0.2, 8)\n",
    "    if cv2.waitKey(1) & 0xFF == ord('q'):\n",
    "        break\n",
    "\n",
    "cap2.release()\n",
    "cv2.destroyAllWindows()"
   ]
  },
  {
   "cell_type": "code",
   "execution_count": null,
   "metadata": {},
   "outputs": [],
   "source": []
  }
 ],
 "metadata": {
  "kernelspec": {
   "display_name": "Python 3",
   "language": "python",
   "name": "python3"
  },
  "language_info": {
   "codemirror_mode": {
    "name": "ipython",
    "version": 3
   },
   "file_extension": ".py",
   "mimetype": "text/x-python",
   "name": "python",
   "nbconvert_exporter": "python",
   "pygments_lexer": "ipython3",
   "version": "3.5.2"
  }
 },
 "nbformat": 4,
 "nbformat_minor": 2
}
