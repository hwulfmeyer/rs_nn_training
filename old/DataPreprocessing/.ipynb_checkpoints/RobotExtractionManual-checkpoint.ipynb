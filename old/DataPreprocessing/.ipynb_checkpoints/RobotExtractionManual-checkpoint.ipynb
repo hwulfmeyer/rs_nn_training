{
 "cells": [
  {
   "cell_type": "code",
   "execution_count": null,
   "metadata": {},
   "outputs": [],
   "source": [
    "import sys\n",
    "#Fix problem with ros python path\n",
    "sys.path.remove('/opt/ros/kinetic/lib/python2.7/site-packages')"
   ]
  },
  {
   "cell_type": "code",
   "execution_count": null,
   "metadata": {},
   "outputs": [],
   "source": [
    "import numpy as np\n",
    "import re\n",
    "import shutil\n",
    "import tarfile\n",
    "from matplotlib import pyplot as plt\n",
    "%matplotlib inline"
   ]
  },
  {
   "cell_type": "code",
   "execution_count": null,
   "metadata": {},
   "outputs": [],
   "source": [
    "%load_ext autoreload\n",
    "from CNNRobotLocalisation.Utils.utils import *\n",
    "%autoreload"
   ]
  },
  {
   "cell_type": "code",
   "execution_count": null,
   "metadata": {},
   "outputs": [],
   "source": [
    "PATH = \"/media/data/LocalizationDataNew/DataSwarmlab/TrainData1\"\n",
    "SUB_DIR = \"/yellow_natural_spheros\"\n",
    "MAN_MASK_OUT = \"/media/data/LocalizationDataNew/Output/TmpManualSelection\"\n",
    "AUT_MASK_OUT = \"/media/data/LocalizationDataNew/Output/TmpAutomaticSelection\"\n",
    "COPTER_SEQ = [\"black_black\",\"black_orange\",\"black_green\",\"black_blue\",\"black_white\",\"orange_orange\",\"orange_green\",\"orange_blue\",\"orange_white\",\"green_green\",\"green_blue\",\"green_white\",\"blue_blue\",\"blue_white\",\"white_white\"]\n",
    "SPHERO_SEQ = [\"black\",\"dark_red\",\"dark_green\",\"dark_blue\",\"bright_red\",\"bright_green\",\"bright_blue\",\"bright_white\"]\n",
    "\n",
    "video_files = get_recursive_file_list(PATH+SUB_DIR, file_excludes=[\"back\"],file_extensions=[\".avi\"])"
   ]
  },
  {
   "cell_type": "markdown",
   "metadata": {},
   "source": [
    "# Manual Robot Crops"
   ]
  },
  {
   "cell_type": "markdown",
   "metadata": {},
   "source": [
    "### Save first frames"
   ]
  },
  {
   "cell_type": "code",
   "execution_count": null,
   "metadata": {},
   "outputs": [],
   "source": [
    "meta_rows = [('filename','gimp_rotation','rotation_dir','first_frame_id','last_frame_id','identification',\n",
    "              'background_color','lighting','robot_type','arena_position','height','frame_color','rotors')]\n",
    "for f in video_files:\n",
    "    cap = cv2.VideoCapture(f)\n",
    "    ret, frame = cap.read()\n",
    "    cv2.imwrite(f.replace('.avi','.jpg'), frame)\n",
    "    meta_rows.append([f.replace(PATH+'/','')])\n",
    "    cap.release()\n",
    "if not os.path.isfile(PATH+\"/meta.csv\"):\n",
    "    writeCSV(PATH+\"/meta.csv\", meta_rows)\n",
    "    print('Created meta.csv')\n",
    "else:\n",
    "    print('meta.csv already exists')"
   ]
  },
  {
   "cell_type": "markdown",
   "metadata": {},
   "source": [
    "### Mask creation\n",
    "\n",
    "* open images in Gimp \n",
    "* add a new black layer on top of the image\n",
    "* hide black layer but keep it selected\n",
    "* use lasso tool for selection of robot\n",
    "* fill selection with white color\n",
    "* show top layer again and export xxx_mask**.png**\n",
    "\n",
    "### Rotation correction\n",
    "\n",
    "* open images in Gimp\n",
    "* measure angle of connection between red and green led\n",
    "* rotation_dir: -1 robot is rotated left\n",
    "* write it to meta.csv"
   ]
  },
  {
   "cell_type": "markdown",
   "metadata": {},
   "source": [
    "### Apply manual mask to static objects"
   ]
  },
  {
   "cell_type": "code",
   "execution_count": null,
   "metadata": {
    "scrolled": true
   },
   "outputs": [],
   "source": [
    "%autoreload\n",
    "\n",
    "# Assumption: only one object per mask\n",
    "\n",
    "DEBUG = False\n",
    "for f in video_files:\n",
    "    meta = get_meta_info(PATH+'/meta.csv',f.rsplit('/',1)[1])[0]\n",
    "    cap = cv2.VideoCapture(f)\n",
    "    mask = cv2.imread(f.replace('.avi','_mask.png'),cv2.IMREAD_GRAYSCALE)\n",
    "    ret, mask = cv2.threshold(mask, 127, 255, cv2.THRESH_BINARY)\n",
    "    im2, contours, hierarchy = cv2.findContours(mask,cv2.RETR_EXTERNAL,cv2.CHAIN_APPROX_SIMPLE) \n",
    "    last_crop, seq_cnt, csv = [], 0, []\n",
    "    num_frames = int(cap.get(cv2.CAP_PROP_FRAME_COUNT))\n",
    "    for i in tqdm(range(num_frames)):\n",
    "        ret, frame = cap.read()  \n",
    "        comb = applyAlphaMask(frame,mask)\n",
    "        rotation = (90 - float(meta['gimp_rotation'])) * float(meta['rotation_dir'])\n",
    "        current_crop = extractObjects(comb, contours, rotation)[0]\n",
    "        hasChanged,diff = hasCropChanged(current_crop, last_crop)\n",
    "        if hasChanged:\n",
    "            seq_cnt += 1\n",
    "            rel_path = f.replace(PATH,'').replace('.avi', \"\")\n",
    "            csv.append((rel_path,i))\n",
    "            last_crop = current_crop\n",
    "            if DEBUG:\n",
    "                plt.imshow(diffs[j])\n",
    "                plt.show()\n",
    "        path = f.replace(PATH,MAN_MASK_OUT).replace('.avi','/')\n",
    "        writeObject(current_crop, path, i)\n",
    "    writeCSV(f.replace(PATH, MAN_MASK_OUT).replace('.avi','_id_auto1.csv'),csv)\n",
    "    cap.release()"
   ]
  },
  {
   "cell_type": "markdown",
   "metadata": {},
   "source": [
    "* Check rotation correction\n",
    "\n",
    "### Autofill CSV sequence files\n",
    "\n",
    "* Preparation: Add first frame id and last frame id to meta.csv"
   ]
  },
  {
   "cell_type": "code",
   "execution_count": null,
   "metadata": {
    "scrolled": true
   },
   "outputs": [],
   "source": [
    "%autoreload\n",
    "COPTER_SEQ_LEN = 51\n",
    "SPHERO_SEQ_LEN = 56\n",
    "SEQ_LEN_EPSILON = 15\n",
    "UNDEFINED_EPSILON = 5\n",
    "\n",
    "csv_files = get_recursive_file_list(MAN_MASK_OUT+SUB_DIR, file_matchers=[\"auto1\"],file_extensions=[\".csv\"])\n",
    "for f in csv_files:\n",
    "    print(f)    \n",
    "    rows = readCSV(f)\n",
    "    meta = get_meta_info(PATH+'/meta.csv',rows[0][0].rsplit('/',1)[1])[0]\n",
    "    if meta['identification'] == 'auto_sphero':\n",
    "        seq = SPHERO_SEQ\n",
    "        seq_len = SPHERO_SEQ_LEN\n",
    "    elif meta['identification'] == 'auto_copter':\n",
    "        seq = COPTER_SEQ\n",
    "        seq_len = COPTER_SEQ_LEN\n",
    "    else:\n",
    "        writeCSV(f.replace('auto1.csv','auto2.csv'),[(rows[0][0],rows[0][1],meta['identification'])])\n",
    "        continue\n",
    "    \n",
    "    new_rows = []\n",
    "    first_color = meta['first_frame_id']\n",
    "    seq_idx = seq.index(first_color)\n",
    "    id = seq[seq_idx]\n",
    "    seq_snippet_frame_cnt = 0\n",
    "    for i in range(len(rows)-1):       \n",
    "        if rows[i+1][1] == '': continue\n",
    "        diffraw = int(rows[i+1][1]) - int(rows[i][1])\n",
    "        diff = diffraw + seq_snippet_frame_cnt\n",
    "        if i == 0:\n",
    "            id = seq[seq_idx]\n",
    "            seq_idx = (seq_idx+1)%len(seq)\n",
    "        elif diff < UNDEFINED_EPSILON:\n",
    "            id = 'undefined'\n",
    "        elif diff > seq_len - SEQ_LEN_EPSILON and diff < seq_len + SEQ_LEN_EPSILON:\n",
    "            id = seq[seq_idx]\n",
    "            seq_idx = (seq_idx+1)%len(seq)\n",
    "            seq_snippet_frame_cnt = 0\n",
    "        elif diff < seq_len + SEQ_LEN_EPSILON:\n",
    "            print('Sequence incomplete. Add snipped.')\n",
    "            seq_snippet_frame_cnt = diff\n",
    "            id = seq[seq_idx]\n",
    "        elif diffraw > seq_len - SEQ_LEN_EPSILON and diffraw < seq_len + SEQ_LEN_EPSILON:\n",
    "            print('Last sequence seems to be incomplete (frame lag)')\n",
    "            seq_idx = (seq_idx+1)%len(seq)\n",
    "            id = seq[seq_idx]\n",
    "            seq_idx = (seq_idx+1)%len(seq)\n",
    "            seq_snippet_frame_cnt = 0\n",
    "        else:\n",
    "            print('Snippet technique hasn\\'t worked')\n",
    "            id = seq[seq_idx]\n",
    "            seq_idx = (seq_idx+1)%len(seq)\n",
    "            seq_snippet_frame_cnt = 0\n",
    "            #assert(False)\n",
    "            \n",
    "        print(id+': '+str(diffraw))\n",
    "        new_rows.append((rows[i][0],rows[i][1],id))\n",
    "        \n",
    "    id = seq[seq_idx]        \n",
    "    if meta['last_frame_id'] != id:\n",
    "        print(\"Mismatch at last sequence: \"+meta['last_frame_id'] +' vs '+ id)\n",
    "        assert(False)\n",
    "    else:\n",
    "        new_rows.append((rows[-1][0],rows[-1][1],id))\n",
    "        writeCSV(f.replace('auto1.csv','auto2.csv'),new_rows)"
   ]
  },
  {
   "cell_type": "markdown",
   "metadata": {},
   "source": [
    "### Move CSV sequence files\n",
    "\n",
    "* Execute clean up block below\n",
    "* **Manually move id csv files** to PATH + SUB_DIR (video files)"
   ]
  },
  {
   "cell_type": "code",
   "execution_count": null,
   "metadata": {},
   "outputs": [],
   "source": [
    "# Rename final files and remove auto csv files\n",
    "CSV_PATH = MAN_MASK_OUT + SUB_DIR\n",
    "csv_files = get_recursive_file_list(CSV_PATH, file_matchers=[\"auto\"],file_extensions=[\".csv\"])\n",
    "for f in csv_files:\n",
    "    if 'auto2' in f:\n",
    "        os.rename(f,f.replace('_auto2.csv','.csv'))\n",
    "    if 'auto1' in f:\n",
    "        os.remove(f)"
   ]
  },
  {
   "cell_type": "markdown",
   "metadata": {},
   "source": [
    "### Move files to class according to CSV sequence files"
   ]
  },
  {
   "cell_type": "code",
   "execution_count": null,
   "metadata": {},
   "outputs": [],
   "source": [
    "csv_files = get_recursive_file_list(PATH+SUB_DIR, file_excludes=[\"auto\",\"meta\"],file_extensions=[\".csv\"])\n",
    "for f in csv_files:\n",
    "    rows = readCSV(f)\n",
    "    first_frame_color = []\n",
    "    for r in rows: \n",
    "        first_frame_color.append([int(r[1]),r[2]])\n",
    "    video_sub_dir = f.replace(PATH,'').replace('_id.csv','/')\n",
    "    path = MAN_MASK_OUT + video_sub_dir\n",
    "    crop_files = get_recursive_file_list(path, file_extensions=[\".png\"])   \n",
    "    for cf in tqdm(crop_files):\n",
    "        frameNumber = extractFrameNumber(cf)\n",
    "        cat = color_for_frame(first_frame_color, frameNumber)\n",
    "        cf_name = cf.rsplit('/',1)[1]\n",
    "        new_file = path+'/'+cat+'/'+cf_name\n",
    "        os.makedirs(path+'/'+cat, exist_ok=True)\n",
    "        os.rename(cf,new_file)\n",
    "    for d in os.listdir(path):\n",
    "        if 'undefined' in d:\n",
    "            shutil.rmtree(path+'/'+d)"
   ]
  },
  {
   "cell_type": "markdown",
   "metadata": {},
   "source": [
    "**TODO: Check color assignment**\n",
    "\n",
    "### Save meta information and create archive"
   ]
  },
  {
   "cell_type": "code",
   "execution_count": null,
   "metadata": {},
   "outputs": [],
   "source": [
    "# Save meta information to each crop directory\n",
    "meta_rows = readCSV(PATH+\"/meta.csv\")\n",
    "keys = meta_rows[0]\n",
    "for r in meta_rows[1:]:\n",
    "    meta_dict = {}\n",
    "    for i in range(len(keys)):\n",
    "        meta_dict[keys[i]] = r[i]\n",
    "    meta_dict['crop_method'] = 'manual'\n",
    "    path = MAN_MASK_OUT + '/' + meta_dict['filename'].replace('.avi','/')\n",
    "    if not os.path.isdir(path): continue\n",
    "    for d in os.listdir(path):\n",
    "        meta_dict['identification'] = d\n",
    "        save_json(path+d+'/'+'meta.json', meta_dict) "
   ]
  },
  {
   "cell_type": "code",
   "execution_count": null,
   "metadata": {},
   "outputs": [],
   "source": [
    "# Create archive\n",
    "meta_rows = readCSV(PATH+\"/meta.csv\")\n",
    "keys = meta_rows[0]\n",
    "for r in meta_rows[1:]:\n",
    "    path = MAN_MASK_OUT + '/' + r[0].replace('.avi','')\n",
    "    if not os.path.isdir(path): continue\n",
    "    with tarfile.open(path + '.tar', \"w\") as tar:\n",
    "        tar.add(path, arcname=os.path.basename(path))\n",
    "    shutil.rmtree(path)"
   ]
  },
  {
   "cell_type": "markdown",
   "metadata": {
    "collapsed": true
   },
   "source": [
    "# Deprecated cells"
   ]
  },
  {
   "cell_type": "code",
   "execution_count": null,
   "metadata": {},
   "outputs": [],
   "source": [
    "# Check CSV files\n",
    "csv_files = get_recursive_file_list(PATH+SUB_DIR, file_excludes=[\"auto\",\"meta\"],file_extensions=[\".csv\"])\n",
    "for f in csv_files:\n",
    "    rows = readCSV(f)\n",
    "    for i in range(len(rows)-1):\n",
    "        if rows[i][2] == 'undefined' or rows[i][2] == '':\n",
    "            diff = int(rows[i+1][1]) - int(rows[i][1])\n",
    "            if diff > 5: \n",
    "                print('Undefined category has more than 5 items: '+f+\" # \"+str(i))\n",
    "        else:\n",
    "            diff = int(rows[i+1][1]) - int(rows[i][1])\n",
    "            if i != 0 and diff < 40:\n",
    "                print('Too less frames for: '+f+\" # \"+str(i))\n",
    "            if diff > 60:\n",
    "                print('Too much frames for: '+f+\" # \"+str(i))\n",
    "print(\"Checked {0} csv sequence files\".format(len(csv_files)))"
   ]
  },
  {
   "cell_type": "code",
   "execution_count": null,
   "metadata": {},
   "outputs": [],
   "source": []
  }
 ],
 "metadata": {
  "kernelspec": {
   "display_name": "Python 3",
   "language": "python",
   "name": "python3"
  },
  "language_info": {
   "codemirror_mode": {
    "name": "ipython",
    "version": 3
   },
   "file_extension": ".py",
   "mimetype": "text/x-python",
   "name": "python",
   "nbconvert_exporter": "python",
   "pygments_lexer": "ipython3",
   "version": "3.6.5"
  }
 },
 "nbformat": 4,
 "nbformat_minor": 2
}
