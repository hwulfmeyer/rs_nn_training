{
 "cells": [
  {
   "cell_type": "code",
   "execution_count": null,
   "metadata": {},
   "outputs": [],
   "source": [
    "import os\n",
    "import numpy as np\n",
    "import csv\n",
    "import re\n",
    "import fileinput"
   ]
  },
  {
   "cell_type": "code",
   "execution_count": null,
   "metadata": {},
   "outputs": [],
   "source": [
    "xmlPath = '/media/data/LocalizationData/Validation/CoptersFlying5'\n",
    "csvFile = '/media/data/LocalizationData/Validation/CoptersFlying5/orientations.csv'"
   ]
  },
  {
   "cell_type": "code",
   "execution_count": null,
   "metadata": {
    "scrolled": true
   },
   "outputs": [],
   "source": [
    "files_orientations = {}\n",
    "with open(csvFile, 'r') as csvfile:\n",
    "    reader = csv.reader(csvfile, delimiter=',')\n",
    "    for row in reader:\n",
    "        files_orientations[re.search('frame(.*).jpg', row[0]).group(1)] = float(row[1])\n",
    "#print(files_orientations)"
   ]
  },
  {
   "cell_type": "code",
   "execution_count": null,
   "metadata": {},
   "outputs": [],
   "source": [
    "for root, dirs, files in os.walk(xmlPath):\n",
    "    for f in files:\n",
    "        if f.endswith(\".xml\"):\n",
    "            filePath = root+'/'+f\n",
    "            print(filePath)\n",
    "            frameNumber = re.search('frame(.*).xml', filePath).group(1)\n",
    "            pose = files_orientations[frameNumber]\n",
    "            with fileinput.FileInput(filePath, inplace=True) as file:\n",
    "                for line in file:\n",
    "                    print(line.replace(\"<pose>Unspecified</pose>\", \"<pose>{0:.2f}</pose>\".format(pose)), end='')"
   ]
  },
  {
   "cell_type": "code",
   "execution_count": null,
   "metadata": {},
   "outputs": [],
   "source": []
  }
 ],
 "metadata": {
  "kernelspec": {
   "display_name": "Python 3",
   "language": "python",
   "name": "python3"
  },
  "language_info": {
   "codemirror_mode": {
    "name": "ipython",
    "version": 3
   },
   "file_extension": ".py",
   "mimetype": "text/x-python",
   "name": "python",
   "nbconvert_exporter": "python",
   "pygments_lexer": "ipython3",
   "version": "3.5.2"
  }
 },
 "nbformat": 4,
 "nbformat_minor": 2
}
