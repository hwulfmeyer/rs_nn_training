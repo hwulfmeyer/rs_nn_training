{
 "cells": [
  {
   "cell_type": "code",
   "execution_count": null,
   "metadata": {},
   "outputs": [],
   "source": [
    "%load_ext autoreload\n",
    "\n",
    "import numpy as np\n",
    "from PIL import Image\n",
    "from datetime import datetime\n",
    "from threading import Thread\n",
    "from multiprocessing import Process\n",
    "from object_detection.utils import label_map_util\n",
    "\n",
    "from CNNRobotLocalisation.SecondStage.second_stage_utils import *\n",
    "from CNNRobotLocalisation.Utils.file_utils import *\n",
    "from TwoStageFramework import TwoStageFramework\n",
    "from inference_utils import *"
   ]
  },
  {
   "cell_type": "code",
   "execution_count": null,
   "metadata": {},
   "outputs": [],
   "source": [
    "NETWORK_FILES = {\n",
    "    'FIRST_STAGE': '/home/lhoyer/cnn_robot_localization/training/first_stage_2/ssd_mobilenet2/exp1/background_diversity_coco/deploy_00/frozen_inference_graph.pb',\n",
    "    'COPTER_ID_NET': '/home/lhoyer/cnn_robot_localization/training_result_models/second_stage_2/sstage_amount_20000_copter_cat/2018-06-21-17-19/model-final.h5',\n",
    "    'SPHERO_ID_NET': '/home/lhoyer/cnn_robot_localization/training_result_models/second_stage_2/sstage_amount_20000_sphero_cat/2018-06-22-13-27/model-final.h5',\n",
    "    'YOUBOT_ID_NET': '/home/lhoyer/cnn_robot_localization/training_result_models/second_stage_2/sstage_amount_20000_youbot_cat/2018-06-20-14-12/model-final.h5',\n",
    "    'COPTER_ROT_NET': '/home/lhoyer/cnn_robot_localization/training_result_models/second_stage_2/sstage_amount_20000_copter_bin/2018-06-21-09-16/model-05-0.03.h5',\n",
    "    'SPHERO_ROT_NET': '/home/lhoyer/cnn_robot_localization/training_result_models/second_stage_2/sstage_amount_20000_sphero_bin/2018-06-21-01-31/model-05-0.00.h5',\n",
    "    'YOUBOT_ROT_NET': '/home/lhoyer/cnn_robot_localization/training_result_models/second_stage_2/sstage_amount_20000_youbot_bin/2018-06-21-03-55/model-05-0.00.h5',\n",
    "}\n",
    "PATH_TO_LABELS = \"/home/lhoyer/cnn_robot_localization/CNNRobotLocalisation/LabelMaps/robot_label_map.pbtxt\"\n",
    "PATH_TO_TEST_IMAGES_DIR = '/home/lhoyer/cnn_robot_localization/data/InferenceTest/1test'\n",
    "TEST_IMAGE_PATHS = get_recursive_file_list(PATH_TO_TEST_IMAGES_DIR, file_extensions=\".jpg\")\n",
    "SAVE_RESULTS=True\n",
    "\n",
    "label_map = label_map_util.load_labelmap(PATH_TO_LABELS)\n",
    "num_classes = label_map_util.get_max_label_map_index(\n",
    "                        label_map_util.load_labelmap(PATH_TO_LABELS)) + 1\n",
    "categories = label_map_util.convert_label_map_to_categories(label_map, max_num_classes=num_classes, use_display_name=True)\n",
    "category_index = label_map_util.create_category_index(categories)"
   ]
  },
  {
   "cell_type": "code",
   "execution_count": null,
   "metadata": {},
   "outputs": [],
   "source": [
    "two_stage_inference = TwoStageFramework(NETWORK_FILES)"
   ]
  },
  {
   "cell_type": "code",
   "execution_count": null,
   "metadata": {},
   "outputs": [],
   "source": [
    "TIMESTAMP = \"{:%Y-%m-%d-%H-%M-%S}\".format(datetime.now())\n",
    "if SAVE_RESULTS:\n",
    "    os.makedirs('/home/lhoyer/cnn_robot_localization/output/Inference/'+TIMESTAMP, exist_ok=True)\n",
    "i = 0\n",
    "\n",
    "\n",
    "for image_path in TEST_IMAGE_PATHS:\n",
    "    print(image_path)\n",
    "    xml_path = image_path.replace('.jpg','.xml')\n",
    "    image_hr = Image.open(image_path).convert('RGB')\n",
    "    threshold = 0.1\n",
    "    output_dict = two_stage_inference.infer(image_hr, threshold)\n",
    "\n",
    "    print(output_dict)\n",
    "\n",
    "    if SAVE_RESULTS:\n",
    "        thread = Thread(\n",
    "            target=save_visualization,\n",
    "            args=(image_hr, output_dict, category_index,i, TIMESTAMP)\n",
    "        )\n",
    "        thread.start()\n",
    "    i += 1\n",
    "# Evaluation: see ObjectDetectionEvaluator"
   ]
  },
  {
   "cell_type": "code",
   "execution_count": null,
   "metadata": {},
   "outputs": [],
   "source": [
    "from shutil import copyfile\n",
    "TIMESTAMP = \"{:%Y-%m-%d-%H-%M-%S}\".format(datetime.now())\n",
    "out_dir = '/home/lukas/Downloads/'+TIMESTAMP+'/'\n",
    "os.makedirs(out_dir, exist_ok=True)\n",
    "for name in NETWORK_FILES.keys():\n",
    "    dest = out_dir+name+('.pb' if 'FIRST_STAGE' in name else '.h5')\n",
    "    print(dest)\n",
    "    copyfile(NETWORK_FILES[name], dest)"
   ]
  },
  {
   "cell_type": "code",
   "execution_count": null,
   "metadata": {},
   "outputs": [],
   "source": []
  }
 ],
 "metadata": {
  "kernelspec": {
   "display_name": "Python 3",
   "language": "python",
   "name": "python3"
  },
  "language_info": {
   "codemirror_mode": {
    "name": "ipython",
    "version": 3
   },
   "file_extension": ".py",
   "mimetype": "text/x-python",
   "name": "python",
   "nbconvert_exporter": "python",
   "pygments_lexer": "ipython3",
   "version": "3.5.2"
  }
 },
 "nbformat": 4,
 "nbformat_minor": 2
}
