{
 "cells": [
  {
   "cell_type": "code",
   "execution_count": null,
   "metadata": {},
   "outputs": [],
   "source": [
    "import tensorflow as tf\n",
    "from object_detection.data_decoders import tf_example_decoder\n",
    "from object_detection.utils import label_map_util\n",
    "from object_detection.utils import visualization_utils as vis_util\n",
    "from matplotlib import pyplot as plt\n",
    "\n",
    "%matplotlib inline"
   ]
  },
  {
   "cell_type": "code",
   "execution_count": null,
   "metadata": {},
   "outputs": [],
   "source": [
    "IMAGE_SIZE = (12, 6)\n",
    "PATH_TO_LABELS = '/media/data/LocalizationData/TF/data/copter_label_map.pbtxt'\n",
    "NUM_CLASSES = 8"
   ]
  },
  {
   "cell_type": "code",
   "execution_count": null,
   "metadata": {},
   "outputs": [],
   "source": [
    "label_map = label_map_util.load_labelmap(PATH_TO_LABELS)\n",
    "categories = label_map_util.convert_label_map_to_categories(label_map, max_num_classes=NUM_CLASSES, use_display_name=True)\n",
    "category_index = label_map_util.create_category_index(categories)"
   ]
  },
  {
   "cell_type": "code",
   "execution_count": null,
   "metadata": {
    "scrolled": true
   },
   "outputs": [],
   "source": [
    "sess = tf.InteractiveSession()\n",
    "\n",
    "i = -1\n",
    "for example in tf.python_io.tf_record_iterator(\"/media/data/LocalizationData/TF/data/test-coptersflying.record\"):\n",
    "    i = i+1\n",
    "    if i < 0 or i > 20:\n",
    "        continue\n",
    "    decoder = tf_example_decoder.TfExampleDecoder()\n",
    "    tf_dict = decoder.decode(example)\n",
    "    img = tf_dict['image'].eval()\n",
    "    vis_util.visualize_boxes_and_labels_on_image_array(\n",
    "        img,\n",
    "        tf_dict['groundtruth_boxes'].eval(),\n",
    "        tf_dict['groundtruth_classes'].eval(),\n",
    "        [1]*tf_dict['num_groundtruth_boxes'].eval(),\n",
    "        category_index,\n",
    "        use_normalized_coordinates=True,\n",
    "        line_thickness=4)\n",
    "    plt.figure(figsize=IMAGE_SIZE)\n",
    "    plt.imshow(img)\n",
    "    plt.show()"
   ]
  },
  {
   "cell_type": "code",
   "execution_count": null,
   "metadata": {},
   "outputs": [],
   "source": []
  }
 ],
 "metadata": {
  "kernelspec": {
   "display_name": "Python 3",
   "language": "python",
   "name": "python3"
  },
  "language_info": {
   "codemirror_mode": {
    "name": "ipython",
    "version": 3
   },
   "file_extension": ".py",
   "mimetype": "text/x-python",
   "name": "python",
   "nbconvert_exporter": "python",
   "pygments_lexer": "ipython3",
   "version": "3.5.2"
  }
 },
 "nbformat": 4,
 "nbformat_minor": 2
}
