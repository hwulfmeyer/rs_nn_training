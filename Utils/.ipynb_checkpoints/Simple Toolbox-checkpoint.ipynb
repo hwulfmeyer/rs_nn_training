{
 "cells": [
  {
   "cell_type": "code",
   "execution_count": null,
   "metadata": {},
   "outputs": [],
   "source": [
    "import sys\n",
    "#Fix problem with ros python path\n",
    "sys.path.remove('/opt/ros/kinetic/lib/python2.7/site-packages')"
   ]
  },
  {
   "cell_type": "code",
   "execution_count": null,
   "metadata": {},
   "outputs": [],
   "source": [
    "import re\n",
    "import os, sys\n",
    "%load_ext autoreload\n",
    "from CNNRobotLocalisation.Utils.utils import *"
   ]
  },
  {
   "cell_type": "markdown",
   "metadata": {},
   "source": [
    "## Average training time"
   ]
  },
  {
   "cell_type": "code",
   "execution_count": null,
   "metadata": {},
   "outputs": [],
   "source": [
    "with open('/media/data/Dokumente/Nextcloud/Studium/Bachelorarbeit/DataPreprocessing/tf_training_output.txt') as f:\n",
    "    lines = f.read().splitlines()\n",
    "#print(lines)\n",
    "times = []\n",
    "for l in lines:\n",
    "    times.append(float(re.search('\\((.*) sec/step', l).group(1)))\n",
    "print(\"Average runtime: \" + str(sum(times) / float(len(times))))"
   ]
  },
  {
   "cell_type": "markdown",
   "metadata": {},
   "source": [
    "## Export video frames"
   ]
  },
  {
   "cell_type": "code",
   "execution_count": null,
   "metadata": {},
   "outputs": [],
   "source": [
    "background_videos = get_recursive_file_list('/media/data/LocalizationDataNew/Videos/180417/height', \n",
    "                                            file_extensions=\".avi\")\n",
    "for f in background_videos:\n",
    "    out = '/media/data/LocalizationDataNew/Output/VideoFrames/'+f.rsplit('/',1)[1].replace('.avi','/')\n",
    "    save_video_frames(f, out, mod_frames=5)"
   ]
  },
  {
   "cell_type": "markdown",
   "metadata": {},
   "source": [
    "## Color transformation"
   ]
  },
  {
   "cell_type": "code",
   "execution_count": null,
   "metadata": {},
   "outputs": [],
   "source": [
    "from PIL import ImageEnhance, Image\n",
    "import numpy as np\n",
    "from matplotlib import pyplot as plt\n",
    "%matplotlib inline\n",
    "\n",
    "image = Image.open('/media/data/LocalizationData/RobotCrops/ManualSelection180413/Copter/180413_copter_red_4_rot_obj0/green_blue/frame000643-object00.png').convert('RGBA')\n",
    "\n",
    "# Brightness: 0.8 - 1.6\n",
    "# Contrast: 1.0 - 1.6\n",
    "\n",
    "for i in range(10):\n",
    "    for j in range(5,6):\n",
    "        brightness = i / 5.0\n",
    "        contrast = j / 5.0\n",
    "        enhancer = ImageEnhance.Brightness(image)\n",
    "        new_img = enhancer.enhance(brightness)\n",
    "        enhancer = ImageEnhance.Contrast(new_img)\n",
    "        new_img = enhancer.enhance(contrast)\n",
    "        print(\"Brightness: {0}; Contrast: {1}\".format(brightness,contrast))\n",
    "        plt.imshow(new_img)\n",
    "        plt.show()"
   ]
  },
  {
   "cell_type": "markdown",
   "metadata": {
    "collapsed": true
   },
   "source": [
    "## Class dir to csv"
   ]
  },
  {
   "cell_type": "code",
   "execution_count": null,
   "metadata": {},
   "outputs": [],
   "source": [
    "from object_detection.utils import label_map_util\n",
    "PATH_TO_LABELS = \"/media/data/Dokumente/Nextcloud/Studium/Bachelorarbeit/CNNRobotLocalisation/LabelMaps/robot_label_map.pbtxt\"\n",
    "labelMapDict = label_map_util.get_label_map_dict(PATH_TO_LABELS)\n",
    "\n",
    "path = \"/media/data/LocalizationData/Output/ValidationSecondStage/Crops180413Backup\"\n",
    "files = get_recursive_file_list(path, file_extensions=['.jpg'])\n",
    "csv_rows = []\n",
    "for f in files:\n",
    "    name = f.rsplit('/', 1)[-1]\n",
    "    cat_text = 'copter_'+f.rsplit('/',2)[1]\n",
    "    cat = labelMapDict[cat_text]\n",
    "    csv_rows.append((name,cat_text,cat,0.0))\n",
    "writeCSV(path+\"/0groundtruth.csv\",csv_rows)"
   ]
  },
  {
   "cell_type": "markdown",
   "metadata": {
    "collapsed": true
   },
   "source": [
    "### Number of records in tfrecord"
   ]
  },
  {
   "cell_type": "code",
   "execution_count": null,
   "metadata": {},
   "outputs": [],
   "source": [
    "import tensorflow as tf\n",
    "c = 0\n",
    "for fn in ['/media/data/Dokumente/Nextcloud/Freigabe/DeepVision/realreal_objects.tfrecord']:\n",
    "    for record in tf.python_io.tf_record_iterator(fn):\n",
    "        c += 1\n",
    "    print(fn + ': ' + str(c))"
   ]
  },
  {
   "cell_type": "code",
   "execution_count": null,
   "metadata": {},
   "outputs": [],
   "source": []
  }
 ],
 "metadata": {
  "kernelspec": {
   "display_name": "Python 3",
   "language": "python",
   "name": "python3"
  },
  "language_info": {
   "codemirror_mode": {
    "name": "ipython",
    "version": 3
   },
   "file_extension": ".py",
   "mimetype": "text/x-python",
   "name": "python",
   "nbconvert_exporter": "python",
   "pygments_lexer": "ipython3",
   "version": "3.6.5"
  }
 },
 "nbformat": 4,
 "nbformat_minor": 2
}
