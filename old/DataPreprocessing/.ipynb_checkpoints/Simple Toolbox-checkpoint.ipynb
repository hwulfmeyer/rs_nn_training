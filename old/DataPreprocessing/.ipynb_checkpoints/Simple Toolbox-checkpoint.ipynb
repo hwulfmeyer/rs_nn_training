{
 "cells": [
  {
   "cell_type": "code",
   "execution_count": null,
   "metadata": {},
   "outputs": [],
   "source": [
    "import re"
   ]
  },
  {
   "cell_type": "markdown",
   "metadata": {},
   "source": [
    "## Average training time"
   ]
  },
  {
   "cell_type": "code",
   "execution_count": null,
   "metadata": {},
   "outputs": [],
   "source": [
    "with open('/media/data/Dokumente/Nextcloud/Studium/Bachelorarbeit/DataPreprocessing/tf_training_output.txt') as f:\n",
    "    lines = f.read().splitlines()\n",
    "#print(lines)\n",
    "times = []\n",
    "for l in lines:\n",
    "    times.append(float(re.search('\\((.*) sec/step', l).group(1)))\n",
    "print(\"Average runtime: \" + str(sum(times) / float(len(times))))"
   ]
  },
  {
   "cell_type": "code",
   "execution_count": null,
   "metadata": {},
   "outputs": [],
   "source": []
  }
 ],
 "metadata": {
  "kernelspec": {
   "display_name": "Python 3",
   "language": "python",
   "name": "python3"
  },
  "language_info": {
   "codemirror_mode": {
    "name": "ipython",
    "version": 3
   },
   "file_extension": ".py",
   "mimetype": "text/x-python",
   "name": "python",
   "nbconvert_exporter": "python",
   "pygments_lexer": "ipython3",
   "version": "3.5.2"
  }
 },
 "nbformat": 4,
 "nbformat_minor": 2
}
