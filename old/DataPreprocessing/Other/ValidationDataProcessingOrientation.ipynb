{
 "cells": [
  {
   "cell_type": "code",
   "execution_count": null,
   "metadata": {},
   "outputs": [],
   "source": [
    "import sys\n",
    "#Fix problem with ros python path\n",
    "sys.path.remove('/opt/ros/kinetic/lib/python2.7/dist-packages')"
   ]
  },
  {
   "cell_type": "code",
   "execution_count": null,
   "metadata": {},
   "outputs": [],
   "source": [
    "import numpy as np\n",
    "import os, math\n",
    "import pascal_voc_writer\n",
    "from tqdm import tqdm\n",
    "import cv2\n",
    "import csv\n",
    "from matplotlib import pyplot as plt\n",
    "%matplotlib inline"
   ]
  },
  {
   "cell_type": "code",
   "execution_count": null,
   "metadata": {},
   "outputs": [],
   "source": [
    "# Old methods\n",
    "def generateMaskColor(frame, frameNum):\n",
    "    frameStr = \"frame\"+str(frameNum).zfill(6)\n",
    "    kernel1 = cv2.getStructuringElement(cv2.MORPH_ELLIPSE,(3,3))\n",
    "    (b, g, r) = cv2.split(frame)\n",
    "    ret, b = cv2.threshold(b, 200, 255, cv2.THRESH_BINARY)\n",
    "    ret, r = cv2.threshold(r, 254, 255, cv2.THRESH_BINARY)\n",
    "    rb = cv2.bitwise_and(r,b)\n",
    "    cv2.imwrite(out_path+\"Orientation/\"+frameStr+\".jpg\", rb)\n",
    "    #cv2.imshow('orig',rb)\n",
    "def generateMaskHSV(frame):\n",
    "    hsv = cv2.cvtColor(frame, cv2.COLOR_BGR2HSV)\n",
    "    (h, s, v) = cv2.split(frame)\n",
    "    cv2.imshow('orig',v)  "
   ]
  },
  {
   "cell_type": "code",
   "execution_count": null,
   "metadata": {},
   "outputs": [],
   "source": [
    "def centroid(contours):\n",
    "    if len(contours) > 0:\n",
    "        cnt = contours[0]    \n",
    "        M = cv2.moments(cnt)\n",
    "        cx = int(M['m10']/M['m00'])\n",
    "        cy = int(M['m01']/M['m00'])\n",
    "        return cx,cy\n",
    "    return 0,0\n",
    "\n",
    "def minRect(frame, frameNum):\n",
    "    frameStr = \"frame\"+str(frameNum).zfill(6)\n",
    "    kernel1 = cv2.getStructuringElement(cv2.MORPH_ELLIPSE,(50,50))\n",
    "    (b, g, r) = cv2.split(frame)\n",
    "    ret, b = cv2.threshold(b, 200, 255, cv2.THRESH_BINARY)\n",
    "    b = cv2.dilate(b,kernel1)\n",
    "    \n",
    "    thetas = []\n",
    "    im2, contours, hierarchy = cv2.findContours(b,cv2.RETR_EXTERNAL,cv2.CHAIN_APPROX_SIMPLE)\n",
    "    if len(contours) > 0:\n",
    "        rect = cv2.minAreaRect(contours[0])\n",
    "        box = cv2.boxPoints(rect)\n",
    "        box = np.int0(box)\n",
    "        for j in range(4):\n",
    "            thetas.append(math.atan2(box[(j+1)%4][0]-box[j][0],box[(j+1)%4][1]-box[j][1]) * 180 / np.pi)\n",
    "        if PREPARATION_MODE:\n",
    "            cv2.drawContours(frame,[box],0,(0,255,255),2)\n",
    "    return centroid(contours), thetas\n",
    "    \n",
    "def minRectR(frame, frameNum):\n",
    "    frameStr = \"frame\"+str(frameNum).zfill(6)\n",
    "    kernel1 = cv2.getStructuringElement(cv2.MORPH_ELLIPSE,(3,3))\n",
    "    kernel2 = cv2.getStructuringElement(cv2.MORPH_ELLIPSE,(50,50))\n",
    "    (b, g, r) = cv2.split(frame)\n",
    "    ret, b = cv2.threshold(b, 200, 255, cv2.THRESH_BINARY)\n",
    "    ret, r = cv2.threshold(r, 240, 255, cv2.THRESH_BINARY)\n",
    "    r = cv2.erode(r,kernel1)\n",
    "    r = cv2.dilate(r,kernel2)\n",
    "    \n",
    "    im2, contours, hierarchy = cv2.findContours(r,cv2.RETR_EXTERNAL,cv2.CHAIN_APPROX_SIMPLE)\n",
    "    return centroid(contours)"
   ]
  },
  {
   "cell_type": "code",
   "execution_count": null,
   "metadata": {
    "scrolled": true
   },
   "outputs": [],
   "source": [
    "path = \"/media/data/LocalizationData/\"\n",
    "out_path = path+\"Output/Validation/CoptersFlying1/\"\n",
    "os.makedirs(out_path+\"Orientation\", exist_ok=True)\n",
    "PREPARATION_MODE = False\n",
    "\n",
    "cap2 = cv2.VideoCapture('/media/data/LocalizationData/Videos/CopterWithLEDFlight/copters_flying1.avi')\n",
    "\n",
    "csv_rows = []\n",
    "for i in tqdm(range(int(cap2.get(cv2.CAP_PROP_FRAME_COUNT)))):\n",
    "    ret, frame = cap2.read()\n",
    "    if ret == False:\n",
    "        break\n",
    "    if i%4 == 0:\n",
    "        cx2, cy2 = minRectR(frame,i)\n",
    "        (cx, cy), thetasRect = minRect(frame,i)\n",
    "        frameStr = \"frame\"+str(i).zfill(6)\n",
    "        theta = math.atan2(cx2-cx,cy2-cy) * 180 / np.pi\n",
    "        for t in thetasRect:\n",
    "            if min(abs(t-theta),360-abs(t-theta)) < 45:\n",
    "                theta = t\n",
    "        #print(theta)\n",
    "        \n",
    "        # TODO: Use rotated rect for theta\n",
    "        \n",
    "        if PREPARATION_MODE:\n",
    "            size = 100\n",
    "            cv2.circle(frame,(cx2,cy2), 5, (0,0,255), -1)\n",
    "            cv2.circle(frame,(cx,cy), 5, (0,255,0), -1)\n",
    "            cv2.arrowedLine(frame,\n",
    "                (cx,cy),\n",
    "                (int(cx-math.sin(theta*np.pi/180)*size),int(cy-math.cos(theta*np.pi/180)*size)), \n",
    "                (0,0,255),3)\n",
    "            cv2.imshow('outframe', frame)\n",
    "        else:\n",
    "            file_name = out_path+\"Orientation/\"+frameStr+\".jpg\"\n",
    "            csv_rows.append([file_name,theta,cx,cy])\n",
    "            cv2.imwrite(file_name, frame)\n",
    "\n",
    "    if cv2.waitKey(1) & 0xFF == ord('q'):\n",
    "        break\n",
    "\n",
    "with open(out_path+'Orientation/orientations.csv', 'w') as csvfile:\n",
    "    spamwriter = csv.writer(csvfile, delimiter=',',\n",
    "                            quotechar='\"', quoting=csv.QUOTE_MINIMAL)\n",
    "    for row in csv_rows:\n",
    "        spamwriter.writerow(row)\n",
    "        \n",
    "cap2.release()\n",
    "cv2.destroyAllWindows()"
   ]
  },
  {
   "cell_type": "code",
   "execution_count": null,
   "metadata": {},
   "outputs": [],
   "source": []
  }
 ],
 "metadata": {
  "kernelspec": {
   "display_name": "Python 3",
   "language": "python",
   "name": "python3"
  },
  "language_info": {
   "codemirror_mode": {
    "name": "ipython",
    "version": 3
   },
   "file_extension": ".py",
   "mimetype": "text/x-python",
   "name": "python",
   "nbconvert_exporter": "python",
   "pygments_lexer": "ipython3",
   "version": "3.5.2"
  }
 },
 "nbformat": 4,
 "nbformat_minor": 2
}
