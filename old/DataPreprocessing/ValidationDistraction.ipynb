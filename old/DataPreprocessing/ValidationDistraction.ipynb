{
 "cells": [
  {
   "cell_type": "code",
   "execution_count": null,
   "metadata": {},
   "outputs": [],
   "source": [
    "import numpy.random as nr\n",
    "from random import shuffle\n",
    "import math\n",
    "import shutil\n",
    "from PIL import Image\n",
    "from tqdm import tqdm\n",
    "import tensorflow as tf\n",
    "from object_detection.utils import label_map_util\n",
    "from matplotlib import pyplot as plt\n",
    "from CNNRobotLocalisation.Utils.file_utils import *"
   ]
  },
  {
   "cell_type": "code",
   "execution_count": null,
   "metadata": {},
   "outputs": [],
   "source": [
    "PATH = '/media/data/LocalizationDataNew/Output/ValidationTFRecord'\n",
    "DISTR_PATH = '/media/data/LocalizationDataNew/Remote/data/tmp/ValidationDistraction'\n",
    "OUT_PATH = '/media/data/LocalizationDataNew/Output/ValidationTFRecordDistr'"
   ]
  },
  {
   "cell_type": "code",
   "execution_count": null,
   "metadata": {},
   "outputs": [],
   "source": [
    "def getBBs(f):\n",
    "    data = parseXML(f)['annotation']\n",
    "    xmins, ymins, xmaxs, ymaxs = [],[],[],[]\n",
    "    for obj in data['object']:\n",
    "        xmins.append(float(obj['bndbox']['xmin']))\n",
    "        ymins.append(float(obj['bndbox']['ymin']))\n",
    "        xmaxs.append(float(obj['bndbox']['xmax']))\n",
    "        ymaxs.append(float(obj['bndbox']['ymax']))\n",
    "    return xmins, ymins, xmaxs, ymaxs\n",
    "\n",
    "\n",
    "def overlap(a,b):\n",
    "    x = max(a[0], b[0])\n",
    "    y = max(a[1], b[1])\n",
    "    w = min(a[0]+a[2], b[0]+b[2]) - x\n",
    "    h = min(a[1]+a[3], b[1]+b[3]) - y\n",
    "    if w<0 or h<0: \n",
    "        return False\n",
    "    else:\n",
    "        return True\n",
    "\n",
    "def isColliding(x,y,w,h, bbs):\n",
    "    for i in range(len(bbs[0])):\n",
    "        xmin = bbs[0][i]-10\n",
    "        ymin = bbs[1][i]-10\n",
    "        xmax = bbs[2][i]+10\n",
    "        ymax = bbs[3][i]+10\n",
    "        if overlap((xmin,ymin,xmax-xmin,ymax-ymin),(x,y,w,h)):\n",
    "            return True\n",
    "    return False"
   ]
  },
  {
   "cell_type": "code",
   "execution_count": null,
   "metadata": {
    "scrolled": true
   },
   "outputs": [],
   "source": [
    "fs = get_recursive_file_list(PATH, file_extensions=['.xml'])\n",
    "dfs = get_recursive_file_list(DISTR_PATH, file_extensions=['.png'])\n",
    "for f in tqdm(fs):\n",
    "    bbs = getBBs(f) \n",
    "    bg = Image.open(f.replace('.xml','.jpg')).convert('RGB')\n",
    "    for i in range(3):\n",
    "        df = nr.choice(dfs)\n",
    "        try:\n",
    "            obj = Image.open(df)\n",
    "        except OSError as e:\n",
    "            print(e)\n",
    "        #scl = int(nr.uniform(10, 200))\n",
    "        #obj = obj.resize((scl,scl), resample=Image.LANCZOS)\n",
    "        rot = nr.randint(360)\n",
    "        obj = obj.rotate(rot, resample=Image.BICUBIC, expand=True)\n",
    "        obj=obj.crop(obj.getbbox())\n",
    "        pos = (nr.randint(0, bg.width-obj.width), nr.randint(0, bg.height-obj.height))\n",
    "        if isColliding(pos[0],pos[1],obj.width,obj.height,bbs):\n",
    "            continue\n",
    "        bg.paste(obj, pos, obj.split()[-1])\n",
    "    out_f = f.replace(PATH,OUT_PATH).replace('.xml','.jpg')\n",
    "    os.makedirs(out_f.rsplit('/',1)[0], exist_ok=True)\n",
    "    bg.save(out_f)    \n",
    "    shutil.copy(f, f.replace(PATH,OUT_PATH))"
   ]
  },
  {
   "cell_type": "code",
   "execution_count": null,
   "metadata": {},
   "outputs": [],
   "source": []
  },
  {
   "cell_type": "code",
   "execution_count": null,
   "metadata": {},
   "outputs": [],
   "source": []
  }
 ],
 "metadata": {
  "kernelspec": {
   "display_name": "Python 3",
   "language": "python",
   "name": "python3"
  },
  "language_info": {
   "codemirror_mode": {
    "name": "ipython",
    "version": 3
   },
   "file_extension": ".py",
   "mimetype": "text/x-python",
   "name": "python",
   "nbconvert_exporter": "python",
   "pygments_lexer": "ipython3",
   "version": "3.6.5"
  }
 },
 "nbformat": 4,
 "nbformat_minor": 2
}
