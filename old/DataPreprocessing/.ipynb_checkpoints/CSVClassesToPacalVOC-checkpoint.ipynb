{
 "cells": [
  {
   "cell_type": "code",
   "execution_count": null,
   "metadata": {},
   "outputs": [],
   "source": [
    "import os\n",
    "import numpy as np\n",
    "import csv\n",
    "import re\n",
    "import fileinput"
   ]
  },
  {
   "cell_type": "code",
   "execution_count": null,
   "metadata": {},
   "outputs": [],
   "source": [
    "xmlPath = '/media/data/LocalizationData/Validation/CoptersFlying2'\n",
    "csvFile = '/media/data/LocalizationData/Videos/CopterWithLEDFlight/copters_flying2_colors.csv'"
   ]
  },
  {
   "cell_type": "code",
   "execution_count": null,
   "metadata": {},
   "outputs": [],
   "source": [
    "first_frame_color = []\n",
    "with open(csvFile, 'r') as csvfile:\n",
    "    reader = csv.reader(csvfile, delimiter=',')\n",
    "    next(reader, None)\n",
    "    for row in reader:\n",
    "        first_frame_color.append((int(row[2]),row[1]))\n",
    "print(first_frame_color)\n",
    "\n",
    "def color_for_frame(i):\n",
    "    last_color = first_frame_color[0][1]\n",
    "    for pair in first_frame_color:\n",
    "        if i < pair[0]:\n",
    "            if i >= pair[0]-3:\n",
    "                return \"undefined\"\n",
    "            return last_color\n",
    "        last_color = pair[1]\n",
    "    return last_color"
   ]
  },
  {
   "cell_type": "code",
   "execution_count": null,
   "metadata": {},
   "outputs": [],
   "source": [
    "for root, dirs, files in os.walk(xmlPath):\n",
    "    for f in files:\n",
    "        if f.endswith(\".xml\"):\n",
    "            filePath = root+'/'+f\n",
    "            print(filePath)\n",
    "            frameNumber = re.search('frame(.*).xml', filePath).group(1)\n",
    "            if frameNumber == '000000':\n",
    "                frameNumber = 0\n",
    "            else:\n",
    "                frameNumber = int(frameNumber.lstrip('0'))\n",
    "            cat = color_for_frame(frameNumber)\n",
    "            #print(frameNumber)\n",
    "            #print(cat)\n",
    "            with fileinput.FileInput(filePath, inplace=True) as file:\n",
    "                for line in file:\n",
    "                    print(line.replace(\"copter\", \"copter_\"+cat), end='')"
   ]
  },
  {
   "cell_type": "code",
   "execution_count": null,
   "metadata": {},
   "outputs": [],
   "source": []
  }
 ],
 "metadata": {
  "kernelspec": {
   "display_name": "Python 3",
   "language": "python",
   "name": "python3"
  },
  "language_info": {
   "codemirror_mode": {
    "name": "ipython",
    "version": 3
   },
   "file_extension": ".py",
   "mimetype": "text/x-python",
   "name": "python",
   "nbconvert_exporter": "python",
   "pygments_lexer": "ipython3",
   "version": "3.5.2"
  }
 },
 "nbformat": 4,
 "nbformat_minor": 2
}
