{
 "cells": [
  {
   "cell_type": "code",
   "execution_count": null,
   "metadata": {},
   "outputs": [],
   "source": [
    "import os\n",
    "import tensorflow as tf\n",
    "from tqdm import tqdm\n",
    "from lxml import etree\n",
    "from PIL import Image, ImageDraw\n",
    "\n",
    "from object_detection.utils import dataset_util\n",
    "from object_detection.utils import label_map_util\n",
    "\n",
    "import warnings\n",
    "warnings.simplefilter(action='ignore', category=FutureWarning)"
   ]
  },
  {
   "cell_type": "code",
   "execution_count": null,
   "metadata": {},
   "outputs": [],
   "source": [
    "path = '/media/data/LocalizationData/Validation'\n",
    "label_map_path = '/media/data/LocalizationData/TF/data/copter_label_map.pbtxt'\n",
    "out_file = '/media/data/LocalizationData/TF/data/test-coptersflying-c1478.record'\n",
    "label_map_dict = label_map_util.get_label_map_dict(label_map_path)\n",
    "exclude_classes = [2,3,5,6]"
   ]
  },
  {
   "cell_type": "code",
   "execution_count": null,
   "metadata": {},
   "outputs": [],
   "source": [
    "def parseXML(file):\n",
    "    with tf.gfile.GFile(file, 'r') as fid:\n",
    "        xml_str = fid.read()\n",
    "    xml = etree.fromstring(xml_str)\n",
    "    return dataset_util.recursive_parse_xml_to_dict(xml)\n",
    "\n",
    "def areClassesSupported(data):\n",
    "    for obj in data['object']:\n",
    "        if obj['name'] not in label_map_dict.keys() or \\\n",
    "           label_map_dict[obj['name']] in exclude_classes:\n",
    "            return False\n",
    "    return True"
   ]
  },
  {
   "cell_type": "code",
   "execution_count": null,
   "metadata": {},
   "outputs": [],
   "source": [
    "tf_examples = []\n",
    "jpgs = []\n",
    "for root, dirs, files in os.walk(path):\n",
    "    for f in files:\n",
    "        if f.endswith(\".jpg\"):\n",
    "            jpgs.append(root+'/'+f)\n",
    "jpgs.sort()\n",
    "for jpg in tqdm(jpgs):\n",
    "    xml = jpg.replace(\".jpg\",\".xml\")\n",
    "    data = parseXML(xml)['annotation']\n",
    "    if not areClassesSupported(data):\n",
    "        #print(\"skip unsupported cats\")\n",
    "        continue\n",
    "        \n",
    "    image = Image.open(jpg)\n",
    "    draw = ImageDraw.Draw(image)\n",
    "    draw.rectangle(((0, 0), (100, 100)), fill=data['object'][0]['name'].replace(\"copter_\",\"\"))\n",
    "    image.save(\"/tmp/img.jpg\", \"JPEG\")\n",
    "    with tf.gfile.GFile(\"/tmp/img.jpg\", 'rb') as fid:\n",
    "        encoded_jpg = fid.read()\n",
    "    width = int(data['size']['width'])\n",
    "    height = int(data['size']['height'])\n",
    "\n",
    "    xmin, ymin, xmax, ymax = [],[],[],[]\n",
    "    classes, classes_text = [],[]\n",
    "    for obj in data['object']:\n",
    "        xmin.append(float(obj['bndbox']['xmin']) / width)\n",
    "        ymin.append(float(obj['bndbox']['ymin']) / height)\n",
    "        xmax.append(float(obj['bndbox']['xmax']) / width)\n",
    "        ymax.append(float(obj['bndbox']['ymax']) / height)\n",
    "        classes_text.append(obj['name'].encode('utf8'))\n",
    "        classes.append(label_map_dict[obj['name']])\n",
    "\n",
    "    example = tf.train.Example(features=tf.train.Features(feature={\n",
    "        'image/height': dataset_util.int64_feature(height),\n",
    "        'image/width': dataset_util.int64_feature(width),\n",
    "        'image/filename': dataset_util.bytes_feature(\n",
    "          data['filename'].encode('utf8')),\n",
    "        'image/source_id': dataset_util.bytes_feature(\n",
    "          data['filename'].encode('utf8')),\n",
    "        'image/encoded': dataset_util.bytes_feature(encoded_jpg),\n",
    "        'image/format': dataset_util.bytes_feature('jpeg'.encode('utf8')),\n",
    "        'image/object/bbox/xmin': dataset_util.float_list_feature(xmin),\n",
    "        'image/object/bbox/xmax': dataset_util.float_list_feature(xmax),\n",
    "        'image/object/bbox/ymin': dataset_util.float_list_feature(ymin),\n",
    "        'image/object/bbox/ymax': dataset_util.float_list_feature(ymax),\n",
    "        'image/object/class/text': dataset_util.bytes_list_feature(classes_text),\n",
    "        'image/object/class/label': dataset_util.int64_list_feature(classes),\n",
    "    }))\n",
    "    tf_examples.append(example)\n",
    "            \n",
    "print(\"Number of tf examples: \" + len(tf_examples))\n",
    "writer = tf.python_io.TFRecordWriter(out_file)\n",
    "for example in tf_examples:\n",
    "    writer.write(example.SerializeToString())\n",
    "writer.close()"
   ]
  },
  {
   "cell_type": "code",
   "execution_count": null,
   "metadata": {},
   "outputs": [],
   "source": []
  },
  {
   "cell_type": "code",
   "execution_count": null,
   "metadata": {},
   "outputs": [],
   "source": []
  }
 ],
 "metadata": {
  "kernelspec": {
   "display_name": "Python 3",
   "language": "python",
   "name": "python3"
  },
  "language_info": {
   "codemirror_mode": {
    "name": "ipython",
    "version": 3
   },
   "file_extension": ".py",
   "mimetype": "text/x-python",
   "name": "python",
   "nbconvert_exporter": "python",
   "pygments_lexer": "ipython3",
   "version": "3.5.2"
  }
 },
 "nbformat": 4,
 "nbformat_minor": 2
}
