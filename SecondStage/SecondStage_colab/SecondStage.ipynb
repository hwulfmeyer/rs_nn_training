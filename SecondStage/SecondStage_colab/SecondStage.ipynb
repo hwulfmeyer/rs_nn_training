{
  "nbformat": 4,
  "nbformat_minor": 0,
  "metadata": {
    "accelerator": "GPU",
    "colab": {
      "name": "SecondStage2 (2).ipynb",
      "provenance": [],
      "collapsed_sections": [],
      "machine_shape": "hm"
    },
    "kernelspec": {
      "display_name": "Python 3",
      "language": "python",
      "name": "python3"
    },
    "language_info": {
      "codemirror_mode": {
        "name": "ipython",
        "version": 3
      },
      "file_extension": ".py",
      "mimetype": "text/x-python",
      "name": "python",
      "nbconvert_exporter": "python",
      "pygments_lexer": "ipython3",
      "version": "3.6.9"
    }
  },
  "cells": [
    {
      "cell_type": "code",
      "metadata": {
        "id": "_AXmKLCCxugb",
        "colab_type": "code",
        "colab": {}
      },
      "source": [
        "%tensorflow_version 1.x"
      ],
      "execution_count": 0,
      "outputs": []
    },
    {
      "cell_type": "code",
      "metadata": {
        "colab_type": "code",
        "id": "_BcJ4A6G0rjB",
        "outputId": "c3b79b43-e453-41b3-e112-141fb51ae168",
        "colab": {
          "base_uri": "https://localhost:8080/",
          "height": 204
        }
      },
      "source": [
        "!pip install object-detection-core\n",
        "from object_detection.utils import dataset_util\n",
        "from object_detection.utils import label_map_util"
      ],
      "execution_count": 0,
      "outputs": [
        {
          "output_type": "stream",
          "text": [
            "Requirement already satisfied: object-detection-core in /usr/local/lib/python3.6/dist-packages (0.1)\n",
            "Requirement already satisfied: Matplotlib>=2.1 in /usr/local/lib/python3.6/dist-packages (from object-detection-core) (3.2.1)\n",
            "Requirement already satisfied: Pillow>=1.0 in /usr/local/lib/python3.6/dist-packages (from object-detection-core) (7.0.0)\n",
            "Requirement already satisfied: Cython>=0.28.1 in /usr/local/lib/python3.6/dist-packages (from object-detection-core) (0.29.15)\n",
            "Requirement already satisfied: pyparsing!=2.0.4,!=2.1.2,!=2.1.6,>=2.0.1 in /usr/local/lib/python3.6/dist-packages (from Matplotlib>=2.1->object-detection-core) (2.4.6)\n",
            "Requirement already satisfied: cycler>=0.10 in /usr/local/lib/python3.6/dist-packages (from Matplotlib>=2.1->object-detection-core) (0.10.0)\n",
            "Requirement already satisfied: python-dateutil>=2.1 in /usr/local/lib/python3.6/dist-packages (from Matplotlib>=2.1->object-detection-core) (2.8.1)\n",
            "Requirement already satisfied: kiwisolver>=1.0.1 in /usr/local/lib/python3.6/dist-packages (from Matplotlib>=2.1->object-detection-core) (1.1.0)\n",
            "Requirement already satisfied: numpy>=1.11 in /usr/local/lib/python3.6/dist-packages (from Matplotlib>=2.1->object-detection-core) (1.18.2)\n",
            "Requirement already satisfied: six in /usr/local/lib/python3.6/dist-packages (from cycler>=0.10->Matplotlib>=2.1->object-detection-core) (1.12.0)\n",
            "Requirement already satisfied: setuptools in /usr/local/lib/python3.6/dist-packages (from kiwisolver>=1.0.1->Matplotlib>=2.1->object-detection-core) (46.0.0)\n"
          ],
          "name": "stdout"
        }
      ]
    },
    {
      "cell_type": "code",
      "metadata": {
        "id": "6Rd3tP0PxxXT",
        "colab_type": "code",
        "outputId": "3a0e4345-c311-4905-a7cd-f29297af1307",
        "colab": {
          "base_uri": "https://localhost:8080/",
          "height": 34
        }
      },
      "source": [
        "from google.colab import drive, files\n",
        "drive.mount('/content/gdrive')"
      ],
      "execution_count": 0,
      "outputs": [
        {
          "output_type": "stream",
          "text": [
            "Drive already mounted at /content/gdrive; to attempt to forcibly remount, call drive.mount(\"/content/gdrive\", force_remount=True).\n"
          ],
          "name": "stdout"
        }
      ]
    },
    {
      "cell_type": "code",
      "metadata": {
        "colab_type": "code",
        "id": "p5h9RbyaYC-b",
        "colab": {}
      },
      "source": [
        "from tqdm import tqdm\n",
        "import re\n",
        "from datetime import datetime\n",
        "from multiprocessing import Process, Queue\n",
        "from copy import deepcopy\n",
        "from keras import applications, optimizers, backend as K\n",
        "from keras.models import Sequential, Model, load_model\n",
        "from keras.layers import Dropout, Flatten, Dense, GlobalAveragePooling2D, Reshape, Conv2D, Activation\n",
        "from keras.callbacks import ModelCheckpoint, LearningRateScheduler, TensorBoard, EarlyStopping, Callback, LambdaCallback\n",
        "from keras.utils import np_utils\n",
        "from keras.layers.noise import GaussianNoise\n",
        "from keras.regularizers import l1\n",
        "import pandas as pd\n",
        "import numpy as np\n",
        "from numpy.random import randint\n",
        "import seaborn as sns\n",
        "import matplotlib.pyplot as plt\n",
        "import tensorflow as tf\n",
        "from PIL import Image\n",
        "import io\n",
        "import os\n",
        "import sys\n",
        "import csv, json, pickle\n",
        "from lxml import etree"
      ],
      "execution_count": 0,
      "outputs": []
    },
    {
      "cell_type": "code",
      "metadata": {
        "id": "npmgRne5xm1_",
        "colab_type": "code",
        "colab": {}
      },
      "source": [
        "os.chdir('/content/gdrive/My Drive/')\n",
        "from SecondStage_colab import second_stage_utils\n",
        "from SecondStage_colab import file_utils\n",
        "\n",
        "sys.path.append('/content/gdrive/My Drive/SecondStage_colab/')\n",
        "os.environ['PYTHONPATH'] += ':/content/gdrive/My Drive/SecondStage_colab/'"
      ],
      "execution_count": 0,
      "outputs": []
    },
    {
      "cell_type": "code",
      "metadata": {
        "colab_type": "code",
        "id": "DqzYclgV64T0",
        "colab": {}
      },
      "source": [
        "LOG_PATH = '/content/gdrive/My Drive/SecondStage_colab/output/'\n",
        "LABEL_MAP_PATH = '/content/gdrive/My Drive/SecondStage_colab/label_map.pbtxt'\n",
        "GPU = True"
      ],
      "execution_count": 0,
      "outputs": []
    },
    {
      "cell_type": "markdown",
      "metadata": {
        "id": "16yHOCNRz0qT",
        "colab_type": "text"
      },
      "source": [
        "set paths "
      ]
    },
    {
      "cell_type": "code",
      "metadata": {
        "id": "OUAEeogUyDZi",
        "colab_type": "code",
        "colab": {}
      },
      "source": [
        "TRAIN_RECORD = '/content/gdrive/My Drive/output/SecondStage_X/darkred_bluegreen_white_yellow/training_rot9_8-24_10_darkred_bluegreen_white_yellow.record'\n",
        "EVAL_RECORD = '/content/gdrive/My Drive/output/SecondStage_X/darkred_bluegreen_white_yellow/test_rot3_8-24_10_darkred_bluegreen_white_yellow.record'\n",
        "OUT_NAME = 'darkred_bluegreen_white_yellow'"
      ],
      "execution_count": 0,
      "outputs": []
    },
    {
      "cell_type": "markdown",
      "metadata": {
        "id": "4RJN6RFi02mv",
        "colab_type": "text"
      },
      "source": [
        "bin & reg - rotation, cat - colours"
      ]
    },
    {
      "cell_type": "code",
      "metadata": {
        "id": "41L3mulG00pE",
        "colab_type": "code",
        "colab": {}
      },
      "source": [
        "TYPE = '_bin'    \n",
        "#TYPE = '_cat'\n",
        "#TYPE = '_reg'"
      ],
      "execution_count": 0,
      "outputs": []
    },
    {
      "cell_type": "code",
      "metadata": {
        "colab_type": "code",
        "id": "fG9YYdriX8WZ",
        "colab": {}
      },
      "source": [
        "from file_utils import save_json\n",
        "from second_stage_utils import *\n",
        "\n",
        "def train(train_record, conf, type, rep=1):\n",
        "\n",
        "    out = str(type)\n",
        "\n",
        "    timestamp = \"{:%Y-%m-%d-%H-%M}\".format(datetime.now())\n",
        "    log_path = LOG_PATH + conf['name'] + '_' + out + '/' + timestamp + '-r' + str(rep) + '/'\n",
        "    os.makedirs(log_path, exist_ok=True)\n",
        "    save_json(log_path + '/experiment_config.json', conf)\n",
        "\n",
        "    label_map = label_map_util.create_category_index_from_labelmap(LABEL_MAP_PATH)\n",
        "    num_classes = label_map_util.get_max_label_map_index(label_map_util.load_labelmap(LABEL_MAP_PATH)) + 1\n",
        "\n",
        "    X,Y,Z,_ = tf_record_load_crops([train_record])\n",
        "    X_train, Y_train, Z_train = data_to_keras(X,Y,Z,num_classes,conf['img_size'])\n",
        "    Z2_train = angle_to_bin(Z_train)\n",
        "\n",
        "    eval_records = EVAL_RECORD\n",
        "\n",
        "    X,Y,Z,_ = tf_record_extract_crops([eval_records], 1, 0.0, 0.0)\n",
        "    X_val, Y_val, Z_val = data_to_keras(X,Y,Z,num_classes,conf['img_size'])\n",
        "    Z2_val = angle_to_bin(Z_val)\n",
        "\n",
        "    assert len(X_val) > 0 and len(Y_val) > 0 and len(Z_val) > 0, '{} is incomplete'.format(eval_records)\n",
        "\n",
        "    outputs = None\n",
        "    model_final = None\n",
        "    summary = TensorBoardCustom(log_dir=log_path, label_map=label_map, AddCustomMetrics=(out == '_cat'))\n",
        "    earlyStop = tf.keras.callbacks.EarlyStopping(monitor='val_loss', patience=7, restore_best_weights=True)\n",
        "\n",
        "    filepath=log_path+\"model-{epoch:02d}.h5\"\n",
        "    checkpoint = ModelCheckpoint(filepath, verbose=1, period=20)\n",
        "    if conf['optimizer'] == 'rmsprop':\n",
        "        optimizer = optimizers.RMSprop(lr=conf['learning_rate'])\n",
        "    elif conf['optimizer'] == 'adam':\n",
        "        optimizer = optimizers.Adam(lr=conf['learning_rate'])\n",
        "    else:\n",
        "        raise Error('Unknown optimizer: ' + conf['optimizer'])\n",
        "\n",
        "    loss_weights = [1.0 if out == '_cat' else 0.0, 1.0 if out == '_reg' else 0.0, 1.0 if out == '_bin' else 0.0]\n",
        "    epochs = 0\n",
        "    if out == '_cat': \n",
        "      epochs = conf['epochs_cat']\n",
        "    elif out == '_reg': \n",
        "      epochs = conf['epochs_reg']\n",
        "    else:\n",
        "      epochs = conf['epochs_bin']\n",
        "\n",
        "    mobilenet_base = applications.mobilenet.MobileNet(alpha = conf['alpha'],\n",
        "                                                      weights = \"imagenet\",\n",
        "                                                      include_top=False,\n",
        "                                                      dropout = conf['dropout'],\n",
        "                                                      input_shape = (\n",
        "                                                      conf['img_size'],\n",
        "                                                      conf['img_size'],\n",
        "                                                        3\n",
        "                                                      ))\n",
        "    shape = (1, 1, int(1024 * conf['alpha']))\n",
        "    x = GlobalAveragePooling2D()(mobilenet_base.output)\n",
        "    x = Reshape(shape, name='reshape_1')(x)\n",
        "    # Branch regression\n",
        "    reg = Conv2D(1, (1, 1), padding='same', name='conv_reg')(x)\n",
        "    reg = Activation('linear', name='act_linear')(reg)\n",
        "    reg = Reshape((1,), name='reg_out')(reg)\n",
        "    # Branch orientation classification with bins\n",
        "    bin = Conv2D(NUM_ORI_BINS, (1, 1), padding='same', name='conv_bin')(x)\n",
        "    bin = Activation('softmax', name='act_bin')(bin)\n",
        "    bin = Reshape((NUM_ORI_BINS,), name='bin_out')(bin)\n",
        "    # Branch classification\n",
        "    x = GaussianNoise(stddev=0.2)(x, training = True) #0.1\n",
        "    cat = Conv2D(num_classes, (1, 1), padding='same', name='conv_cat')(x) #activity_regularizer=l1(0.0001)\n",
        "    cat = GaussianNoise(stddev=0.01)(cat, training = True)\n",
        "    cat = Activation('softmax', name='act_softmax')(cat)\n",
        "    cat = Reshape((num_classes,), name='cat_out')(cat)\n",
        "\n",
        "    model_final = Model(inputs = mobilenet_base.input, outputs = [cat,reg,bin])\n",
        "    model_final.compile(optimizer = optimizer,\n",
        "                  loss={'cat_out': 'categorical_crossentropy',\n",
        "                        'reg_out': angle_mse,\n",
        "                        'bin_out': 'categorical_crossentropy',\n",
        "                  },\n",
        "                  loss_weights={'cat_out': loss_weights[0],\n",
        "                                'reg_out': loss_weights[1],\n",
        "                                'bin_out': loss_weights[2]},\n",
        "                  metrics ={'cat_out': 'accuracy',\n",
        "                            'reg_out': angle_mae,\n",
        "                            'bin_out': angle_bin_rmse})\n",
        "    model_final.fit(\n",
        "        X_train,\n",
        "        {'cat_out': Y_train, 'reg_out': Z_train, 'bin_out': Z2_train},\n",
        "        validation_data=(X_val, [Y_val, Z_val, Z2_val]),\n",
        "        batch_size=conf['batch_size'], epochs=epochs, verbose=1,\n",
        "        callbacks=[summary, checkpoint, earlyStop],\n",
        "        shuffle=True\n",
        "    )\n",
        "\n",
        "    model_final.save(log_path+\"model-final.h5\")\n",
        "    print(log_path)\n",
        "    print(\"Finished training for {}\".format(conf['name']))"
      ],
      "execution_count": 0,
      "outputs": []
    },
    {
      "cell_type": "code",
      "metadata": {
        "colab_type": "code",
        "id": "4Jru6gJiHAVl",
        "outputId": "71af8905-62fc-4623-8aa9-566b5c0fd96f",
        "colab": {
          "base_uri": "https://localhost:8080/",
          "height": 1000
        }
      },
      "source": [
        "default_sstage_conf = {\n",
        "    'dataset': 'default',\n",
        "    'epochs_cat': 100,\n",
        "    'epochs_reg': 60,\n",
        "    'epochs_bin': 70,\n",
        "    'optimizer': 'adam',\n",
        "    'learning_rate': 1e-4,\n",
        "    'dropout': 0.001,\n",
        "    'alpha': 0.5,\n",
        "    'img_size': 35,\n",
        "    'repetions': 1,\n",
        "    'batch_size': 4096,\n",
        "}\n",
        "\n",
        "def create_all_sstage_experiments():\n",
        "    configs = []\n",
        "    #configs.extend(create_sstage_default())\n",
        "    configs.extend(create_sstage_dropouts_alphas())\n",
        "    return configs\n",
        "\n",
        "def create_sstage_dropouts_alphas():\n",
        "    config = []\n",
        "    dropouts = [0.001] #, 0.1, 0.2, 0.3\n",
        "    alphas = [0.75]\n",
        "    batches = [1024, 2048, 4096]\n",
        "    for drop in dropouts:\n",
        "      modified = deepcopy(default_sstage_conf)\n",
        "      modified['name'] = \"ssdef_drop\" + str(drop)\n",
        "      modified['dropout'] = drop\n",
        "      for alp in alphas:\n",
        "        modifiedB = deepcopy(modified)\n",
        "        modifiedB['name'] = modifiedB['name'] + \"_alpha\" + str(alp)\n",
        "        modifiedB['alpha'] = alp\n",
        "        for batch in batches:\n",
        "          modifiedC = deepcopy(modifiedB)\n",
        "          modifiedC['name'] = modifiedC['name'] + \"_batch_size\" + str(batch)\n",
        "          modifiedC['batch_size'] = batch\n",
        "          config.append(deepcopy(modifiedC))\n",
        "    return config\n",
        "\n",
        "def create_sstage_default():\n",
        "    config = []\n",
        "    modified = deepcopy(default_sstage_conf)\n",
        "    modified['name'] = \"sstage_default\"\n",
        "    config.append(deepcopy(modified))\n",
        "    return config\n",
        "\n",
        "\n",
        "exp = create_all_sstage_experiments()\n",
        "for config in tqdm(exp):\n",
        "    print(\"or_conf\", config)\n",
        "    for r in range(config['repetions']):    \n",
        "        conf = deepcopy(config)\n",
        "        conf['name'] = conf['name']+'_'+TYPE\n",
        "        print(\"Start training:  \" + conf['name'])\n",
        "              \n",
        "        if not GPU:\n",
        "            p = Process(\n",
        "                target=train,\n",
        "                args=(TRAIN_RECORD, conf, TYPE, r)\n",
        "            )\n",
        "            p.start() \n",
        "        else:\n",
        "            train(TRAIN_RECORD, conf, TYPE, r)"
      ],
      "execution_count": 0,
      "outputs": [
        {
          "output_type": "stream",
          "text": [
            "\n",
            "  0%|          | 0/3 [00:00<?, ?it/s]\u001b[A"
          ],
          "name": "stderr"
        },
        {
          "output_type": "stream",
          "text": [
            "or_conf {'dataset': 'default', 'epochs_cat': 100, 'epochs_reg': 60, 'epochs_bin': 70, 'optimizer': 'adam', 'learning_rate': 0.0001, 'dropout': 0.001, 'alpha': 0.75, 'img_size': 35, 'repetions': 1, 'batch_size': 1024, 'name': 'ssdef_drop0.001_alpha0.75_batch_size1024'}\n",
            "Start training:  ssdef_drop0.001_alpha0.75_batch_size1024__bin\n",
            "WARNING:tensorflow:From /usr/local/lib/python3.6/dist-packages/object_detection/utils/label_map_util.py:137: The name tf.gfile.GFile is deprecated. Please use tf.io.gfile.GFile instead.\n",
            "\n",
            "WARNING:tensorflow:From /content/gdrive/My Drive/SecondStage_colab/second_stage_utils.py:85: tf_record_iterator (from tensorflow.python.lib.io.tf_record) is deprecated and will be removed in a future version.\n",
            "Instructions for updating:\n",
            "Use eager execution and: \n",
            "`tf.data.TFRecordDataset(path)`\n",
            "Loaded 320760 crops from ['/content/gdrive/My Drive/output/SecondStage_X/darkred_bluegreen_white_yellow/training_rot9_8-24_10_darkred_bluegreen_white_yellow.record']\n",
            "WARNING:tensorflow:From /usr/local/lib/python3.6/dist-packages/keras/backend/tensorflow_backend.py:66: The name tf.get_default_graph is deprecated. Please use tf.compat.v1.get_default_graph instead.\n",
            "\n",
            "WARNING:tensorflow:From /usr/local/lib/python3.6/dist-packages/keras/backend/tensorflow_backend.py:541: The name tf.placeholder is deprecated. Please use tf.compat.v1.placeholder instead.\n",
            "\n",
            "WARNING:tensorflow:From /usr/local/lib/python3.6/dist-packages/keras/backend/tensorflow_backend.py:4432: The name tf.random_uniform is deprecated. Please use tf.random.uniform instead.\n",
            "\n",
            "WARNING:tensorflow:From /usr/local/lib/python3.6/dist-packages/keras/backend/tensorflow_backend.py:190: The name tf.get_default_session is deprecated. Please use tf.compat.v1.get_default_session instead.\n",
            "\n",
            "WARNING:tensorflow:From /usr/local/lib/python3.6/dist-packages/keras/backend/tensorflow_backend.py:197: The name tf.ConfigProto is deprecated. Please use tf.compat.v1.ConfigProto instead.\n",
            "\n",
            "WARNING:tensorflow:From /usr/local/lib/python3.6/dist-packages/keras/backend/tensorflow_backend.py:203: The name tf.Session is deprecated. Please use tf.compat.v1.Session instead.\n",
            "\n"
          ],
          "name": "stdout"
        },
        {
          "output_type": "stream",
          "text": [
            "/usr/local/lib/python3.6/dist-packages/keras_applications/mobilenet.py:207: UserWarning: `input_shape` is undefined or non-square, or `rows` is not in [128, 160, 192, 224]. Weights for input shape (224, 224) will be loaded as the default.\n",
            "  warnings.warn('`input_shape` is undefined or non-square, '\n"
          ],
          "name": "stderr"
        },
        {
          "output_type": "stream",
          "text": [
            "WARNING:tensorflow:From /usr/local/lib/python3.6/dist-packages/keras/backend/tensorflow_backend.py:207: The name tf.global_variables is deprecated. Please use tf.compat.v1.global_variables instead.\n",
            "\n",
            "WARNING:tensorflow:From /usr/local/lib/python3.6/dist-packages/keras/backend/tensorflow_backend.py:216: The name tf.is_variable_initialized is deprecated. Please use tf.compat.v1.is_variable_initialized instead.\n",
            "\n",
            "WARNING:tensorflow:From /usr/local/lib/python3.6/dist-packages/keras/backend/tensorflow_backend.py:223: The name tf.variables_initializer is deprecated. Please use tf.compat.v1.variables_initializer instead.\n",
            "\n",
            "WARNING:tensorflow:From /usr/local/lib/python3.6/dist-packages/keras/backend/tensorflow_backend.py:2041: The name tf.nn.fused_batch_norm is deprecated. Please use tf.compat.v1.nn.fused_batch_norm instead.\n",
            "\n",
            "WARNING:tensorflow:From /usr/local/lib/python3.6/dist-packages/keras/backend/tensorflow_backend.py:148: The name tf.placeholder_with_default is deprecated. Please use tf.compat.v1.placeholder_with_default instead.\n",
            "\n",
            "Downloading data from https://github.com/fchollet/deep-learning-models/releases/download/v0.6/mobilenet_7_5_224_tf_no_top.h5\n",
            "10633216/10626956 [==============================] - 2s 0us/step\n",
            "WARNING:tensorflow:From /usr/local/lib/python3.6/dist-packages/keras/backend/tensorflow_backend.py:4409: The name tf.random_normal is deprecated. Please use tf.random.normal instead.\n",
            "\n",
            "WARNING:tensorflow:From /usr/local/lib/python3.6/dist-packages/keras/optimizers.py:793: The name tf.train.Optimizer is deprecated. Please use tf.compat.v1.train.Optimizer instead.\n",
            "\n",
            "WARNING:tensorflow:From /usr/local/lib/python3.6/dist-packages/keras/backend/tensorflow_backend.py:3576: The name tf.log is deprecated. Please use tf.math.log instead.\n",
            "\n",
            "WARNING:tensorflow:From /content/gdrive/My Drive/SecondStage_colab/second_stage_utils.py:25: The name tf.mod is deprecated. Please use tf.math.mod instead.\n",
            "\n",
            "WARNING:tensorflow:From /tensorflow-1.15.0/python3.6/tensorflow_core/python/ops/math_grad.py:1424: where (from tensorflow.python.ops.array_ops) is deprecated and will be removed in a future version.\n",
            "Instructions for updating:\n",
            "Use tf.where in 2.0, which has the same broadcast rule as np.where\n",
            "WARNING:tensorflow:From /usr/local/lib/python3.6/dist-packages/keras/backend/tensorflow_backend.py:1033: The name tf.assign_add is deprecated. Please use tf.compat.v1.assign_add instead.\n",
            "\n",
            "WARNING:tensorflow:From /usr/local/lib/python3.6/dist-packages/keras/backend/tensorflow_backend.py:1020: The name tf.assign is deprecated. Please use tf.compat.v1.assign instead.\n",
            "\n",
            "Train on 320760 samples, validate on 58320 samples\n",
            "WARNING:tensorflow:From /content/gdrive/My Drive/SecondStage_colab/second_stage_utils.py:195: The name tf.summary.merge_all is deprecated. Please use tf.compat.v1.summary.merge_all instead.\n",
            "\n",
            "WARNING:tensorflow:From /content/gdrive/My Drive/SecondStage_colab/second_stage_utils.py:196: The name tf.summary.FileWriter is deprecated. Please use tf.compat.v1.summary.FileWriter instead.\n",
            "\n",
            "Epoch 1/70\n",
            "320760/320760 [==============================] - 38s 119us/step - loss: 5.6545 - cat_out_loss: 4.6475 - reg_out_loss: 10765.4289 - bin_out_loss: 5.6545 - cat_out_acc: 0.0273 - reg_out_angle_mae: 89.8333 - bin_out_angle_bin_rmse: 89.4529 - val_loss: 4.1517 - val_cat_out_loss: 5.2070 - val_reg_out_loss: 10740.8660 - val_bin_out_loss: 4.1517 - val_cat_out_acc: 0.0287 - val_reg_out_angle_mae: 89.5843 - val_bin_out_angle_bin_rmse: 43.8337\n",
            "WARNING:tensorflow:From /content/gdrive/My Drive/SecondStage_colab/second_stage_utils.py:201: The name tf.Summary is deprecated. Please use tf.compat.v1.Summary instead.\n",
            "\n",
            "Epoch 2/70\n",
            "320760/320760 [==============================] - 28s 86us/step - loss: 3.2610 - cat_out_loss: 5.2823 - reg_out_loss: 10775.1686 - bin_out_loss: 3.2610 - cat_out_acc: 0.0313 - reg_out_angle_mae: 89.7043 - bin_out_angle_bin_rmse: 25.5532 - val_loss: 2.9848 - val_cat_out_loss: 5.5976 - val_reg_out_loss: 10780.8587 - val_bin_out_loss: 2.9848 - val_cat_out_acc: 0.0345 - val_reg_out_angle_mae: 89.6281 - val_bin_out_angle_bin_rmse: 5.7292\n",
            "Epoch 3/70\n",
            "320760/320760 [==============================] - 27s 85us/step - loss: 2.7226 - cat_out_loss: 5.5868 - reg_out_loss: 10772.3737 - bin_out_loss: 2.7226 - cat_out_acc: 0.0294 - reg_out_angle_mae: 89.6094 - bin_out_angle_bin_rmse: 11.1743 - val_loss: 2.7634 - val_cat_out_loss: 5.6283 - val_reg_out_loss: 10749.6690 - val_bin_out_loss: 2.7634 - val_cat_out_acc: 0.0324 - val_reg_out_angle_mae: 89.4806 - val_bin_out_angle_bin_rmse: 4.2728\n",
            "Epoch 4/70\n",
            "320760/320760 [==============================] - 27s 85us/step - loss: 2.5563 - cat_out_loss: 5.6740 - reg_out_loss: 10748.3132 - bin_out_loss: 2.5563 - cat_out_acc: 0.0291 - reg_out_angle_mae: 89.4862 - bin_out_angle_bin_rmse: 7.8619 - val_loss: 2.6717 - val_cat_out_loss: 5.6652 - val_reg_out_loss: 10725.3643 - val_bin_out_loss: 2.6717 - val_cat_out_acc: 0.0299 - val_reg_out_angle_mae: 89.3826 - val_bin_out_angle_bin_rmse: 3.7101\n",
            "Epoch 5/70\n",
            "320760/320760 [==============================] - 27s 85us/step - loss: 2.4589 - cat_out_loss: 5.7166 - reg_out_loss: 10729.8661 - bin_out_loss: 2.4589 - cat_out_acc: 0.0279 - reg_out_angle_mae: 89.4106 - bin_out_angle_bin_rmse: 6.0171 - val_loss: 2.6188 - val_cat_out_loss: 5.6958 - val_reg_out_loss: 10715.1851 - val_bin_out_loss: 2.6188 - val_cat_out_acc: 0.0317 - val_reg_out_angle_mae: 89.3714 - val_bin_out_angle_bin_rmse: 3.4444\n",
            "Epoch 6/70\n",
            "320760/320760 [==============================] - 27s 86us/step - loss: 2.3891 - cat_out_loss: 5.7656 - reg_out_loss: 10721.1167 - bin_out_loss: 2.3891 - cat_out_acc: 0.0277 - reg_out_angle_mae: 89.3839 - bin_out_angle_bin_rmse: 4.9045 - val_loss: 2.6528 - val_cat_out_loss: 5.7735 - val_reg_out_loss: 10704.1327 - val_bin_out_loss: 2.6528 - val_cat_out_acc: 0.0277 - val_reg_out_angle_mae: 89.3290 - val_bin_out_angle_bin_rmse: 3.3098\n",
            "Epoch 7/70\n",
            "320760/320760 [==============================] - 27s 86us/step - loss: 2.3369 - cat_out_loss: 5.7617 - reg_out_loss: 10709.5258 - bin_out_loss: 2.3369 - cat_out_acc: 0.0284 - reg_out_angle_mae: 89.3502 - bin_out_angle_bin_rmse: 4.2230 - val_loss: 2.6541 - val_cat_out_loss: 5.7467 - val_reg_out_loss: 10687.0780 - val_bin_out_loss: 2.6541 - val_cat_out_acc: 0.0269 - val_reg_out_angle_mae: 89.2445 - val_bin_out_angle_bin_rmse: 3.2667\n",
            "Epoch 8/70\n",
            "320760/320760 [==============================] - 27s 86us/step - loss: 2.2867 - cat_out_loss: 5.7977 - reg_out_loss: 10700.0048 - bin_out_loss: 2.2867 - cat_out_acc: 0.0272 - reg_out_angle_mae: 89.3037 - bin_out_angle_bin_rmse: 3.8649 - val_loss: 2.6228 - val_cat_out_loss: 5.8032 - val_reg_out_loss: 10678.0203 - val_bin_out_loss: 2.6228 - val_cat_out_acc: 0.0251 - val_reg_out_angle_mae: 89.1974 - val_bin_out_angle_bin_rmse: 3.1561\n",
            "Epoch 9/70\n",
            "320760/320760 [==============================] - 27s 85us/step - loss: 2.2404 - cat_out_loss: 5.8338 - reg_out_loss: 10694.6953 - bin_out_loss: 2.2404 - cat_out_acc: 0.0267 - reg_out_angle_mae: 89.2614 - bin_out_angle_bin_rmse: 3.4982 - val_loss: 2.6223 - val_cat_out_loss: 5.7776 - val_reg_out_loss: 10680.6039 - val_bin_out_loss: 2.6223 - val_cat_out_acc: 0.0268 - val_reg_out_angle_mae: 89.2025 - val_bin_out_angle_bin_rmse: 3.0511\n",
            "Epoch 10/70\n",
            "320760/320760 [==============================] - 27s 85us/step - loss: 2.1957 - cat_out_loss: 5.8502 - reg_out_loss: 10684.2672 - bin_out_loss: 2.1957 - cat_out_acc: 0.0278 - reg_out_angle_mae: 89.2175 - bin_out_angle_bin_rmse: 3.1524 - val_loss: 2.6210 - val_cat_out_loss: 5.8507 - val_reg_out_loss: 10673.2251 - val_bin_out_loss: 2.6210 - val_cat_out_acc: 0.0258 - val_reg_out_angle_mae: 89.1502 - val_bin_out_angle_bin_rmse: 3.0196\n",
            "Epoch 11/70\n",
            "320760/320760 [==============================] - 27s 85us/step - loss: 2.1612 - cat_out_loss: 5.8590 - reg_out_loss: 10672.8342 - bin_out_loss: 2.1612 - cat_out_acc: 0.0273 - reg_out_angle_mae: 89.1865 - bin_out_angle_bin_rmse: 2.9977 - val_loss: 2.6352 - val_cat_out_loss: 5.7883 - val_reg_out_loss: 10674.7120 - val_bin_out_loss: 2.6352 - val_cat_out_acc: 0.0295 - val_reg_out_angle_mae: 89.1855 - val_bin_out_angle_bin_rmse: 2.9901\n",
            "Epoch 12/70\n",
            "320760/320760 [==============================] - 27s 85us/step - loss: 2.1201 - cat_out_loss: 5.8687 - reg_out_loss: 10672.3647 - bin_out_loss: 2.1201 - cat_out_acc: 0.0273 - reg_out_angle_mae: 89.2016 - bin_out_angle_bin_rmse: 2.7342 - val_loss: 2.6807 - val_cat_out_loss: 5.8056 - val_reg_out_loss: 10653.9887 - val_bin_out_loss: 2.6807 - val_cat_out_acc: 0.0273 - val_reg_out_angle_mae: 89.1685 - val_bin_out_angle_bin_rmse: 3.0886\n",
            "/content/gdrive/My Drive/SecondStage_colab/output/ssdef_drop0.001_alpha0.75_batch_size1024__bin__bin/2020-03-26-16-00-r0/\n",
            "Finished training for ssdef_drop0.001_alpha0.75_batch_size1024__bin\n"
          ],
          "name": "stdout"
        },
        {
          "output_type": "stream",
          "text": [
            "\n",
            " 33%|███▎      | 1/3 [07:39<15:19, 459.58s/it]\u001b[A"
          ],
          "name": "stderr"
        },
        {
          "output_type": "stream",
          "text": [
            "or_conf {'dataset': 'default', 'epochs_cat': 100, 'epochs_reg': 60, 'epochs_bin': 70, 'optimizer': 'adam', 'learning_rate': 0.0001, 'dropout': 0.001, 'alpha': 0.75, 'img_size': 35, 'repetions': 1, 'batch_size': 2048, 'name': 'ssdef_drop0.001_alpha0.75_batch_size2048'}\n",
            "Start training:  ssdef_drop0.001_alpha0.75_batch_size2048__bin\n",
            "Loaded 320760 crops from ['/content/gdrive/My Drive/output/SecondStage_X/darkred_bluegreen_white_yellow/training_rot9_8-24_10_darkred_bluegreen_white_yellow.record']\n"
          ],
          "name": "stdout"
        },
        {
          "output_type": "stream",
          "text": [
            "/usr/local/lib/python3.6/dist-packages/keras_applications/mobilenet.py:207: UserWarning: `input_shape` is undefined or non-square, or `rows` is not in [128, 160, 192, 224]. Weights for input shape (224, 224) will be loaded as the default.\n",
            "  warnings.warn('`input_shape` is undefined or non-square, '\n"
          ],
          "name": "stderr"
        },
        {
          "output_type": "stream",
          "text": [
            "Train on 320760 samples, validate on 58320 samples\n",
            "Epoch 1/70\n",
            "320760/320760 [==============================] - 30s 95us/step - loss: 6.0832 - cat_out_loss: 4.8441 - reg_out_loss: 10805.2675 - bin_out_loss: 6.0832 - cat_out_acc: 0.0143 - reg_out_angle_mae: 90.0799 - bin_out_angle_bin_rmse: 98.5964 - val_loss: 5.6305 - val_cat_out_loss: 5.9448 - val_reg_out_loss: 10819.4039 - val_bin_out_loss: 5.6305 - val_cat_out_acc: 0.0119 - val_reg_out_angle_mae: 90.5919 - val_bin_out_angle_bin_rmse: 76.9000\n",
            "Epoch 2/70\n",
            "320760/320760 [==============================] - 25s 77us/step - loss: 4.1149 - cat_out_loss: 5.1477 - reg_out_loss: 10790.4799 - bin_out_loss: 4.1149 - cat_out_acc: 0.0137 - reg_out_angle_mae: 90.2984 - bin_out_angle_bin_rmse: 52.7091 - val_loss: 3.6089 - val_cat_out_loss: 6.0546 - val_reg_out_loss: 10772.2829 - val_bin_out_loss: 3.6089 - val_cat_out_acc: 0.0100 - val_reg_out_angle_mae: 90.3555 - val_bin_out_angle_bin_rmse: 12.7904\n",
            "Epoch 3/70\n",
            "320760/320760 [==============================] - 25s 78us/step - loss: 2.9978 - cat_out_loss: 5.7783 - reg_out_loss: 10798.0752 - bin_out_loss: 2.9978 - cat_out_acc: 0.0092 - reg_out_angle_mae: 90.2509 - bin_out_angle_bin_rmse: 18.7212 - val_loss: 3.0321 - val_cat_out_loss: 6.1953 - val_reg_out_loss: 10799.0462 - val_bin_out_loss: 3.0321 - val_cat_out_acc: 0.0092 - val_reg_out_angle_mae: 90.2621 - val_bin_out_angle_bin_rmse: 5.8250\n",
            "Epoch 4/70\n",
            "320760/320760 [==============================] - 25s 78us/step - loss: 2.7180 - cat_out_loss: 6.0562 - reg_out_loss: 10798.3039 - bin_out_loss: 2.7180 - cat_out_acc: 0.0083 - reg_out_angle_mae: 90.1885 - bin_out_angle_bin_rmse: 11.2909 - val_loss: 2.8478 - val_cat_out_loss: 6.2349 - val_reg_out_loss: 10785.1624 - val_bin_out_loss: 2.8478 - val_cat_out_acc: 0.0096 - val_reg_out_angle_mae: 90.1613 - val_bin_out_angle_bin_rmse: 4.6063\n",
            "Epoch 5/70\n",
            "320760/320760 [==============================] - 25s 77us/step - loss: 2.5835 - cat_out_loss: 6.1857 - reg_out_loss: 10796.0073 - bin_out_loss: 2.5835 - cat_out_acc: 0.0084 - reg_out_angle_mae: 90.1588 - bin_out_angle_bin_rmse: 8.8105 - val_loss: 2.7723 - val_cat_out_loss: 6.2689 - val_reg_out_loss: 10792.6533 - val_bin_out_loss: 2.7723 - val_cat_out_acc: 0.0075 - val_reg_out_angle_mae: 90.1260 - val_bin_out_angle_bin_rmse: 4.0706\n",
            "Epoch 6/70\n",
            "320760/320760 [==============================] - 25s 78us/step - loss: 2.4923 - cat_out_loss: 6.2925 - reg_out_loss: 10797.8717 - bin_out_loss: 2.4923 - cat_out_acc: 0.0073 - reg_out_angle_mae: 90.1523 - bin_out_angle_bin_rmse: 7.3896 - val_loss: 2.7092 - val_cat_out_loss: 6.3312 - val_reg_out_loss: 10783.1852 - val_bin_out_loss: 2.7092 - val_cat_out_acc: 0.0070 - val_reg_out_angle_mae: 90.0991 - val_bin_out_angle_bin_rmse: 3.8304\n",
            "Epoch 7/70\n",
            "320760/320760 [==============================] - 25s 78us/step - loss: 2.4305 - cat_out_loss: 6.3640 - reg_out_loss: 10801.1781 - bin_out_loss: 2.4305 - cat_out_acc: 0.0072 - reg_out_angle_mae: 90.1681 - bin_out_angle_bin_rmse: 6.3710 - val_loss: 2.6757 - val_cat_out_loss: 6.4331 - val_reg_out_loss: 10779.0408 - val_bin_out_loss: 2.6757 - val_cat_out_acc: 0.0081 - val_reg_out_angle_mae: 90.1195 - val_bin_out_angle_bin_rmse: 3.5604\n",
            "Epoch 8/70\n",
            "320760/320760 [==============================] - 25s 78us/step - loss: 2.3676 - cat_out_loss: 6.4273 - reg_out_loss: 10800.6754 - bin_out_loss: 2.3676 - cat_out_acc: 0.0078 - reg_out_angle_mae: 90.1479 - bin_out_angle_bin_rmse: 5.4819 - val_loss: 2.6545 - val_cat_out_loss: 6.4542 - val_reg_out_loss: 10785.1673 - val_bin_out_loss: 2.6545 - val_cat_out_acc: 0.0080 - val_reg_out_angle_mae: 90.0586 - val_bin_out_angle_bin_rmse: 3.4142\n",
            "Epoch 9/70\n",
            "320760/320760 [==============================] - 25s 78us/step - loss: 2.3273 - cat_out_loss: 6.4552 - reg_out_loss: 10804.2291 - bin_out_loss: 2.3273 - cat_out_acc: 0.0079 - reg_out_angle_mae: 90.1464 - bin_out_angle_bin_rmse: 4.9994 - val_loss: 2.6100 - val_cat_out_loss: 6.4679 - val_reg_out_loss: 10807.2800 - val_bin_out_loss: 2.6100 - val_cat_out_acc: 0.0084 - val_reg_out_angle_mae: 90.1625 - val_bin_out_angle_bin_rmse: 3.3026\n",
            "Epoch 10/70\n",
            "320760/320760 [==============================] - 25s 78us/step - loss: 2.2855 - cat_out_loss: 6.4985 - reg_out_loss: 10810.5319 - bin_out_loss: 2.2855 - cat_out_acc: 0.0082 - reg_out_angle_mae: 90.1607 - bin_out_angle_bin_rmse: 4.4987 - val_loss: 2.6426 - val_cat_out_loss: 6.5281 - val_reg_out_loss: 10793.5701 - val_bin_out_loss: 2.6426 - val_cat_out_acc: 0.0087 - val_reg_out_angle_mae: 90.1155 - val_bin_out_angle_bin_rmse: 3.4756\n",
            "Epoch 11/70\n",
            "320760/320760 [==============================] - 25s 78us/step - loss: 2.2484 - cat_out_loss: 6.5265 - reg_out_loss: 10806.4872 - bin_out_loss: 2.2484 - cat_out_acc: 0.0083 - reg_out_angle_mae: 90.1558 - bin_out_angle_bin_rmse: 4.1094 - val_loss: 2.6027 - val_cat_out_loss: 6.5288 - val_reg_out_loss: 10790.1714 - val_bin_out_loss: 2.6027 - val_cat_out_acc: 0.0097 - val_reg_out_angle_mae: 90.0963 - val_bin_out_angle_bin_rmse: 3.2621\n",
            "Epoch 12/70\n",
            "320760/320760 [==============================] - 25s 78us/step - loss: 2.2108 - cat_out_loss: 6.5514 - reg_out_loss: 10807.2070 - bin_out_loss: 2.2108 - cat_out_acc: 0.0093 - reg_out_angle_mae: 90.1697 - bin_out_angle_bin_rmse: 3.6576 - val_loss: 2.6623 - val_cat_out_loss: 6.5675 - val_reg_out_loss: 10786.2730 - val_bin_out_loss: 2.6623 - val_cat_out_acc: 0.0100 - val_reg_out_angle_mae: 90.1145 - val_bin_out_angle_bin_rmse: 3.3770\n",
            "Epoch 13/70\n",
            "320760/320760 [==============================] - 25s 78us/step - loss: 2.1933 - cat_out_loss: 6.5884 - reg_out_loss: 10807.6243 - bin_out_loss: 2.1933 - cat_out_acc: 0.0093 - reg_out_angle_mae: 90.1624 - bin_out_angle_bin_rmse: 3.6708 - val_loss: 2.6464 - val_cat_out_loss: 6.6205 - val_reg_out_loss: 10779.9260 - val_bin_out_loss: 2.6464 - val_cat_out_acc: 0.0095 - val_reg_out_angle_mae: 90.0433 - val_bin_out_angle_bin_rmse: 3.2654\n",
            "Epoch 14/70\n",
            "320760/320760 [==============================] - 25s 78us/step - loss: 2.1488 - cat_out_loss: 6.6130 - reg_out_loss: 10801.3168 - bin_out_loss: 2.1488 - cat_out_acc: 0.0095 - reg_out_angle_mae: 90.1365 - bin_out_angle_bin_rmse: 3.3643 - val_loss: 2.7078 - val_cat_out_loss: 6.5317 - val_reg_out_loss: 10778.0162 - val_bin_out_loss: 2.7078 - val_cat_out_acc: 0.0105 - val_reg_out_angle_mae: 90.0426 - val_bin_out_angle_bin_rmse: 3.3699\n",
            "Epoch 15/70\n",
            "320760/320760 [==============================] - 25s 78us/step - loss: 2.1217 - cat_out_loss: 6.6544 - reg_out_loss: 10801.6333 - bin_out_loss: 2.1217 - cat_out_acc: 0.0092 - reg_out_angle_mae: 90.1374 - bin_out_angle_bin_rmse: 3.1940 - val_loss: 2.6342 - val_cat_out_loss: 6.6835 - val_reg_out_loss: 10785.3578 - val_bin_out_loss: 2.6342 - val_cat_out_acc: 0.0089 - val_reg_out_angle_mae: 90.0527 - val_bin_out_angle_bin_rmse: 3.1969\n",
            "Epoch 16/70\n",
            "320760/320760 [==============================] - 25s 78us/step - loss: 2.0942 - cat_out_loss: 6.6776 - reg_out_loss: 10798.2314 - bin_out_loss: 2.0942 - cat_out_acc: 0.0094 - reg_out_angle_mae: 90.1362 - bin_out_angle_bin_rmse: 3.0255 - val_loss: 2.6892 - val_cat_out_loss: 6.6124 - val_reg_out_loss: 10783.3164 - val_bin_out_loss: 2.6892 - val_cat_out_acc: 0.0096 - val_reg_out_angle_mae: 90.1006 - val_bin_out_angle_bin_rmse: 3.3487\n",
            "Epoch 17/70\n",
            "320760/320760 [==============================] - 25s 78us/step - loss: 2.0665 - cat_out_loss: 6.7064 - reg_out_loss: 10801.4104 - bin_out_loss: 2.0665 - cat_out_acc: 0.0094 - reg_out_angle_mae: 90.1392 - bin_out_angle_bin_rmse: 2.9580 - val_loss: 2.6817 - val_cat_out_loss: 6.7297 - val_reg_out_loss: 10779.9061 - val_bin_out_loss: 2.6817 - val_cat_out_acc: 0.0105 - val_reg_out_angle_mae: 90.0585 - val_bin_out_angle_bin_rmse: 3.3793\n",
            "Epoch 18/70\n",
            "320760/320760 [==============================] - 25s 78us/step - loss: 2.0360 - cat_out_loss: 6.7127 - reg_out_loss: 10800.5861 - bin_out_loss: 2.0360 - cat_out_acc: 0.0099 - reg_out_angle_mae: 90.1463 - bin_out_angle_bin_rmse: 2.8410 - val_loss: 2.6893 - val_cat_out_loss: 6.6916 - val_reg_out_loss: 10784.5069 - val_bin_out_loss: 2.6893 - val_cat_out_acc: 0.0109 - val_reg_out_angle_mae: 90.0811 - val_bin_out_angle_bin_rmse: 3.2372\n",
            "/content/gdrive/My Drive/SecondStage_colab/output/ssdef_drop0.001_alpha0.75_batch_size2048__bin__bin/2020-03-26-16-08-r0/\n",
            "Finished training for ssdef_drop0.001_alpha0.75_batch_size2048__bin\n"
          ],
          "name": "stdout"
        },
        {
          "output_type": "stream",
          "text": [
            "\n",
            " 67%|██████▋   | 2/3 [17:26<08:17, 497.88s/it]\u001b[A"
          ],
          "name": "stderr"
        },
        {
          "output_type": "stream",
          "text": [
            "or_conf {'dataset': 'default', 'epochs_cat': 100, 'epochs_reg': 60, 'epochs_bin': 70, 'optimizer': 'adam', 'learning_rate': 0.0001, 'dropout': 0.001, 'alpha': 0.75, 'img_size': 35, 'repetions': 1, 'batch_size': 4096, 'name': 'ssdef_drop0.001_alpha0.75_batch_size4096'}\n",
            "Start training:  ssdef_drop0.001_alpha0.75_batch_size4096__bin\n",
            "Loaded 320760 crops from ['/content/gdrive/My Drive/output/SecondStage_X/darkred_bluegreen_white_yellow/training_rot9_8-24_10_darkred_bluegreen_white_yellow.record']\n"
          ],
          "name": "stdout"
        },
        {
          "output_type": "stream",
          "text": [
            "/usr/local/lib/python3.6/dist-packages/keras_applications/mobilenet.py:207: UserWarning: `input_shape` is undefined or non-square, or `rows` is not in [128, 160, 192, 224]. Weights for input shape (224, 224) will be loaded as the default.\n",
            "  warnings.warn('`input_shape` is undefined or non-square, '\n"
          ],
          "name": "stderr"
        },
        {
          "output_type": "stream",
          "text": [
            "Train on 320760 samples, validate on 58320 samples\n",
            "Epoch 1/70\n",
            "320760/320760 [==============================] - 30s 93us/step - loss: 6.3951 - cat_out_loss: 4.8684 - reg_out_loss: 10790.9464 - bin_out_loss: 6.3951 - cat_out_acc: 0.0180 - reg_out_angle_mae: 89.9315 - bin_out_angle_bin_rmse: 102.0114 - val_loss: 6.1692 - val_cat_out_loss: 5.3175 - val_reg_out_loss: 10797.7152 - val_bin_out_loss: 6.1692 - val_cat_out_acc: 0.0178 - val_reg_out_angle_mae: 90.0033 - val_bin_out_angle_bin_rmse: 92.8584\n",
            "Epoch 2/70\n",
            "320760/320760 [==============================] - 25s 77us/step - loss: 5.3461 - cat_out_loss: 4.4741 - reg_out_loss: 10784.6636 - bin_out_loss: 5.3461 - cat_out_acc: 0.0165 - reg_out_angle_mae: 89.8635 - bin_out_angle_bin_rmse: 87.8421 - val_loss: 4.7944 - val_cat_out_loss: 5.6278 - val_reg_out_loss: 10760.9010 - val_bin_out_loss: 4.7944 - val_cat_out_acc: 0.0124 - val_reg_out_angle_mae: 89.6981 - val_bin_out_angle_bin_rmse: 55.9060\n",
            "Epoch 3/70\n",
            "320760/320760 [==============================] - 25s 77us/step - loss: 3.9636 - cat_out_loss: 5.0859 - reg_out_loss: 10782.8150 - bin_out_loss: 3.9636 - cat_out_acc: 0.0154 - reg_out_angle_mae: 89.7909 - bin_out_angle_bin_rmse: 48.2398 - val_loss: 3.6532 - val_cat_out_loss: 6.1134 - val_reg_out_loss: 10769.0328 - val_bin_out_loss: 3.6532 - val_cat_out_acc: 0.0100 - val_reg_out_angle_mae: 89.6661 - val_bin_out_angle_bin_rmse: 16.6193\n",
            "Epoch 4/70\n",
            "320760/320760 [==============================] - 25s 77us/step - loss: 3.1039 - cat_out_loss: 5.5739 - reg_out_loss: 10807.8226 - bin_out_loss: 3.1039 - cat_out_acc: 0.0124 - reg_out_angle_mae: 89.7779 - bin_out_angle_bin_rmse: 21.9990 - val_loss: 3.1919 - val_cat_out_loss: 6.1464 - val_reg_out_loss: 10820.8896 - val_bin_out_loss: 3.1919 - val_cat_out_acc: 0.0158 - val_reg_out_angle_mae: 89.8461 - val_bin_out_angle_bin_rmse: 8.9127\n",
            "Epoch 5/70\n",
            "320760/320760 [==============================] - 25s 77us/step - loss: 2.8206 - cat_out_loss: 5.7483 - reg_out_loss: 10811.9883 - bin_out_loss: 2.8206 - cat_out_acc: 0.0148 - reg_out_angle_mae: 89.7789 - bin_out_angle_bin_rmse: 14.5586 - val_loss: 2.9690 - val_cat_out_loss: 6.1071 - val_reg_out_loss: 10819.2512 - val_bin_out_loss: 2.9690 - val_cat_out_acc: 0.0168 - val_reg_out_angle_mae: 89.8550 - val_bin_out_angle_bin_rmse: 6.3540\n",
            "Epoch 6/70\n",
            "320760/320760 [==============================] - 25s 77us/step - loss: 2.6766 - cat_out_loss: 5.8368 - reg_out_loss: 10819.1754 - bin_out_loss: 2.6766 - cat_out_acc: 0.0171 - reg_out_angle_mae: 89.8130 - bin_out_angle_bin_rmse: 11.3537 - val_loss: 2.8375 - val_cat_out_loss: 6.0654 - val_reg_out_loss: 10821.4742 - val_bin_out_loss: 2.8375 - val_cat_out_acc: 0.0184 - val_reg_out_angle_mae: 89.8635 - val_bin_out_angle_bin_rmse: 5.0968\n",
            "Epoch 7/70\n",
            "102400/320760 [========>.....................] - ETA: 15s - loss: 2.6032 - cat_out_loss: 5.8927 - reg_out_loss: 10834.5109 - bin_out_loss: 2.6032 - cat_out_acc: 0.0176 - reg_out_angle_mae: 89.8295 - bin_out_angle_bin_rmse: 9.8268"
          ],
          "name": "stdout"
        }
      ]
    },
    {
      "cell_type": "code",
      "metadata": {
        "id": "kPOrF6RP0s0_",
        "colab_type": "code",
        "colab": {}
      },
      "source": [
        ""
      ],
      "execution_count": 0,
      "outputs": []
    },
    {
      "cell_type": "code",
      "metadata": {
        "colab_type": "code",
        "id": "nukOQRHZg0uB",
        "colab": {}
      },
      "source": [
        "%load_ext tensorboard\n",
        "%reload_ext tensorboard\n",
        "# LOG_PATH did not work for some reason\n",
        "%tensorboard --logdir '/content/gdrive/My Drive/SecondStage_colab/output/'"
      ],
      "execution_count": 0,
      "outputs": []
    },
    {
      "cell_type": "code",
      "metadata": {
        "colab_type": "code",
        "id": "dwb-Lucxg2Bo",
        "colab": {}
      },
      "source": [
        "!pip install -U tensorboard >piplog 2>&1\n",
        "!tensorboard dev upload --logdir '/content/gdrive/My Drive/SecondStage_colab/output/'"
      ],
      "execution_count": 0,
      "outputs": []
    },
    {
      "cell_type": "code",
      "metadata": {
        "colab_type": "code",
        "id": "U6Gdp0D8g8CP",
        "colab": {}
      },
      "source": [
        "!pip install -U tensorboard >piplog 2>&1\n",
        "!tensorboard dev list\n",
        "# You must replace YOUR_EXPERIMENT_ID with the value output from the previous\n",
        "# tensorboard `list` command or `upload` command.  For example\n",
        "# `tensorboard dev delete --experiment_id pQpJNh00RG2Lf1zOe9BrQA`\n",
        "\n",
        "## !tensorboard dev delete --experiment_id YOUR_EXPERIMENT_ID_HERE"
      ],
      "execution_count": 0,
      "outputs": []
    },
    {
      "cell_type": "code",
      "metadata": {
        "colab_type": "code",
        "id": "L68U_e3kg3K5",
        "colab": {}
      },
      "source": [
        "!rm \"/content/gdrive/My Drive/SecondStage_colab/output/\" -rf\n",
        "!ls \"/content/gdrive/My Drive/SecondStage_colab/\""
      ],
      "execution_count": 0,
      "outputs": []
    }
  ]
}