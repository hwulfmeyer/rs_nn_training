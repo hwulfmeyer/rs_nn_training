{
 "cells": [
  {
   "cell_type": "code",
   "execution_count": null,
   "metadata": {},
   "outputs": [],
   "source": [
    "import sys\n",
    "#Fix problem with ros python path\n",
    "sys.path.remove('/opt/ros/kinetic/lib/python2.7/site-packages')"
   ]
  },
  {
   "cell_type": "code",
   "execution_count": null,
   "metadata": {},
   "outputs": [],
   "source": [
    "import numpy as np\n",
    "import os, math\n",
    "import pascal_voc_writer\n",
    "from tqdm import tqdm\n",
    "import cv2\n",
    "import csv\n",
    "from CNNRobotLocalisation.Utils.utils import *"
   ]
  },
  {
   "cell_type": "code",
   "execution_count": null,
   "metadata": {},
   "outputs": [],
   "source": [
    "path = \"/media/data/LocalizationDataNew/Output/Orientation/180420_by_nl_sphero_eval2.avi\"\n",
    "size = 50"
   ]
  },
  {
   "cell_type": "code",
   "execution_count": null,
   "metadata": {},
   "outputs": [],
   "source": [
    "files = get_recursive_file_list(path,file_extensions=[\".xml\"])   \n",
    "    \n",
    "def save(f,orientation, defined):\n",
    "    with open(f) as file:\n",
    "        content = file.read()\n",
    "    content = re.sub(\"<pose>.*</pose>\", \"<pose>\"+str(orientation)+\"</pose>\",content)\n",
    "    content = re.sub(\"<pose_defined>.*</pose_defined>\", \"<pose_defined>\"+str(defined)+\"</pose_defined>\",content)\n",
    "    with open(f,'w') as file:\n",
    "        content = file.write(content)\n",
    "\n",
    "def load(f):\n",
    "    data = parseXML(f)['annotation']\n",
    "    obj = data['object'][0]\n",
    "    pose = obj['pose']\n",
    "    if pose == 'Unspecified': pose = 0\n",
    "    else: pose = int(pose)\n",
    "    cx = int((int(obj['bndbox']['xmin']) + int(obj['bndbox']['xmax']))/2)\n",
    "    cy = int((int(obj['bndbox']['ymin']) + int(obj['bndbox']['ymax']))/2)\n",
    "    return cx,cy,pose,obj\n",
    "        \n",
    "i = 0\n",
    "while(1):  \n",
    "    frame = cv2.imread(files[i].replace('.xml','.jpg'))\n",
    "    cx,cy,theta,obj_dict = load(files[i])\n",
    "    pose_defined = int(obj_dict['pose_defined'])\n",
    "    if pose_defined==0:\n",
    "        cv2.putText(frame,'pose undefined', \n",
    "            (100,100), \n",
    "            cv2.FONT_HERSHEY_SIMPLEX, \n",
    "            0.8,\n",
    "            (0,0,255),\n",
    "            2)\n",
    "    else:\n",
    "        xOff = math.sin(theta*np.pi/180)*size\n",
    "        yOff = math.cos(theta*np.pi/180)*size\n",
    "        cv2.arrowedLine(frame,\n",
    "                    (int(cx+xOff),int(cy+yOff)),\n",
    "                    (int(cx-xOff),int(cy-yOff)), \n",
    "                    (0,0,255),1)\n",
    "    cv2.putText(frame,files[i].rsplit('/',1)[1], \n",
    "            (100,1000), \n",
    "            cv2.FONT_HERSHEY_SIMPLEX, \n",
    "            0.8,\n",
    "            (255,0,0),\n",
    "            2)\n",
    "\n",
    "    cv2.imshow('outframe', frame)\n",
    "\n",
    "    key = cv2.waitKey(-1)\n",
    "    if key & 0xFF == ord('j'):\n",
    "        theta = (theta - 90) % 360\n",
    "    if key & 0xFF == ord('l'):\n",
    "        theta = (theta + 180) % 360\n",
    "    if key & 0xFF == ord('k'):\n",
    "        theta = (theta - 4) % 360\n",
    "    if key & 0xFF == ord('i'):\n",
    "        theta = (theta + 4) % 360\n",
    "    if key & 0xFF == ord('u'):\n",
    "        pose_defined = (pose_defined+1)%2\n",
    "    save(files[i],theta,pose_defined)\n",
    "    if key & 0xFF == ord('a') and i > 0:\n",
    "        i -= 1\n",
    "    if key & 0xFF == ord('d') and i < len(files)-1:\n",
    "        i += 1\n",
    "    if key & 0xFF == ord('w') and i < len(files)-1:\n",
    "        i += 1\n",
    "        # Use pose of last frame\n",
    "        save(files[i],theta,pose_defined)\n",
    "    if key & 0xFF == ord('q'):\n",
    "        break\n",
    "\n",
    "cv2.destroyAllWindows()"
   ]
  },
  {
   "cell_type": "code",
   "execution_count": null,
   "metadata": {},
   "outputs": [],
   "source": []
  }
 ],
 "metadata": {
  "kernelspec": {
   "display_name": "Python 3",
   "language": "python",
   "name": "python3"
  },
  "language_info": {
   "codemirror_mode": {
    "name": "ipython",
    "version": 3
   },
   "file_extension": ".py",
   "mimetype": "text/x-python",
   "name": "python",
   "nbconvert_exporter": "python",
   "pygments_lexer": "ipython3",
   "version": "3.6.5"
  }
 },
 "nbformat": 4,
 "nbformat_minor": 2
}
