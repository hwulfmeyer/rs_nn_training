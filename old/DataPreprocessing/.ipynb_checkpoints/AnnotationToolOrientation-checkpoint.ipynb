{
 "cells": [
  {
   "cell_type": "code",
   "execution_count": null,
   "metadata": {},
   "outputs": [],
   "source": [
    "import sys\n",
    "#Fix problem with ros python path\n",
    "sys.path.remove('/opt/ros/kinetic/lib/python2.7/dist-packages')"
   ]
  },
  {
   "cell_type": "code",
   "execution_count": null,
   "metadata": {},
   "outputs": [],
   "source": [
    "import numpy as np\n",
    "import os, math\n",
    "import pascal_voc_writer\n",
    "from tqdm import tqdm\n",
    "import cv2\n",
    "import csv"
   ]
  },
  {
   "cell_type": "code",
   "execution_count": null,
   "metadata": {},
   "outputs": [],
   "source": [
    "path = \"/media/data/LocalizationData/Output/Validation/CoptersFlying1/Orientation/\"\n",
    "size = 200"
   ]
  },
  {
   "cell_type": "code",
   "execution_count": null,
   "metadata": {},
   "outputs": [],
   "source": [
    "def save(rows):\n",
    "    with open(path+'orientations.csv', 'w') as csvfile:\n",
    "        spamwriter = csv.writer(csvfile, delimiter=',', quotechar='\"', quoting=csv.QUOTE_MINIMAL)\n",
    "        for row in rows:\n",
    "            spamwriter.writerow(row)\n",
    "    print(\"Saved.\")"
   ]
  },
  {
   "cell_type": "code",
   "execution_count": null,
   "metadata": {},
   "outputs": [],
   "source": [
    "files = []\n",
    "thetas = []\n",
    "cxs = []\n",
    "cys = []\n",
    "with open(path+'orientations.csv', 'r') as csvfile:\n",
    "    spamreader = csv.reader(csvfile, delimiter=',', quotechar='\"')\n",
    "    for row in spamreader:\n",
    "        files.append(row[0])\n",
    "        thetas.append(float(row[1]))\n",
    "        cxs.append(int(row[2]))\n",
    "        cys.append(int(row[3]))\n",
    "        \n",
    "i = 0\n",
    "while(1):  \n",
    "    frame = cv2.imread(files[i])\n",
    "    xOff = math.sin(thetas[i]*np.pi/180)*size\n",
    "    yOff = math.cos(thetas[i]*np.pi/180)*size\n",
    "    cv2.arrowedLine(frame,\n",
    "                (int(cxs[i]+xOff),int(cys[i]+yOff)),\n",
    "                (int(cxs[i]-xOff),int(cys[i]-yOff)), \n",
    "                (0,0,255),2)\n",
    "    cv2.imshow('outframe', frame)\n",
    "\n",
    "    key = cv2.waitKey(-1)\n",
    "    if key & 0xFF == ord('j'):\n",
    "        thetas[i] = (thetas[i] - 5) % 360\n",
    "    if key & 0xFF == ord('l'):\n",
    "        thetas[i] = (thetas[i] + 5) % 360\n",
    "    if key & 0xFF == ord('k'):\n",
    "        thetas[i] = (thetas[i] - 2) % 360\n",
    "    if key & 0xFF == ord('i'):\n",
    "        thetas[i] = (thetas[i] + 2) % 360\n",
    "    if key & 0xFF == ord('a') and i > 0:\n",
    "        i -= 1\n",
    "    if key & 0xFF == ord('d') and i < len(files)-1:\n",
    "        i += 1\n",
    "    if key & 0xFF == ord('s'):\n",
    "        save(np.column_stack((np.asarray(files),thetas,cxs,cys)))\n",
    "    if key & 0xFF == ord('q'):\n",
    "        break\n",
    "\n",
    "save(np.column_stack((np.asarray(files),thetas,cxs,cys)))        \n",
    "cv2.destroyAllWindows()"
   ]
  },
  {
   "cell_type": "code",
   "execution_count": null,
   "metadata": {},
   "outputs": [],
   "source": []
  },
  {
   "cell_type": "code",
   "execution_count": null,
   "metadata": {},
   "outputs": [],
   "source": []
  }
 ],
 "metadata": {
  "kernelspec": {
   "display_name": "Python 3",
   "language": "python",
   "name": "python3"
  },
  "language_info": {
   "codemirror_mode": {
    "name": "ipython",
    "version": 3
   },
   "file_extension": ".py",
   "mimetype": "text/x-python",
   "name": "python",
   "nbconvert_exporter": "python",
   "pygments_lexer": "ipython3",
   "version": "3.5.2"
  }
 },
 "nbformat": 4,
 "nbformat_minor": 2
}
