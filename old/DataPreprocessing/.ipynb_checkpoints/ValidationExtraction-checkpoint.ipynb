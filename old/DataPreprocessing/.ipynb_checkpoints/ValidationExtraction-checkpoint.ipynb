{
 "cells": [
  {
   "cell_type": "code",
   "execution_count": null,
   "metadata": {},
   "outputs": [],
   "source": [
    "import sys\n",
    "#Fix problem with ros python path\n",
    "try:\n",
    "    sys.path.remove('/opt/ros/kinetic/lib/python2.7/dist-packages')\n",
    "except ValueError:\n",
    "    pass\n",
    "try:\n",
    "    sys.path.remove('/opt/ros/kinetic/lib/python2.7/site-packages')\n",
    "except ValueError:\n",
    "    pass"
   ]
  },
  {
   "cell_type": "code",
   "execution_count": null,
   "metadata": {},
   "outputs": [],
   "source": [
    "import numpy as np\n",
    "import cv2\n",
    "import os\n",
    "import pascal_voc_writer\n",
    "from tqdm import tqdm\n",
    "import fileinput"
   ]
  },
  {
   "cell_type": "code",
   "execution_count": null,
   "metadata": {},
   "outputs": [],
   "source": [
    "import os\n",
    "module_path = os.path.abspath(os.path.join('..'))\n",
    "if module_path not in sys.path:\n",
    "    sys.path.append(module_path)\n",
    "%load_ext autoreload\n",
    "from Utils.utils import *\n",
    "%autoreload"
   ]
  },
  {
   "cell_type": "code",
   "execution_count": null,
   "metadata": {},
   "outputs": [],
   "source": [
    "PATH = \"/media/data/LocalizationDataNew/DataSwarmlab/EvalData1/\"\n",
    "OUT_PATH =\"/media/data/LocalizationDataNew/Output/EvalData1/\"\n",
    "VIDEO = '180420_by_al_youbot'\n",
    "video_files = get_recursive_file_list(PATH, file_excludes=[\"back\"],file_extensions=[\".avi\"])"
   ]
  },
  {
   "cell_type": "markdown",
   "metadata": {},
   "source": [
    "## Create meta.csv\n",
    "\n",
    "* run cell\n",
    "* fill meta.csv\n",
    "    * robot type: sphero, copter, youbot\n",
    "    * identification: A, B, C, LED"
   ]
  },
  {
   "cell_type": "code",
   "execution_count": null,
   "metadata": {},
   "outputs": [],
   "source": [
    "meta_rows = [('filename','robot_type','identification')]\n",
    "for f in video_files:\n",
    "    meta_rows.append([f.replace(PATH+'/','')])\n",
    "if not os.path.isfile(PATH+\"/meta.csv\"):\n",
    "    writeCSV(PATH+\"/meta.csv\", meta_rows)\n",
    "    print('Created meta.csv')\n",
    "else:\n",
    "    print('meta.csv already exists')"
   ]
  },
  {
   "cell_type": "markdown",
   "metadata": {},
   "source": [
    "## Extract Bounding Boxes\n",
    "\n",
    "* Run cell. It'll create for each video three subdirs with following content:\n",
    "    * Manual: No or more than one object was detected\n",
    "    * Automatic: Exactly one object was detected\n",
    "    * Automatic_Debug: Crops of automatically detected objects\n",
    "* Check Automatic_Debug crops\n",
    "* If crops are too bad, adjust parameters"
   ]
  },
  {
   "cell_type": "code",
   "execution_count": null,
   "metadata": {
    "scrolled": true
   },
   "outputs": [],
   "source": [
    "%autoreload\n",
    "MODULO_FRAMES = 4\n",
    "\n",
    "for f in video_files:\n",
    "    if VIDEO not in f: continue\n",
    "    print(f)\n",
    "    meta = get_meta_info(PATH+'/meta.csv',f.rsplit('/',1)[1])[0]\n",
    "    fgbg = cv2.bgsegm.createBackgroundSubtractorMOG()\n",
    "    cap = cv2.VideoCapture(f)\n",
    "    num_frames = int(cap.get(cv2.CAP_PROP_FRAME_COUNT))\n",
    "    \n",
    "    # Init background model\n",
    "    for i in range(num_frames):\n",
    "        if i%round(num_frames/50)==0:\n",
    "            ret, frame = cap.read()\n",
    "            mask = fgbg.apply(frame)\n",
    "        else:\n",
    "            cap.grab()\n",
    "    cap.release()\n",
    "    \n",
    "    # Extract foreground\n",
    "    cap = cv2.VideoCapture(f)\n",
    "    for i in tqdm(range(num_frames)):\n",
    "        if i%MODULO_FRAMES==0:\n",
    "            ret, frame = cap.read()\n",
    "            mask = generateMaskMOG(fgbg, frame)\n",
    "            im2, contours, hierarchy = cv2.findContours(mask,cv2.RETR_EXTERNAL,cv2.CHAIN_APPROX_SIMPLE)\n",
    "            \n",
    "            #os.makedirs(f.replace(PATH,OUT_PATH), exist_ok=True)\n",
    "            #cv2.imwrite(f.replace(PATH,OUT_PATH)+\"/\"+\"frame\"+str(i).zfill(6)+\".jpg\", frame)\n",
    "            saveVOCBoundingBoxes(f.replace(PATH,OUT_PATH), frame, contours, i, \n",
    "                                 meta['robot_type'], meta['identification'],\n",
    "                                 90, 500, 1.0, (130,170), (1300,1100), 4, False)\n",
    "            # copter: 50, 300, 0.2, 8\n",
    "            # youbot: 90, 260, 1.0, (130,170), (1240,1010), 8\n",
    "            # sphero: 10, 80, 0.2, (130,170), (1240,1010), 4\n",
    "        else:\n",
    "            cap.grab()\n",
    "\n",
    "    cap.release()"
   ]
  },
  {
   "cell_type": "markdown",
   "metadata": {
    "collapsed": true
   },
   "source": [
    "* Move corrected files to **subdir Bounding Boxes**\n",
    "* Use labelImg to create/edit bounding boxes"
   ]
  },
  {
   "cell_type": "markdown",
   "metadata": {},
   "source": [
    "## Classification\n",
    "\n",
    "* only for and sphero with changing led color"
   ]
  },
  {
   "cell_type": "code",
   "execution_count": null,
   "metadata": {},
   "outputs": [],
   "source": [
    "# Check if labeling is completed\n",
    "\n",
    "jpg_files = get_recursive_file_list(OUT_PATH, file_matchers=[\"BoundingBoxes\"],file_extensions=[\".jpg\"])\n",
    "for f in jpg_files:\n",
    "    data = parseXML(f.replace('.jpg','.xml'))['annotation']\n",
    "    if 'object' not in data or len(data['object'])!=1:\n",
    "        print(f)"
   ]
  },
  {
   "cell_type": "code",
   "execution_count": null,
   "metadata": {
    "scrolled": true
   },
   "outputs": [],
   "source": [
    "# Save robot crops for easy classification\n",
    "\n",
    "%autoreload\n",
    "jpg_files = get_recursive_file_list(OUT_PATH, file_matchers=[\"BoundingBoxes\"],file_extensions=[\".jpg\"])\n",
    "for f in tqdm(jpg_files):\n",
    "    if \"sphero\" not in f: continue\n",
    "    img = cv2.imread(f)\n",
    "    data = parseXML(f.replace('.jpg','.xml'))['annotation']\n",
    "    assert len(data['object'])==1\n",
    "    obj = data['object'][0]\n",
    "    crop = img[int(obj['bndbox']['ymin']):int(obj['bndbox']['ymax']),\n",
    "               int(obj['bndbox']['xmin']):int(obj['bndbox']['xmax'])]\n",
    "    assert 'BoundingBoxes' in f\n",
    "    os.makedirs(f.replace('BoundingBoxes','Crops').rsplit('/',1)[0],exist_ok=True)\n",
    "    cv2.imwrite(f.replace('BoundingBoxes','Crops'), crop)"
   ]
  },
  {
   "cell_type": "code",
   "execution_count": null,
   "metadata": {},
   "outputs": [],
   "source": [
    "# Crop folder structure to csv\n",
    "\n",
    "crop_files = get_recursive_file_list(OUT_PATH, file_matchers=[\"Crops\"],file_extensions=[\".jpg\"])\n",
    "csv_dict = {}\n",
    "for i,f in enumerate(crop_files):\n",
    "    _,source,_,cat,frame = f.rsplit('/',4)\n",
    "    if source not in csv_dict: \n",
    "        csv_dict[source] = {}\n",
    "    csv_dict[source][frame] = cat\n",
    "    #if i > 1000: break\n",
    "        \n",
    "for k,d in csv_dict.items():\n",
    "    print(k)\n",
    "    rows = []\n",
    "    for frame, cat in sorted(d.items()):\n",
    "        rows.append((frame,cat))\n",
    "    writeCSV(OUT_PATH+k.replace('.avi','_id.csv'), rows)"
   ]
  },
  {
   "cell_type": "markdown",
   "metadata": {},
   "source": [
    "**TODO:** copy csv files to DataSwarmlab/EvalData1/"
   ]
  },
  {
   "cell_type": "code",
   "execution_count": null,
   "metadata": {},
   "outputs": [],
   "source": [
    "# Check if led sequence is correct\n",
    "COPTER_SEQ = [\"black_black\",\"black_orange\",\"black_green\",\"black_blue\",\"black_white\",\"orange_orange\",\"orange_green\",\"orange_blue\",\"orange_white\",\"green_green\",\"green_blue\",\"green_white\",\"blue_blue\",\"blue_white\",\"white_white\"]\n",
    "SPHERO_SEQ = [\"black\",\"dark_red\",\"dark_green\",\"dark_blue\",\"bright_red\",\"bright_green\",\"bright_blue\",\"bright_white\"]\n",
    "csv_files = get_recursive_file_list(PATH, file_extensions=['_id.csv'])\n",
    "for csv_file in csv_files:\n",
    "    if 'copter' in csv_file:\n",
    "        seq = COPTER_SEQ\n",
    "    elif 'sphero' in csv_file:\n",
    "        seq = SPHERO_SEQ\n",
    "    else:\n",
    "        print('Skip {}'.format(csv_file))\n",
    "        continue\n",
    "    print(csv_file)\n",
    "    rows = readCSV(csv_file)\n",
    "    last_i = -1\n",
    "    for r in rows:\n",
    "        csv_cat = r[1]\n",
    "        if csv_cat == 'undefined':\n",
    "            continue\n",
    "        current_i = seq.index(csv_cat)\n",
    "        if last_i == -1:\n",
    "            last_i = current_i\n",
    "        elif current_i != last_i:\n",
    "            print(csv_cat)\n",
    "            if current_i != (last_i+1)%len(seq):\n",
    "                print('Error for {}. Expected {}'.format(r,seq[(last_i+1)%len(seq)]))\n",
    "            last_i = current_i"
   ]
  },
  {
   "cell_type": "code",
   "execution_count": null,
   "metadata": {},
   "outputs": [],
   "source": [
    "# Insert ids from csv into pascal voc\n",
    "\n",
    "#xml_files = get_recursive_file_list(PATH, file_matchers=[\"BoundingBoxes\"],file_extensions=[\".xml\"])\n",
    "csv_files = get_recursive_file_list(PATH, file_extensions=['_id.csv'])\n",
    "for csv_file in csv_files:\n",
    "    #if 'copter_led' not in csv_file:\n",
    "    #    continue\n",
    "    print(csv_file)\n",
    "    rows = readCSV(csv_file)\n",
    "    for r in rows:\n",
    "        xml_file = OUT_PATH+csv_file.rsplit('/',1)[1].replace('_id.csv','.avi/')+'/BoundingBoxes/'\n",
    "        xml_file += r[0].replace('.jpg','.xml')\n",
    "        csv_cat = r[1]\n",
    "        #print(xml_file)\n",
    "        data = parseXML(xml_file)['annotation']\n",
    "        assert len(data['object'])==1\n",
    "\n",
    "        with open(xml_file) as file:\n",
    "            content = file.read()\n",
    "        content = re.sub('/.*</name>', '/'+csv_cat+\"</name>\", content)\n",
    "        assert 'BoundingBoxes' in xml_file\n",
    "        os.makedirs(xml_file.replace('BoundingBoxes','ClassifiedBB').rsplit('/',1)[0],exist_ok=True)\n",
    "        with open(xml_file.replace('BoundingBoxes','ClassifiedBB'),'w') as file:\n",
    "            content = file.write(content)    "
   ]
  },
  {
   "cell_type": "markdown",
   "metadata": {},
   "source": [
    "## Other code snippets"
   ]
  },
  {
   "cell_type": "code",
   "execution_count": null,
   "metadata": {},
   "outputs": [],
   "source": [
    "# Improve size of bouding boxes for spheros\n",
    "path = '/media/data2/LocalizationDataNew/Output/EvalData1/'\n",
    "target_size = (25,25)\n",
    "xml_files = get_recursive_file_list(path, file_matchers=[\"BoundingBoxes\"],file_extensions=[\".xml\"])\n",
    "for f in tqdm(xml_files):\n",
    "    if 'sphero' not in f: continue\n",
    "    data = parseXML(f)['annotation']\n",
    "    assert len(data['object'])==1\n",
    "    assert 'sphero' in f\n",
    "    obj = data['object'][0]\n",
    "    xmin = int(obj['bndbox']['xmin'])\n",
    "    ymin = int(obj['bndbox']['ymin'])\n",
    "    xmax = int(obj['bndbox']['xmax'])\n",
    "    ymax = int(obj['bndbox']['ymax'])\n",
    "    xtardiff = int(((xmax-xmin) - target_size[0]) / 2)\n",
    "    ytardiff = int(((ymax-ymin) - target_size[1]) / 2)\n",
    "    #with fileinput.FileInput(f, inplace=True) as file:\n",
    "    #    for line in file:\n",
    "    #        # <xmin>720</xmin>\n",
    "    #        print(re.sub(\"<xmin>.*</xmin>\", \"<xmin>\"+str(xmin-xtardiff)+\"</xmin>\",line))\n",
    "    with open(f) as file:\n",
    "        content = file.read()\n",
    "    content = re.sub(\"<xmin>.*</xmin>\", \"<xmin>\"+str(xmin+xtardiff)+\"</xmin>\",content) \n",
    "    content = re.sub(\"<ymin>.*</ymin>\", \"<ymin>\"+str(ymin+ytardiff)+\"</ymin>\",content)\n",
    "    content = re.sub(\"<xmax>.*</xmax>\", \"<xmax>\"+str(xmax-xtardiff)+\"</xmax>\",content)\n",
    "    content = re.sub(\"<ymax>.*</ymax>\", \"<ymax>\"+str(ymax-ytardiff)+\"</ymax>\",content)\n",
    "    assert 'BoundingBoxes' in f\n",
    "    #os.makedirs(f.replace('BoundingBoxes','BoundingBoxes2').rsplit('/',1)[0],exist_ok=True)\n",
    "    with open(f.replace('BoundingBoxes','BoundingBoxes2'),'w') as file:\n",
    "        content = file.write(content)"
   ]
  },
  {
   "cell_type": "code",
   "execution_count": null,
   "metadata": {},
   "outputs": [],
   "source": []
  }
 ],
 "metadata": {
  "kernelspec": {
   "display_name": "Python 3",
   "language": "python",
   "name": "python3"
  },
  "language_info": {
   "codemirror_mode": {
    "name": "ipython",
    "version": 3
   },
   "file_extension": ".py",
   "mimetype": "text/x-python",
   "name": "python",
   "nbconvert_exporter": "python",
   "pygments_lexer": "ipython3",
   "version": "3.6.5"
  }
 },
 "nbformat": 4,
 "nbformat_minor": 2
}
