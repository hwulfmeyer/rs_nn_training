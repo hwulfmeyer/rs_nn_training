{
 "cells": [
  {
   "cell_type": "code",
   "execution_count": null,
   "metadata": {},
   "outputs": [],
   "source": [
    "%matplotlib inline\n",
    "from pycocotools.coco import COCO\n",
    "import numpy as np\n",
    "import skimage.io as io\n",
    "import matplotlib.pyplot as plt\n",
    "import pylab\n",
    "from CNNRobotLocalisation.Utils.utils import *\n",
    "pylab.rcParams['figure.figsize'] = (8.0, 10.0)"
   ]
  },
  {
   "cell_type": "code",
   "execution_count": null,
   "metadata": {},
   "outputs": [],
   "source": [
    "outDir='/media/data/LocalizationDataNew/Output/CocoObjects'\n",
    "dataDir='/media/data/LocalizationDataNew/ChallegeDatasets'\n",
    "dataType='val2017'\n",
    "annFile='{}/annotations/instances_{}.json'.format(dataDir,dataType)"
   ]
  },
  {
   "cell_type": "code",
   "execution_count": null,
   "metadata": {},
   "outputs": [],
   "source": [
    "# initialize COCO api for instance annotations\n",
    "coco=COCO(annFile)"
   ]
  },
  {
   "cell_type": "code",
   "execution_count": null,
   "metadata": {
    "scrolled": true
   },
   "outputs": [],
   "source": [
    "# display COCO categories and supercategories\n",
    "cats = coco.loadCats(coco.getCatIds())\n",
    "nms=[cat['name'] for cat in cats]\n",
    "print('COCO categories: \\n{}\\n'.format(' '.join(nms)))\n",
    "\n",
    "nms = set([cat['supercategory'] for cat in cats])\n",
    "print('COCO supercategories: \\n{}'.format(' '.join(nms)))"
   ]
  },
  {
   "cell_type": "code",
   "execution_count": null,
   "metadata": {},
   "outputs": [],
   "source": [
    "# get all images containing given categories, select one at random\n",
    "catIds = coco.getCatIds(catNms=['person','dog','skateboard']);\n",
    "imgIds = coco.getImgIds(catIds=catIds );\n",
    "imgIds = coco.getImgIds(imgIds = [324158])\n",
    "img = coco.loadImgs(imgIds[np.random.randint(0,len(imgIds))])[0]"
   ]
  },
  {
   "cell_type": "code",
   "execution_count": null,
   "metadata": {
    "scrolled": true
   },
   "outputs": [],
   "source": [
    "from PIL import Image\n",
    "from tqdm import tqdm\n",
    "#catIds = coco.getCatIds(catNms=['person']);\n",
    "#imgIds = coco.getImgIds(catIds=catIds );\n",
    "imgIds = coco.getImgIds()\n",
    "\n",
    "#imgIds = coco.getImgIds(imgIds = [324158])\n",
    "#img = coco.loadImgs(imgIds[np.random.randint(0,len(imgIds))])[0]\n",
    "#print(imgIds)\n",
    "#img = coco.loadImgs(imgIds[0])[0]\n",
    "\n",
    "files = os.listdir(dataDir+'/'+dataType)\n",
    "i = 0\n",
    "for imgId in tqdm(imgIds):\n",
    "    img = coco.loadImgs(imgId)[0]\n",
    "    try:   \n",
    "        I = io.imread('%s/%s/%s'%(dataDir,dataType,img['file_name']))\n",
    "    except FileNotFoundError as e:\n",
    "        print('Catched {}. Skip {}'.format(e,img['file_name']))\n",
    "        continue\n",
    "    if len(I.shape) != 3 or I.shape[2] != 3:\n",
    "        print('Skip')\n",
    "        continue\n",
    "    annIds = coco.getAnnIds(imgIds=img['id'], catIds=catIds, iscrowd=None)\n",
    "    anns = coco.loadAnns(annIds)\n",
    "    for a in anns:\n",
    "        mask = coco.annToMask(a)\n",
    "        x,y,w,h = a['bbox']\n",
    "        comb = applyAlphaMask(I, mask)\n",
    "        crop = comb[int(y):int(y+h), int(x):int(x+w)]\n",
    "        pil_crop = Image.fromarray(crop)\n",
    "        pil_crop.save(outDir + '/img{:05d}.png'.format(i))\n",
    "        i += 1"
   ]
  },
  {
   "cell_type": "code",
   "execution_count": null,
   "metadata": {},
   "outputs": [],
   "source": []
  }
 ],
 "metadata": {
  "kernelspec": {
   "display_name": "Python 3",
   "language": "python",
   "name": "python3"
  },
  "language_info": {
   "codemirror_mode": {
    "name": "ipython",
    "version": 3
   },
   "file_extension": ".py",
   "mimetype": "text/x-python",
   "name": "python",
   "nbconvert_exporter": "python",
   "pygments_lexer": "ipython3",
   "version": "3.6.5"
  }
 },
 "nbformat": 4,
 "nbformat_minor": 1
}
