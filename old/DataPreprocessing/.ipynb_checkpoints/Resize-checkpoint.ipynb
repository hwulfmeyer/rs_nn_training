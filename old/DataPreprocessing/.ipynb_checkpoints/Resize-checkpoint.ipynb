{
 "cells": [
  {
   "cell_type": "code",
   "execution_count": null,
   "metadata": {},
   "outputs": [],
   "source": [
    "import os\n",
    "import numpy as np\n",
    "import numpy.random as nr\n",
    "import PIL\n",
    "from PIL import Image, ImageDraw, ImageFilter\n",
    "from matplotlib import pyplot as plt\n",
    "\n",
    "%matplotlib inline"
   ]
  },
  {
   "cell_type": "code",
   "execution_count": null,
   "metadata": {},
   "outputs": [],
   "source": [
    "in_dir = \"/media/data/LocalizationData/COCO\"\n",
    "out_dir = \"/media/data/LocalizationData/Background/COCO\""
   ]
  },
  {
   "cell_type": "code",
   "execution_count": null,
   "metadata": {},
   "outputs": [],
   "source": [
    "backgroundFileList = []\n",
    "for root, dirs, files in os.walk(in_dir):\n",
    "    os.makedirs(root.replace(in_dir,out_dir), exist_ok=True)\n",
    "    for f in files:\n",
    "        filePath = root+'/'+f\n",
    "        newFilePath = filePath.replace(in_dir,out_dir)\n",
    "        print(filePath)\n",
    "        #Image.open(filePath).resize((1600, 1200), resample=PIL.Image.LANCZOS).save(newFilePath)\n",
    "        Image.open(filePath).resize((600, 450), resample=PIL.Image.LANCZOS).save(newFilePath)"
   ]
  },
  {
   "cell_type": "code",
   "execution_count": null,
   "metadata": {},
   "outputs": [],
   "source": []
  }
 ],
 "metadata": {
  "kernelspec": {
   "display_name": "Python 3",
   "language": "python",
   "name": "python3"
  },
  "language_info": {
   "codemirror_mode": {
    "name": "ipython",
    "version": 3
   },
   "file_extension": ".py",
   "mimetype": "text/x-python",
   "name": "python",
   "nbconvert_exporter": "python",
   "pygments_lexer": "ipython3",
   "version": "3.5.2"
  }
 },
 "nbformat": 4,
 "nbformat_minor": 2
}
